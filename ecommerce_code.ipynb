{
 "cells": [
  {
   "cell_type": "code",
   "execution_count": 1,
   "id": "4331274e",
   "metadata": {
    "_cell_guid": "b1076dfc-b9ad-4769-8c92-a6c4dae69d19",
    "_uuid": "8f2839f25d086af736a60e9eeb907d3b93b6e0e5",
    "execution": {
     "iopub.execute_input": "2023-04-03T23:52:52.869510Z",
     "iopub.status.busy": "2023-04-03T23:52:52.869065Z",
     "iopub.status.idle": "2023-04-03T23:52:52.885340Z",
     "shell.execute_reply": "2023-04-03T23:52:52.883950Z"
    },
    "papermill": {
     "duration": 0.067129,
     "end_time": "2023-04-03T23:52:52.889005",
     "exception": false,
     "start_time": "2023-04-03T23:52:52.821876",
     "status": "completed"
    },
    "tags": []
   },
   "outputs": [
    {
     "name": "stdout",
     "output_type": "stream",
     "text": [
      "/kaggle/input/e-commerce-shoppers-behaviour-understanding/test_data_v2.csv\n",
      "/kaggle/input/e-commerce-shoppers-behaviour-understanding/train_data_v2.csv\n",
      "/kaggle/input/e-commerce-shoppers-behaviour-understanding/sample.csv\n"
     ]
    }
   ],
   "source": [
    "# This Python 3 environment comes with many helpful analytics libraries installed\n",
    "# It is defined by the kaggle/python Docker image: https://github.com/kaggle/docker-python\n",
    "# For example, here's several helpful packages to load\n",
    "\n",
    "import numpy as np # linear algebra\n",
    "import pandas as pd # data processing, CSV file I/O (e.g. pd.read_csv)\n",
    "\n",
    "# Input data files are available in the read-only \"../input/\" directory\n",
    "# For example, running this (by clicking run or pressing Shift+Enter) will list all files under the input directory\n",
    "\n",
    "import os\n",
    "for dirname, _, filenames in os.walk('/kaggle/input'):\n",
    "    for filename in filenames:\n",
    "        print(os.path.join(dirname, filename))\n",
    "\n",
    "# You can write up to 20GB to the current directory (/kaggle/working/) that gets preserved as output when you create a version using \"Save & Run All\" \n",
    "# You can also write temporary files to /kaggle/temp/, but they won't be saved outside of the current session"
   ]
  },
  {
   "cell_type": "code",
   "execution_count": 2,
   "id": "64a9be26",
   "metadata": {
    "execution": {
     "iopub.execute_input": "2023-04-03T23:52:52.968232Z",
     "iopub.status.busy": "2023-04-03T23:52:52.967848Z",
     "iopub.status.idle": "2023-04-03T23:52:56.861007Z",
     "shell.execute_reply": "2023-04-03T23:52:56.859719Z"
    },
    "papermill": {
     "duration": 3.936405,
     "end_time": "2023-04-03T23:52:56.864087",
     "exception": false,
     "start_time": "2023-04-03T23:52:52.927682",
     "status": "completed"
    },
    "tags": []
   },
   "outputs": [],
   "source": [
    "import matplotlib.pyplot as plt\n",
    "import seaborn as sns\n",
    "import plotly.express as px\n",
    "from pprint import pprint\n",
    "from scipy import stats\n",
    "import warnings\n",
    "warnings.filterwarnings(\"ignore\")\n",
    "\n",
    "from sklearn.experimental import enable_iterative_imputer\n",
    "from sklearn.impute import SimpleImputer, KNNImputer, IterativeImputer\n",
    "from sklearn.preprocessing import OneHotEncoder, StandardScaler, FunctionTransformer, MinMaxScaler\n",
    "from sklearn.preprocessing import PowerTransformer, LabelEncoder, OrdinalEncoder\n",
    "\n",
    "from sklearn.feature_selection import RFECV, SelectPercentile, SelectKBest, SelectFromModel\n",
    "from sklearn.feature_selection import SequentialFeatureSelector, mutual_info_classif, chi2\n",
    "\n",
    "from sklearn.pipeline import Pipeline\n",
    "from sklearn.compose import ColumnTransformer\n",
    "\n",
    "from sklearn.model_selection import GridSearchCV, train_test_split, cross_validate, cross_val_score\n",
    "from sklearn.model_selection import StratifiedKFold, StratifiedShuffleSplit\n",
    "\n",
    "from sklearn.decomposition import PCA\n",
    "from sklearn.manifold import Isomap, TSNE\n",
    "\n",
    "from imblearn.over_sampling import RandomOverSampler\n",
    "\n",
    "from sklearn.dummy import DummyClassifier\n",
    "from sklearn.linear_model import LogisticRegression, LogisticRegressionCV, SGDClassifier, Perceptron\n",
    "from sklearn.linear_model import RidgeClassifier, RidgeClassifierCV\n",
    "from sklearn.cluster import KMeans, AgglomerativeClustering\n",
    "from sklearn.discriminant_analysis import LinearDiscriminantAnalysis, QuadraticDiscriminantAnalysis\n",
    "from sklearn.naive_bayes import GaussianNB, ComplementNB\n",
    "from sklearn.neighbors import KNeighborsClassifier\n",
    "from sklearn.svm import SVC, LinearSVC\n",
    "from sklearn.tree import DecisionTreeClassifier, ExtraTreeClassifier\n",
    "from sklearn.ensemble import AdaBoostClassifier, GradientBoostingClassifier\n",
    "from sklearn.ensemble import RandomForestClassifier, VotingClassifier, BaggingClassifier\n",
    "from sklearn.ensemble import StackingClassifier, ExtraTreesClassifier, HistGradientBoostingClassifier\n",
    "from xgboost import XGBClassifier\n",
    "from sklearn.neural_network import MLPClassifier\n",
    "\n",
    "from sklearn.metrics import classification_report, f1_score, roc_curve, auc, RocCurveDisplay\n",
    "from sklearn.metrics import precision_score, recall_score, accuracy_score, confusion_matrix, ConfusionMatrixDisplay"
   ]
  },
  {
   "cell_type": "code",
   "execution_count": 3,
   "id": "df9def00",
   "metadata": {
    "execution": {
     "iopub.execute_input": "2023-04-03T23:52:56.945065Z",
     "iopub.status.busy": "2023-04-03T23:52:56.943882Z",
     "iopub.status.idle": "2023-04-03T23:52:57.075768Z",
     "shell.execute_reply": "2023-04-03T23:52:57.074448Z"
    },
    "papermill": {
     "duration": 0.175016,
     "end_time": "2023-04-03T23:52:57.078358",
     "exception": false,
     "start_time": "2023-04-03T23:52:56.903342",
     "status": "completed"
    },
    "tags": []
   },
   "outputs": [
    {
     "data": {
      "text/plain": [
       "((14731, 22), (6599, 21))"
      ]
     },
     "execution_count": 3,
     "metadata": {},
     "output_type": "execute_result"
    }
   ],
   "source": [
    "train_data = pd.read_csv('/kaggle/input/e-commerce-shoppers-behaviour-understanding/train_data_v2.csv')\n",
    "test_data = pd.read_csv('/kaggle/input/e-commerce-shoppers-behaviour-understanding/test_data_v2.csv')\n",
    "train_data.shape, test_data.shape"
   ]
  },
  {
   "cell_type": "code",
   "execution_count": 4,
   "id": "33097bbc",
   "metadata": {
    "execution": {
     "iopub.execute_input": "2023-04-03T23:52:57.157771Z",
     "iopub.status.busy": "2023-04-03T23:52:57.156900Z",
     "iopub.status.idle": "2023-04-03T23:52:57.204430Z",
     "shell.execute_reply": "2023-04-03T23:52:57.203153Z"
    },
    "papermill": {
     "duration": 0.090203,
     "end_time": "2023-04-03T23:52:57.207032",
     "exception": false,
     "start_time": "2023-04-03T23:52:57.116829",
     "status": "completed"
    },
    "tags": []
   },
   "outputs": [
    {
     "data": {
      "text/html": [
       "<div>\n",
       "<style scoped>\n",
       "    .dataframe tbody tr th:only-of-type {\n",
       "        vertical-align: middle;\n",
       "    }\n",
       "\n",
       "    .dataframe tbody tr th {\n",
       "        vertical-align: top;\n",
       "    }\n",
       "\n",
       "    .dataframe thead th {\n",
       "        text-align: right;\n",
       "    }\n",
       "</style>\n",
       "<table border=\"1\" class=\"dataframe\">\n",
       "  <thead>\n",
       "    <tr style=\"text-align: right;\">\n",
       "      <th></th>\n",
       "      <th>HomePage</th>\n",
       "      <th>HomePage_Duration</th>\n",
       "      <th>LandingPage</th>\n",
       "      <th>LandingPage_Duration</th>\n",
       "      <th>ProductDescriptionPage</th>\n",
       "      <th>ProductDescriptionPage_Duration</th>\n",
       "      <th>GoogleMetric:Bounce Rates</th>\n",
       "      <th>GoogleMetric:Exit Rates</th>\n",
       "      <th>GoogleMetric:Page Values</th>\n",
       "      <th>SeasonalPurchase</th>\n",
       "      <th>...</th>\n",
       "      <th>SearchEngine</th>\n",
       "      <th>Zone</th>\n",
       "      <th>Type of Traffic</th>\n",
       "      <th>CustomerType</th>\n",
       "      <th>Gender</th>\n",
       "      <th>Cookies Setting</th>\n",
       "      <th>Education</th>\n",
       "      <th>Marital Status</th>\n",
       "      <th>WeekendPurchase</th>\n",
       "      <th>Made_Purchase</th>\n",
       "    </tr>\n",
       "  </thead>\n",
       "  <tbody>\n",
       "    <tr>\n",
       "      <th>0</th>\n",
       "      <td>0.0</td>\n",
       "      <td>0.0</td>\n",
       "      <td>0.0</td>\n",
       "      <td>0.0</td>\n",
       "      <td>1.0</td>\n",
       "      <td>0.000000</td>\n",
       "      <td>0.20</td>\n",
       "      <td>0.20</td>\n",
       "      <td>0.0</td>\n",
       "      <td>0.0</td>\n",
       "      <td>...</td>\n",
       "      <td>1.0</td>\n",
       "      <td>9.0</td>\n",
       "      <td>3.0</td>\n",
       "      <td>Returning_Visitor</td>\n",
       "      <td>Not Specified</td>\n",
       "      <td>Deny</td>\n",
       "      <td>Not Specified</td>\n",
       "      <td>Other</td>\n",
       "      <td>0.0</td>\n",
       "      <td>False</td>\n",
       "    </tr>\n",
       "    <tr>\n",
       "      <th>1</th>\n",
       "      <td>0.0</td>\n",
       "      <td>0.0</td>\n",
       "      <td>0.0</td>\n",
       "      <td>0.0</td>\n",
       "      <td>2.0</td>\n",
       "      <td>2.666667</td>\n",
       "      <td>0.05</td>\n",
       "      <td>0.14</td>\n",
       "      <td>0.0</td>\n",
       "      <td>0.0</td>\n",
       "      <td>...</td>\n",
       "      <td>2.0</td>\n",
       "      <td>2.0</td>\n",
       "      <td>4.0</td>\n",
       "      <td>Returning_Visitor</td>\n",
       "      <td>Female</td>\n",
       "      <td>Deny</td>\n",
       "      <td>Others</td>\n",
       "      <td>Married</td>\n",
       "      <td>0.0</td>\n",
       "      <td>False</td>\n",
       "    </tr>\n",
       "    <tr>\n",
       "      <th>2</th>\n",
       "      <td>0.0</td>\n",
       "      <td>0.0</td>\n",
       "      <td>0.0</td>\n",
       "      <td>0.0</td>\n",
       "      <td>10.0</td>\n",
       "      <td>627.500000</td>\n",
       "      <td>0.02</td>\n",
       "      <td>0.05</td>\n",
       "      <td>0.0</td>\n",
       "      <td>0.0</td>\n",
       "      <td>...</td>\n",
       "      <td>3.0</td>\n",
       "      <td>1.0</td>\n",
       "      <td>4.0</td>\n",
       "      <td>Returning_Visitor</td>\n",
       "      <td>Female</td>\n",
       "      <td>ALL</td>\n",
       "      <td>Others</td>\n",
       "      <td>Married</td>\n",
       "      <td>1.0</td>\n",
       "      <td>False</td>\n",
       "    </tr>\n",
       "    <tr>\n",
       "      <th>3</th>\n",
       "      <td>0.0</td>\n",
       "      <td>0.0</td>\n",
       "      <td>0.0</td>\n",
       "      <td>0.0</td>\n",
       "      <td>1.0</td>\n",
       "      <td>0.000000</td>\n",
       "      <td>0.20</td>\n",
       "      <td>0.20</td>\n",
       "      <td>0.0</td>\n",
       "      <td>0.4</td>\n",
       "      <td>...</td>\n",
       "      <td>4.0</td>\n",
       "      <td>3.0</td>\n",
       "      <td>3.0</td>\n",
       "      <td>Returning_Visitor</td>\n",
       "      <td>Male</td>\n",
       "      <td>ALL</td>\n",
       "      <td>Diploma</td>\n",
       "      <td>Single</td>\n",
       "      <td>0.0</td>\n",
       "      <td>False</td>\n",
       "    </tr>\n",
       "    <tr>\n",
       "      <th>4</th>\n",
       "      <td>1.0</td>\n",
       "      <td>0.0</td>\n",
       "      <td>0.0</td>\n",
       "      <td>0.0</td>\n",
       "      <td>0.0</td>\n",
       "      <td>0.000000</td>\n",
       "      <td>0.20</td>\n",
       "      <td>0.20</td>\n",
       "      <td>0.0</td>\n",
       "      <td>0.0</td>\n",
       "      <td>...</td>\n",
       "      <td>2.0</td>\n",
       "      <td>1.0</td>\n",
       "      <td>5.0</td>\n",
       "      <td>Returning_Visitor</td>\n",
       "      <td>Male</td>\n",
       "      <td>Deny</td>\n",
       "      <td>Diploma</td>\n",
       "      <td>Other</td>\n",
       "      <td>1.0</td>\n",
       "      <td>False</td>\n",
       "    </tr>\n",
       "  </tbody>\n",
       "</table>\n",
       "<p>5 rows × 22 columns</p>\n",
       "</div>"
      ],
      "text/plain": [
       "   HomePage  HomePage_Duration  LandingPage  LandingPage_Duration  \\\n",
       "0       0.0                0.0          0.0                   0.0   \n",
       "1       0.0                0.0          0.0                   0.0   \n",
       "2       0.0                0.0          0.0                   0.0   \n",
       "3       0.0                0.0          0.0                   0.0   \n",
       "4       1.0                0.0          0.0                   0.0   \n",
       "\n",
       "   ProductDescriptionPage  ProductDescriptionPage_Duration  \\\n",
       "0                     1.0                         0.000000   \n",
       "1                     2.0                         2.666667   \n",
       "2                    10.0                       627.500000   \n",
       "3                     1.0                         0.000000   \n",
       "4                     0.0                         0.000000   \n",
       "\n",
       "   GoogleMetric:Bounce Rates  GoogleMetric:Exit Rates  \\\n",
       "0                       0.20                     0.20   \n",
       "1                       0.05                     0.14   \n",
       "2                       0.02                     0.05   \n",
       "3                       0.20                     0.20   \n",
       "4                       0.20                     0.20   \n",
       "\n",
       "   GoogleMetric:Page Values  SeasonalPurchase  ... SearchEngine  Zone  \\\n",
       "0                       0.0               0.0  ...          1.0   9.0   \n",
       "1                       0.0               0.0  ...          2.0   2.0   \n",
       "2                       0.0               0.0  ...          3.0   1.0   \n",
       "3                       0.0               0.4  ...          4.0   3.0   \n",
       "4                       0.0               0.0  ...          2.0   1.0   \n",
       "\n",
       "   Type of Traffic       CustomerType         Gender Cookies Setting  \\\n",
       "0              3.0  Returning_Visitor  Not Specified            Deny   \n",
       "1              4.0  Returning_Visitor         Female            Deny   \n",
       "2              4.0  Returning_Visitor         Female             ALL   \n",
       "3              3.0  Returning_Visitor           Male             ALL   \n",
       "4              5.0  Returning_Visitor           Male            Deny   \n",
       "\n",
       "       Education Marital Status WeekendPurchase Made_Purchase  \n",
       "0  Not Specified          Other             0.0         False  \n",
       "1         Others        Married             0.0         False  \n",
       "2         Others        Married             1.0         False  \n",
       "3        Diploma         Single             0.0         False  \n",
       "4        Diploma          Other             1.0         False  \n",
       "\n",
       "[5 rows x 22 columns]"
      ]
     },
     "execution_count": 4,
     "metadata": {},
     "output_type": "execute_result"
    }
   ],
   "source": [
    "train_data.head()"
   ]
  },
  {
   "cell_type": "code",
   "execution_count": 5,
   "id": "554df2c4",
   "metadata": {
    "execution": {
     "iopub.execute_input": "2023-04-03T23:52:57.286965Z",
     "iopub.status.busy": "2023-04-03T23:52:57.285723Z",
     "iopub.status.idle": "2023-04-03T23:52:57.315228Z",
     "shell.execute_reply": "2023-04-03T23:52:57.313931Z"
    },
    "papermill": {
     "duration": 0.072297,
     "end_time": "2023-04-03T23:52:57.317744",
     "exception": false,
     "start_time": "2023-04-03T23:52:57.245447",
     "status": "completed"
    },
    "tags": []
   },
   "outputs": [
    {
     "data": {
      "text/html": [
       "<div>\n",
       "<style scoped>\n",
       "    .dataframe tbody tr th:only-of-type {\n",
       "        vertical-align: middle;\n",
       "    }\n",
       "\n",
       "    .dataframe tbody tr th {\n",
       "        vertical-align: top;\n",
       "    }\n",
       "\n",
       "    .dataframe thead th {\n",
       "        text-align: right;\n",
       "    }\n",
       "</style>\n",
       "<table border=\"1\" class=\"dataframe\">\n",
       "  <thead>\n",
       "    <tr style=\"text-align: right;\">\n",
       "      <th></th>\n",
       "      <th>HomePage</th>\n",
       "      <th>HomePage_Duration</th>\n",
       "      <th>LandingPage</th>\n",
       "      <th>LandingPage_Duration</th>\n",
       "      <th>ProductDescriptionPage</th>\n",
       "      <th>ProductDescriptionPage_Duration</th>\n",
       "      <th>GoogleMetric:Bounce Rates</th>\n",
       "      <th>GoogleMetric:Exit Rates</th>\n",
       "      <th>GoogleMetric:Page Values</th>\n",
       "      <th>SeasonalPurchase</th>\n",
       "      <th>...</th>\n",
       "      <th>OS</th>\n",
       "      <th>SearchEngine</th>\n",
       "      <th>Zone</th>\n",
       "      <th>Type of Traffic</th>\n",
       "      <th>CustomerType</th>\n",
       "      <th>Gender</th>\n",
       "      <th>Cookies Setting</th>\n",
       "      <th>Education</th>\n",
       "      <th>Marital Status</th>\n",
       "      <th>WeekendPurchase</th>\n",
       "    </tr>\n",
       "  </thead>\n",
       "  <tbody>\n",
       "    <tr>\n",
       "      <th>0</th>\n",
       "      <td>0.0</td>\n",
       "      <td>0.0</td>\n",
       "      <td>0.0</td>\n",
       "      <td>0.0</td>\n",
       "      <td>1.0</td>\n",
       "      <td>0.000000</td>\n",
       "      <td>0.200000</td>\n",
       "      <td>0.200000</td>\n",
       "      <td>0.0</td>\n",
       "      <td>0.0</td>\n",
       "      <td>...</td>\n",
       "      <td>1.0</td>\n",
       "      <td>1.0</td>\n",
       "      <td>1.0</td>\n",
       "      <td>1.0</td>\n",
       "      <td>Returning_Visitor</td>\n",
       "      <td>Not Specified</td>\n",
       "      <td>Deny</td>\n",
       "      <td>Not Specified</td>\n",
       "      <td>Single</td>\n",
       "      <td>0.0</td>\n",
       "    </tr>\n",
       "    <tr>\n",
       "      <th>1</th>\n",
       "      <td>0.0</td>\n",
       "      <td>0.0</td>\n",
       "      <td>0.0</td>\n",
       "      <td>0.0</td>\n",
       "      <td>2.0</td>\n",
       "      <td>64.000000</td>\n",
       "      <td>0.000000</td>\n",
       "      <td>0.100000</td>\n",
       "      <td>0.0</td>\n",
       "      <td>0.0</td>\n",
       "      <td>...</td>\n",
       "      <td>2.0</td>\n",
       "      <td>2.0</td>\n",
       "      <td>1.0</td>\n",
       "      <td>2.0</td>\n",
       "      <td>Returning_Visitor</td>\n",
       "      <td>Not Specified</td>\n",
       "      <td>ALL</td>\n",
       "      <td>Graduate</td>\n",
       "      <td>Married</td>\n",
       "      <td>0.0</td>\n",
       "    </tr>\n",
       "    <tr>\n",
       "      <th>2</th>\n",
       "      <td>0.0</td>\n",
       "      <td>0.0</td>\n",
       "      <td>0.0</td>\n",
       "      <td>0.0</td>\n",
       "      <td>19.0</td>\n",
       "      <td>154.216667</td>\n",
       "      <td>0.015789</td>\n",
       "      <td>0.024561</td>\n",
       "      <td>0.0</td>\n",
       "      <td>0.0</td>\n",
       "      <td>...</td>\n",
       "      <td>2.0</td>\n",
       "      <td>2.0</td>\n",
       "      <td>1.0</td>\n",
       "      <td>3.0</td>\n",
       "      <td>Returning_Visitor</td>\n",
       "      <td>Female</td>\n",
       "      <td>Required</td>\n",
       "      <td>Diploma</td>\n",
       "      <td>Other</td>\n",
       "      <td>0.0</td>\n",
       "    </tr>\n",
       "    <tr>\n",
       "      <th>3</th>\n",
       "      <td>0.0</td>\n",
       "      <td>0.0</td>\n",
       "      <td>0.0</td>\n",
       "      <td>0.0</td>\n",
       "      <td>2.0</td>\n",
       "      <td>37.000000</td>\n",
       "      <td>0.000000</td>\n",
       "      <td>0.100000</td>\n",
       "      <td>0.0</td>\n",
       "      <td>0.8</td>\n",
       "      <td>...</td>\n",
       "      <td>2.0</td>\n",
       "      <td>2.0</td>\n",
       "      <td>2.0</td>\n",
       "      <td>3.0</td>\n",
       "      <td>Returning_Visitor</td>\n",
       "      <td>Not Specified</td>\n",
       "      <td>Required</td>\n",
       "      <td>Graduate</td>\n",
       "      <td>Other</td>\n",
       "      <td>0.0</td>\n",
       "    </tr>\n",
       "    <tr>\n",
       "      <th>4</th>\n",
       "      <td>0.0</td>\n",
       "      <td>0.0</td>\n",
       "      <td>0.0</td>\n",
       "      <td>0.0</td>\n",
       "      <td>16.0</td>\n",
       "      <td>407.750000</td>\n",
       "      <td>0.018750</td>\n",
       "      <td>0.025833</td>\n",
       "      <td>0.0</td>\n",
       "      <td>0.4</td>\n",
       "      <td>...</td>\n",
       "      <td>1.0</td>\n",
       "      <td>1.0</td>\n",
       "      <td>4.0</td>\n",
       "      <td>3.0</td>\n",
       "      <td>Returning_Visitor</td>\n",
       "      <td>Female</td>\n",
       "      <td>Deny</td>\n",
       "      <td>Others</td>\n",
       "      <td>Other</td>\n",
       "      <td>0.0</td>\n",
       "    </tr>\n",
       "  </tbody>\n",
       "</table>\n",
       "<p>5 rows × 21 columns</p>\n",
       "</div>"
      ],
      "text/plain": [
       "   HomePage  HomePage_Duration  LandingPage  LandingPage_Duration  \\\n",
       "0       0.0                0.0          0.0                   0.0   \n",
       "1       0.0                0.0          0.0                   0.0   \n",
       "2       0.0                0.0          0.0                   0.0   \n",
       "3       0.0                0.0          0.0                   0.0   \n",
       "4       0.0                0.0          0.0                   0.0   \n",
       "\n",
       "   ProductDescriptionPage  ProductDescriptionPage_Duration  \\\n",
       "0                     1.0                         0.000000   \n",
       "1                     2.0                        64.000000   \n",
       "2                    19.0                       154.216667   \n",
       "3                     2.0                        37.000000   \n",
       "4                    16.0                       407.750000   \n",
       "\n",
       "   GoogleMetric:Bounce Rates  GoogleMetric:Exit Rates  \\\n",
       "0                   0.200000                 0.200000   \n",
       "1                   0.000000                 0.100000   \n",
       "2                   0.015789                 0.024561   \n",
       "3                   0.000000                 0.100000   \n",
       "4                   0.018750                 0.025833   \n",
       "\n",
       "   GoogleMetric:Page Values  SeasonalPurchase  ...   OS  SearchEngine  Zone  \\\n",
       "0                       0.0               0.0  ...  1.0           1.0   1.0   \n",
       "1                       0.0               0.0  ...  2.0           2.0   1.0   \n",
       "2                       0.0               0.0  ...  2.0           2.0   1.0   \n",
       "3                       0.0               0.8  ...  2.0           2.0   2.0   \n",
       "4                       0.0               0.4  ...  1.0           1.0   4.0   \n",
       "\n",
       "   Type of Traffic       CustomerType         Gender Cookies Setting  \\\n",
       "0              1.0  Returning_Visitor  Not Specified            Deny   \n",
       "1              2.0  Returning_Visitor  Not Specified             ALL   \n",
       "2              3.0  Returning_Visitor         Female        Required   \n",
       "3              3.0  Returning_Visitor  Not Specified        Required   \n",
       "4              3.0  Returning_Visitor         Female            Deny   \n",
       "\n",
       "       Education Marital Status WeekendPurchase  \n",
       "0  Not Specified         Single             0.0  \n",
       "1       Graduate        Married             0.0  \n",
       "2        Diploma          Other             0.0  \n",
       "3       Graduate          Other             0.0  \n",
       "4         Others          Other             0.0  \n",
       "\n",
       "[5 rows x 21 columns]"
      ]
     },
     "execution_count": 5,
     "metadata": {},
     "output_type": "execute_result"
    }
   ],
   "source": [
    "test_data.head()"
   ]
  },
  {
   "cell_type": "code",
   "execution_count": 6,
   "id": "b632c994",
   "metadata": {
    "execution": {
     "iopub.execute_input": "2023-04-03T23:52:57.397948Z",
     "iopub.status.busy": "2023-04-03T23:52:57.397105Z",
     "iopub.status.idle": "2023-04-03T23:52:57.412602Z",
     "shell.execute_reply": "2023-04-03T23:52:57.411368Z"
    },
    "papermill": {
     "duration": 0.0587,
     "end_time": "2023-04-03T23:52:57.415165",
     "exception": false,
     "start_time": "2023-04-03T23:52:57.356465",
     "status": "completed"
    },
    "tags": []
   },
   "outputs": [
    {
     "data": {
      "text/plain": [
       "((14731, 21), (14731,), (6599, 21))"
      ]
     },
     "execution_count": 6,
     "metadata": {},
     "output_type": "execute_result"
    }
   ],
   "source": [
    "target = train_data['Made_Purchase']\n",
    "train = train_data.iloc[:,:-1]\n",
    "test = test_data.copy()\n",
    "\n",
    "train.shape, target.shape, test.shape"
   ]
  },
  {
   "cell_type": "code",
   "execution_count": 7,
   "id": "59d60ba4",
   "metadata": {
    "execution": {
     "iopub.execute_input": "2023-04-03T23:52:57.496569Z",
     "iopub.status.busy": "2023-04-03T23:52:57.496175Z",
     "iopub.status.idle": "2023-04-03T23:52:57.505053Z",
     "shell.execute_reply": "2023-04-03T23:52:57.503856Z"
    },
    "papermill": {
     "duration": 0.05267,
     "end_time": "2023-04-03T23:52:57.507524",
     "exception": false,
     "start_time": "2023-04-03T23:52:57.454854",
     "status": "completed"
    },
    "tags": []
   },
   "outputs": [],
   "source": [
    "train.rename(columns={'GoogleMetric:Bounce Rates':'GoogleMetric_Bounce_Rates',\n",
    "                      'GoogleMetric:Exit Rates':'GoogleMetric_Exit_Rates',\n",
    "                      'GoogleMetric:Page Values':'GoogleMetric_Page_Values',\n",
    "                      'Type of Traffic':'Type_of_Traffic',\n",
    "                      'Cookies Setting':'Cookies_Setting',\n",
    "                      'Marital Status':'Marital_Status'}, inplace=True)\n",
    "\n",
    "test.rename(columns={'GoogleMetric:Bounce Rates':'GoogleMetric_Bounce_Rates',\n",
    "                      'GoogleMetric:Exit Rates':'GoogleMetric_Exit_Rates',\n",
    "                      'GoogleMetric:Page Values':'GoogleMetric_Page_Values',\n",
    "                      'Type of Traffic':'Type_of_Traffic',\n",
    "                      'Cookies Setting':'Cookies_Setting',\n",
    "                      'Marital Status':'Marital_Status'}, inplace=True)"
   ]
  },
  {
   "cell_type": "code",
   "execution_count": 8,
   "id": "d9b343f2",
   "metadata": {
    "execution": {
     "iopub.execute_input": "2023-04-03T23:52:57.587475Z",
     "iopub.status.busy": "2023-04-03T23:52:57.587080Z",
     "iopub.status.idle": "2023-04-03T23:52:57.622713Z",
     "shell.execute_reply": "2023-04-03T23:52:57.621293Z"
    },
    "papermill": {
     "duration": 0.079012,
     "end_time": "2023-04-03T23:52:57.625326",
     "exception": false,
     "start_time": "2023-04-03T23:52:57.546314",
     "status": "completed"
    },
    "tags": []
   },
   "outputs": [
    {
     "name": "stdout",
     "output_type": "stream",
     "text": [
      "Train info\n",
      "<class 'pandas.core.frame.DataFrame'>\n",
      "RangeIndex: 14731 entries, 0 to 14730\n",
      "Data columns (total 21 columns):\n",
      " #   Column                           Non-Null Count  Dtype  \n",
      "---  ------                           --------------  -----  \n",
      " 0   HomePage                         14578 non-null  float64\n",
      " 1   HomePage_Duration                14581 non-null  float64\n",
      " 2   LandingPage                      14578 non-null  float64\n",
      " 3   LandingPage_Duration             14596 non-null  float64\n",
      " 4   ProductDescriptionPage           14608 non-null  float64\n",
      " 5   ProductDescriptionPage_Duration  14564 non-null  float64\n",
      " 6   GoogleMetric_Bounce_Rates        14580 non-null  float64\n",
      " 7   GoogleMetric_Exit_Rates          14602 non-null  float64\n",
      " 8   GoogleMetric_Page_Values         14599 non-null  float64\n",
      " 9   SeasonalPurchase                 14581 non-null  float64\n",
      " 10  Month_SeasonalPurchase           14587 non-null  object \n",
      " 11  OS                               14597 non-null  float64\n",
      " 12  SearchEngine                     14609 non-null  float64\n",
      " 13  Zone                             14614 non-null  float64\n",
      " 14  Type_of_Traffic                  14588 non-null  float64\n",
      " 15  CustomerType                     14587 non-null  object \n",
      " 16  Gender                           14586 non-null  object \n",
      " 17  Cookies_Setting                  14587 non-null  object \n",
      " 18  Education                        14595 non-null  object \n",
      " 19  Marital_Status                   14601 non-null  object \n",
      " 20  WeekendPurchase                  14610 non-null  float64\n",
      "dtypes: float64(15), object(6)\n",
      "memory usage: 2.4+ MB\n",
      "None\n",
      "--------------------------------------------------------------------\n",
      "Test info\n",
      "<class 'pandas.core.frame.DataFrame'>\n",
      "RangeIndex: 6599 entries, 0 to 6598\n",
      "Data columns (total 21 columns):\n",
      " #   Column                           Non-Null Count  Dtype  \n",
      "---  ------                           --------------  -----  \n",
      " 0   HomePage                         6548 non-null   float64\n",
      " 1   HomePage_Duration                6544 non-null   float64\n",
      " 2   LandingPage                      6543 non-null   float64\n",
      " 3   LandingPage_Duration             6524 non-null   float64\n",
      " 4   ProductDescriptionPage           6541 non-null   float64\n",
      " 5   ProductDescriptionPage_Duration  6536 non-null   float64\n",
      " 6   GoogleMetric_Bounce_Rates        6533 non-null   float64\n",
      " 7   GoogleMetric_Exit_Rates          6548 non-null   float64\n",
      " 8   GoogleMetric_Page_Values         6554 non-null   float64\n",
      " 9   SeasonalPurchase                 6554 non-null   float64\n",
      " 10  Month_SeasonalPurchase           6541 non-null   object \n",
      " 11  OS                               6537 non-null   float64\n",
      " 12  SearchEngine                     6541 non-null   float64\n",
      " 13  Zone                             6552 non-null   float64\n",
      " 14  Type_of_Traffic                  6531 non-null   float64\n",
      " 15  CustomerType                     6511 non-null   object \n",
      " 16  Gender                           6535 non-null   object \n",
      " 17  Cookies_Setting                  6537 non-null   object \n",
      " 18  Education                        6530 non-null   object \n",
      " 19  Marital_Status                   6552 non-null   object \n",
      " 20  WeekendPurchase                  6541 non-null   float64\n",
      "dtypes: float64(15), object(6)\n",
      "memory usage: 1.1+ MB\n",
      "None\n"
     ]
    }
   ],
   "source": [
    "print('Train info')\n",
    "print(train.info())\n",
    "print('--------------------------------------------------------------------')\n",
    "print('Test info')\n",
    "print(test.info())"
   ]
  },
  {
   "cell_type": "code",
   "execution_count": 9,
   "id": "699cd9cb",
   "metadata": {
    "execution": {
     "iopub.execute_input": "2023-04-03T23:52:57.706554Z",
     "iopub.status.busy": "2023-04-03T23:52:57.705811Z",
     "iopub.status.idle": "2023-04-03T23:52:57.721193Z",
     "shell.execute_reply": "2023-04-03T23:52:57.719694Z"
    },
    "papermill": {
     "duration": 0.058996,
     "end_time": "2023-04-03T23:52:57.723735",
     "exception": false,
     "start_time": "2023-04-03T23:52:57.664739",
     "status": "completed"
    },
    "tags": []
   },
   "outputs": [
    {
     "name": "stdout",
     "output_type": "stream",
     "text": [
      "Numerical features\n",
      " ['HomePage', 'HomePage_Duration', 'LandingPage', 'LandingPage_Duration', 'ProductDescriptionPage', 'ProductDescriptionPage_Duration', 'GoogleMetric_Bounce_Rates', 'GoogleMetric_Exit_Rates', 'GoogleMetric_Page_Values', 'SeasonalPurchase', 'OS', 'SearchEngine', 'Zone', 'Type_of_Traffic', 'WeekendPurchase'] \n",
      "Length -  15\n",
      "Categorical features\n",
      " ['Month_SeasonalPurchase', 'CustomerType', 'Gender', 'Cookies_Setting', 'Education', 'Marital_Status'] \n",
      "Length -  6\n"
     ]
    }
   ],
   "source": [
    "num_features = train.select_dtypes('float64').columns.tolist()\n",
    "# num_cat = ['HomePage', 'LandingPage', 'ProductDescriptionPage', 'OS', 'SearchEngine', 'Zone', \n",
    "#            'Type_of_Traffic', 'WeekendPurchase']\n",
    "# num_features = [x for x in num_features if x not in num_cat]\n",
    "cat_features = train.select_dtypes('object').columns.tolist()\n",
    "\n",
    "# num_features = ['HomePage', 'LandingPage', 'ProductDescriptionPage', 'HomePage_Duration', 'LandingPage_Duration', 'ProductDescriptionPage_Duration', \n",
    "#                 'GoogleMetric_Bounce_Rates', 'GoogleMetric_Exit_Rates', 'GoogleMetric_Page_Values']\n",
    "\n",
    "# bool_features = ['SeasonalPurchase','WeekendPurchase']\n",
    "\n",
    "# cat_features = ['Month_SeasonalPurchase', 'OS', \n",
    "#                 'SearchEngine', 'Zone', 'Type_of_Traffic', 'CustomerType', 'Gender', 'Cookies_Setting', \n",
    "#                 'Education', 'Marital_Status']\n",
    "\n",
    "print('Numerical features\\n', num_features, '\\nLength - ', len(num_features))\n",
    "# print('Boolean features\\n', bool_features, '\\nLength - ', len(bool_features))\n",
    "print('Categorical features\\n', cat_features, '\\nLength - ', len(cat_features))"
   ]
  },
  {
   "cell_type": "code",
   "execution_count": 10,
   "id": "4dc18bc5",
   "metadata": {
    "execution": {
     "iopub.execute_input": "2023-04-03T23:52:57.804991Z",
     "iopub.status.busy": "2023-04-03T23:52:57.804548Z",
     "iopub.status.idle": "2023-04-03T23:52:57.809067Z",
     "shell.execute_reply": "2023-04-03T23:52:57.808152Z"
    },
    "papermill": {
     "duration": 0.04766,
     "end_time": "2023-04-03T23:52:57.811308",
     "exception": false,
     "start_time": "2023-04-03T23:52:57.763648",
     "status": "completed"
    },
    "tags": []
   },
   "outputs": [],
   "source": [
    "# train[cat_features] = train[cat_features].astype('category')\n",
    "# test[cat_features] = test[cat_features].astype('category')"
   ]
  },
  {
   "cell_type": "code",
   "execution_count": 11,
   "id": "84342753",
   "metadata": {
    "execution": {
     "iopub.execute_input": "2023-04-03T23:52:57.893063Z",
     "iopub.status.busy": "2023-04-03T23:52:57.892345Z",
     "iopub.status.idle": "2023-04-03T23:52:57.897336Z",
     "shell.execute_reply": "2023-04-03T23:52:57.896048Z"
    },
    "papermill": {
     "duration": 0.049125,
     "end_time": "2023-04-03T23:52:57.899643",
     "exception": false,
     "start_time": "2023-04-03T23:52:57.850518",
     "status": "completed"
    },
    "tags": []
   },
   "outputs": [],
   "source": [
    "# print('Train info')\n",
    "# print(train.info())\n",
    "# print('--------------------------------------------------------------------')\n",
    "# print('Test info')\n",
    "# print(test.info())"
   ]
  },
  {
   "cell_type": "code",
   "execution_count": 12,
   "id": "94c2821e",
   "metadata": {
    "execution": {
     "iopub.execute_input": "2023-04-03T23:52:57.983588Z",
     "iopub.status.busy": "2023-04-03T23:52:57.982815Z",
     "iopub.status.idle": "2023-04-03T23:52:57.999721Z",
     "shell.execute_reply": "2023-04-03T23:52:57.998787Z"
    },
    "papermill": {
     "duration": 0.0613,
     "end_time": "2023-04-03T23:52:58.002650",
     "exception": false,
     "start_time": "2023-04-03T23:52:57.941350",
     "status": "completed"
    },
    "tags": []
   },
   "outputs": [
    {
     "name": "stdout",
     "output_type": "stream",
     "text": [
      "Train Null values\n",
      "HomePage                           153\n",
      "HomePage_Duration                  150\n",
      "LandingPage                        153\n",
      "LandingPage_Duration               135\n",
      "ProductDescriptionPage             123\n",
      "ProductDescriptionPage_Duration    167\n",
      "GoogleMetric_Bounce_Rates          151\n",
      "GoogleMetric_Exit_Rates            129\n",
      "GoogleMetric_Page_Values           132\n",
      "SeasonalPurchase                   150\n",
      "Month_SeasonalPurchase             144\n",
      "OS                                 134\n",
      "SearchEngine                       122\n",
      "Zone                               117\n",
      "Type_of_Traffic                    143\n",
      "CustomerType                       144\n",
      "Gender                             145\n",
      "Cookies_Setting                    144\n",
      "Education                          136\n",
      "Marital_Status                     130\n",
      "WeekendPurchase                    121\n",
      "dtype: int64\n",
      "--------------------------------------------\n",
      "Test Null values\n",
      "HomePage                           51\n",
      "HomePage_Duration                  55\n",
      "LandingPage                        56\n",
      "LandingPage_Duration               75\n",
      "ProductDescriptionPage             58\n",
      "ProductDescriptionPage_Duration    63\n",
      "GoogleMetric_Bounce_Rates          66\n",
      "GoogleMetric_Exit_Rates            51\n",
      "GoogleMetric_Page_Values           45\n",
      "SeasonalPurchase                   45\n",
      "Month_SeasonalPurchase             58\n",
      "OS                                 62\n",
      "SearchEngine                       58\n",
      "Zone                               47\n",
      "Type_of_Traffic                    68\n",
      "CustomerType                       88\n",
      "Gender                             64\n",
      "Cookies_Setting                    62\n",
      "Education                          69\n",
      "Marital_Status                     47\n",
      "WeekendPurchase                    58\n",
      "dtype: int64\n"
     ]
    }
   ],
   "source": [
    "print('Train Null values')\n",
    "print(train.isnull().sum())\n",
    "print('--------------------------------------------')\n",
    "print('Test Null values')\n",
    "print(test.isnull().sum())"
   ]
  },
  {
   "cell_type": "markdown",
   "id": "c8a22dfb",
   "metadata": {
    "papermill": {
     "duration": 0.039374,
     "end_time": "2023-04-03T23:52:58.082807",
     "exception": false,
     "start_time": "2023-04-03T23:52:58.043433",
     "status": "completed"
    },
    "tags": []
   },
   "source": [
    "# EDA"
   ]
  },
  {
   "cell_type": "code",
   "execution_count": 13,
   "id": "9424b3f9",
   "metadata": {
    "execution": {
     "iopub.execute_input": "2023-04-03T23:52:58.164190Z",
     "iopub.status.busy": "2023-04-03T23:52:58.163402Z",
     "iopub.status.idle": "2023-04-03T23:52:58.383238Z",
     "shell.execute_reply": "2023-04-03T23:52:58.382369Z"
    },
    "papermill": {
     "duration": 0.263466,
     "end_time": "2023-04-03T23:52:58.385545",
     "exception": false,
     "start_time": "2023-04-03T23:52:58.122079",
     "status": "completed"
    },
    "tags": []
   },
   "outputs": [
    {
     "data": {
      "text/plain": [
       "<AxesSubplot:xlabel='Made_Purchase', ylabel='count'>"
      ]
     },
     "execution_count": 13,
     "metadata": {},
     "output_type": "execute_result"
    },
    {
     "data": {
      "image/png": "[encoded data removed]",
      "text/plain": [
       "<Figure size 640x480 with 1 Axes>"
      ]
     },
     "metadata": {},
     "output_type": "display_data"
    }
   ],
   "source": [
    "sns.countplot(x = 'Made_Purchase',data = train_data)"
   ]
  },
  {
   "cell_type": "code",
   "execution_count": 14,
   "id": "58e21b7d",
   "metadata": {
    "execution": {
     "iopub.execute_input": "2023-04-03T23:52:58.469365Z",
     "iopub.status.busy": "2023-04-03T23:52:58.468343Z",
     "iopub.status.idle": "2023-04-03T23:52:58.745591Z",
     "shell.execute_reply": "2023-04-03T23:52:58.744324Z"
    },
    "papermill": {
     "duration": 0.322296,
     "end_time": "2023-04-03T23:52:58.748455",
     "exception": false,
     "start_time": "2023-04-03T23:52:58.426159",
     "status": "completed"
    },
    "tags": []
   },
   "outputs": [
    {
     "data": {
      "text/plain": [
       "<AxesSubplot:xlabel='CustomerType', ylabel='count'>"
      ]
     },
     "execution_count": 14,
     "metadata": {},
     "output_type": "execute_result"
    },
    {
     "data": {
      "image/png": "[encoded data removed]",
      "text/plain": [
       "<Figure size 640x480 with 1 Axes>"
      ]
     },
     "metadata": {},
     "output_type": "display_data"
    }
   ],
   "source": [
    "sns.countplot(x = 'CustomerType',hue = 'Made_Purchase',data = train_data)"
   ]
  },
  {
   "cell_type": "code",
   "execution_count": 15,
   "id": "e9889d58",
   "metadata": {
    "execution": {
     "iopub.execute_input": "2023-04-03T23:52:58.833101Z",
     "iopub.status.busy": "2023-04-03T23:52:58.832653Z",
     "iopub.status.idle": "2023-04-03T23:52:59.176157Z",
     "shell.execute_reply": "2023-04-03T23:52:59.175239Z"
    },
    "papermill": {
     "duration": 0.389305,
     "end_time": "2023-04-03T23:52:59.178664",
     "exception": false,
     "start_time": "2023-04-03T23:52:58.789359",
     "status": "completed"
    },
    "tags": []
   },
   "outputs": [
    {
     "data": {
      "text/plain": [
       "<AxesSubplot:xlabel='Month_SeasonalPurchase', ylabel='count'>"
      ]
     },
     "execution_count": 15,
     "metadata": {},
     "output_type": "execute_result"
    },
    {
     "data": {
      "image/png": "[encoded data removed]",
      "text/plain": [
       "<Figure size 640x480 with 1 Axes>"
      ]
     },
     "metadata": {},
     "output_type": "display_data"
    }
   ],
   "source": [
    "sns.countplot(x = 'Month_SeasonalPurchase',hue = 'Made_Purchase',data = train_data)"
   ]
  },
  {
   "cell_type": "code",
   "execution_count": 16,
   "id": "7f8f94a6",
   "metadata": {
    "execution": {
     "iopub.execute_input": "2023-04-03T23:52:59.263815Z",
     "iopub.status.busy": "2023-04-03T23:52:59.263346Z",
     "iopub.status.idle": "2023-04-03T23:52:59.562417Z",
     "shell.execute_reply": "2023-04-03T23:52:59.561255Z"
    },
    "papermill": {
     "duration": 0.34477,
     "end_time": "2023-04-03T23:52:59.565116",
     "exception": false,
     "start_time": "2023-04-03T23:52:59.220346",
     "status": "completed"
    },
    "tags": []
   },
   "outputs": [
    {
     "data": {
      "text/plain": [
       "<AxesSubplot:xlabel='SeasonalPurchase', ylabel='count'>"
      ]
     },
     "execution_count": 16,
     "metadata": {},
     "output_type": "execute_result"
    },
    {
     "data": {
      "image/png": "[encoded data removed]",
      "text/plain": [
       "<Figure size 640x480 with 1 Axes>"
      ]
     },
     "metadata": {},
     "output_type": "display_data"
    }
   ],
   "source": [
    "sns.countplot(x = 'SeasonalPurchase',hue = 'Made_Purchase',data = train_data)"
   ]
  },
  {
   "cell_type": "code",
   "execution_count": 17,
   "id": "463f9e5d",
   "metadata": {
    "execution": {
     "iopub.execute_input": "2023-04-03T23:52:59.648713Z",
     "iopub.status.busy": "2023-04-03T23:52:59.648263Z",
     "iopub.status.idle": "2023-04-03T23:53:00.181704Z",
     "shell.execute_reply": "2023-04-03T23:53:00.180452Z"
    },
    "papermill": {
     "duration": 0.578284,
     "end_time": "2023-04-03T23:53:00.184440",
     "exception": false,
     "start_time": "2023-04-03T23:52:59.606156",
     "status": "completed"
    },
    "tags": []
   },
   "outputs": [
    {
     "data": {
      "text/plain": [
       "<AxesSubplot:xlabel='Month_SeasonalPurchase', ylabel='count'>"
      ]
     },
     "execution_count": 17,
     "metadata": {},
     "output_type": "execute_result"
    },
    {
     "data": {
      "image/png": "[encoded data removed]",
      "text/plain": [
       "<Figure size 640x480 with 1 Axes>"
      ]
     },
     "metadata": {},
     "output_type": "display_data"
    }
   ],
   "source": [
    "sns.countplot(x = 'Month_SeasonalPurchase',hue = 'SeasonalPurchase',data = train_data)"
   ]
  },
  {
   "cell_type": "code",
   "execution_count": 18,
   "id": "77341b2f",
   "metadata": {
    "execution": {
     "iopub.execute_input": "2023-04-03T23:53:00.270559Z",
     "iopub.status.busy": "2023-04-03T23:53:00.270169Z",
     "iopub.status.idle": "2023-04-03T23:53:00.331840Z",
     "shell.execute_reply": "2023-04-03T23:53:00.330670Z"
    },
    "papermill": {
     "duration": 0.107716,
     "end_time": "2023-04-03T23:53:00.334335",
     "exception": false,
     "start_time": "2023-04-03T23:53:00.226619",
     "status": "completed"
    },
    "tags": []
   },
   "outputs": [
    {
     "data": {
      "text/html": [
       "<div>\n",
       "<style scoped>\n",
       "    .dataframe tbody tr th:only-of-type {\n",
       "        vertical-align: middle;\n",
       "    }\n",
       "\n",
       "    .dataframe tbody tr th {\n",
       "        vertical-align: top;\n",
       "    }\n",
       "\n",
       "    .dataframe thead th {\n",
       "        text-align: right;\n",
       "    }\n",
       "</style>\n",
       "<table border=\"1\" class=\"dataframe\">\n",
       "  <thead>\n",
       "    <tr style=\"text-align: right;\">\n",
       "      <th></th>\n",
       "      <th>count</th>\n",
       "      <th>mean</th>\n",
       "      <th>std</th>\n",
       "      <th>min</th>\n",
       "      <th>25%</th>\n",
       "      <th>50%</th>\n",
       "      <th>75%</th>\n",
       "      <th>max</th>\n",
       "    </tr>\n",
       "  </thead>\n",
       "  <tbody>\n",
       "    <tr>\n",
       "      <th>HomePage</th>\n",
       "      <td>14578.0</td>\n",
       "      <td>2.250240</td>\n",
       "      <td>3.288042</td>\n",
       "      <td>0.0</td>\n",
       "      <td>0.000000</td>\n",
       "      <td>1.000000</td>\n",
       "      <td>3.000000</td>\n",
       "      <td>27.000000</td>\n",
       "    </tr>\n",
       "    <tr>\n",
       "      <th>HomePage_Duration</th>\n",
       "      <td>14581.0</td>\n",
       "      <td>79.300762</td>\n",
       "      <td>179.374699</td>\n",
       "      <td>0.0</td>\n",
       "      <td>0.000000</td>\n",
       "      <td>5.000000</td>\n",
       "      <td>91.000000</td>\n",
       "      <td>3398.750000</td>\n",
       "    </tr>\n",
       "    <tr>\n",
       "      <th>LandingPage</th>\n",
       "      <td>14578.0</td>\n",
       "      <td>0.490739</td>\n",
       "      <td>1.252376</td>\n",
       "      <td>0.0</td>\n",
       "      <td>0.000000</td>\n",
       "      <td>0.000000</td>\n",
       "      <td>0.000000</td>\n",
       "      <td>24.000000</td>\n",
       "    </tr>\n",
       "    <tr>\n",
       "      <th>LandingPage_Duration</th>\n",
       "      <td>14596.0</td>\n",
       "      <td>33.455943</td>\n",
       "      <td>140.146256</td>\n",
       "      <td>0.0</td>\n",
       "      <td>0.000000</td>\n",
       "      <td>0.000000</td>\n",
       "      <td>0.000000</td>\n",
       "      <td>2549.375000</td>\n",
       "    </tr>\n",
       "    <tr>\n",
       "      <th>ProductDescriptionPage</th>\n",
       "      <td>14608.0</td>\n",
       "      <td>31.559488</td>\n",
       "      <td>44.897089</td>\n",
       "      <td>0.0</td>\n",
       "      <td>7.000000</td>\n",
       "      <td>17.500000</td>\n",
       "      <td>38.000000</td>\n",
       "      <td>705.000000</td>\n",
       "    </tr>\n",
       "    <tr>\n",
       "      <th>ProductDescriptionPage_Duration</th>\n",
       "      <td>14564.0</td>\n",
       "      <td>1184.346084</td>\n",
       "      <td>2009.496307</td>\n",
       "      <td>0.0</td>\n",
       "      <td>173.187500</td>\n",
       "      <td>584.333333</td>\n",
       "      <td>1434.255128</td>\n",
       "      <td>63973.522230</td>\n",
       "    </tr>\n",
       "    <tr>\n",
       "      <th>GoogleMetric_Bounce_Rates</th>\n",
       "      <td>14580.0</td>\n",
       "      <td>0.023366</td>\n",
       "      <td>0.050011</td>\n",
       "      <td>0.0</td>\n",
       "      <td>0.000000</td>\n",
       "      <td>0.003478</td>\n",
       "      <td>0.018182</td>\n",
       "      <td>0.200000</td>\n",
       "    </tr>\n",
       "    <tr>\n",
       "      <th>GoogleMetric_Exit_Rates</th>\n",
       "      <td>14602.0</td>\n",
       "      <td>0.044664</td>\n",
       "      <td>0.049912</td>\n",
       "      <td>0.0</td>\n",
       "      <td>0.014502</td>\n",
       "      <td>0.026406</td>\n",
       "      <td>0.050000</td>\n",
       "      <td>0.200000</td>\n",
       "    </tr>\n",
       "    <tr>\n",
       "      <th>GoogleMetric_Page_Values</th>\n",
       "      <td>14599.0</td>\n",
       "      <td>4.812620</td>\n",
       "      <td>16.887366</td>\n",
       "      <td>0.0</td>\n",
       "      <td>0.000000</td>\n",
       "      <td>0.000000</td>\n",
       "      <td>0.000000</td>\n",
       "      <td>361.763742</td>\n",
       "    </tr>\n",
       "    <tr>\n",
       "      <th>SeasonalPurchase</th>\n",
       "      <td>14581.0</td>\n",
       "      <td>0.064083</td>\n",
       "      <td>0.202583</td>\n",
       "      <td>0.0</td>\n",
       "      <td>0.000000</td>\n",
       "      <td>0.000000</td>\n",
       "      <td>0.000000</td>\n",
       "      <td>1.000000</td>\n",
       "    </tr>\n",
       "    <tr>\n",
       "      <th>OS</th>\n",
       "      <td>14597.0</td>\n",
       "      <td>2.122422</td>\n",
       "      <td>0.914404</td>\n",
       "      <td>1.0</td>\n",
       "      <td>2.000000</td>\n",
       "      <td>2.000000</td>\n",
       "      <td>3.000000</td>\n",
       "      <td>8.000000</td>\n",
       "    </tr>\n",
       "    <tr>\n",
       "      <th>SearchEngine</th>\n",
       "      <td>14609.0</td>\n",
       "      <td>2.356629</td>\n",
       "      <td>1.721823</td>\n",
       "      <td>1.0</td>\n",
       "      <td>2.000000</td>\n",
       "      <td>2.000000</td>\n",
       "      <td>2.000000</td>\n",
       "      <td>13.000000</td>\n",
       "    </tr>\n",
       "    <tr>\n",
       "      <th>Zone</th>\n",
       "      <td>14614.0</td>\n",
       "      <td>3.155673</td>\n",
       "      <td>2.405155</td>\n",
       "      <td>1.0</td>\n",
       "      <td>1.000000</td>\n",
       "      <td>3.000000</td>\n",
       "      <td>4.000000</td>\n",
       "      <td>9.000000</td>\n",
       "    </tr>\n",
       "    <tr>\n",
       "      <th>Type_of_Traffic</th>\n",
       "      <td>14588.0</td>\n",
       "      <td>4.090143</td>\n",
       "      <td>4.040147</td>\n",
       "      <td>1.0</td>\n",
       "      <td>2.000000</td>\n",
       "      <td>2.000000</td>\n",
       "      <td>4.000000</td>\n",
       "      <td>20.000000</td>\n",
       "    </tr>\n",
       "    <tr>\n",
       "      <th>WeekendPurchase</th>\n",
       "      <td>14610.0</td>\n",
       "      <td>0.234155</td>\n",
       "      <td>0.423484</td>\n",
       "      <td>0.0</td>\n",
       "      <td>0.000000</td>\n",
       "      <td>0.000000</td>\n",
       "      <td>0.000000</td>\n",
       "      <td>1.000000</td>\n",
       "    </tr>\n",
       "  </tbody>\n",
       "</table>\n",
       "</div>"
      ],
      "text/plain": [
       "                                   count         mean          std  min  \\\n",
       "HomePage                         14578.0     2.250240     3.288042  0.0   \n",
       "HomePage_Duration                14581.0    79.300762   179.374699  0.0   \n",
       "LandingPage                      14578.0     0.490739     1.252376  0.0   \n",
       "LandingPage_Duration             14596.0    33.455943   140.146256  0.0   \n",
       "ProductDescriptionPage           14608.0    31.559488    44.897089  0.0   \n",
       "ProductDescriptionPage_Duration  14564.0  1184.346084  2009.496307  0.0   \n",
       "GoogleMetric_Bounce_Rates        14580.0     0.023366     0.050011  0.0   \n",
       "GoogleMetric_Exit_Rates          14602.0     0.044664     0.049912  0.0   \n",
       "GoogleMetric_Page_Values         14599.0     4.812620    16.887366  0.0   \n",
       "SeasonalPurchase                 14581.0     0.064083     0.202583  0.0   \n",
       "OS                               14597.0     2.122422     0.914404  1.0   \n",
       "SearchEngine                     14609.0     2.356629     1.721823  1.0   \n",
       "Zone                             14614.0     3.155673     2.405155  1.0   \n",
       "Type_of_Traffic                  14588.0     4.090143     4.040147  1.0   \n",
       "WeekendPurchase                  14610.0     0.234155     0.423484  0.0   \n",
       "\n",
       "                                        25%         50%          75%  \\\n",
       "HomePage                           0.000000    1.000000     3.000000   \n",
       "HomePage_Duration                  0.000000    5.000000    91.000000   \n",
       "LandingPage                        0.000000    0.000000     0.000000   \n",
       "LandingPage_Duration               0.000000    0.000000     0.000000   \n",
       "ProductDescriptionPage             7.000000   17.500000    38.000000   \n",
       "ProductDescriptionPage_Duration  173.187500  584.333333  1434.255128   \n",
       "GoogleMetric_Bounce_Rates          0.000000    0.003478     0.018182   \n",
       "GoogleMetric_Exit_Rates            0.014502    0.026406     0.050000   \n",
       "GoogleMetric_Page_Values           0.000000    0.000000     0.000000   \n",
       "SeasonalPurchase                   0.000000    0.000000     0.000000   \n",
       "OS                                 2.000000    2.000000     3.000000   \n",
       "SearchEngine                       2.000000    2.000000     2.000000   \n",
       "Zone                               1.000000    3.000000     4.000000   \n",
       "Type_of_Traffic                    2.000000    2.000000     4.000000   \n",
       "WeekendPurchase                    0.000000    0.000000     0.000000   \n",
       "\n",
       "                                          max  \n",
       "HomePage                            27.000000  \n",
       "HomePage_Duration                 3398.750000  \n",
       "LandingPage                         24.000000  \n",
       "LandingPage_Duration              2549.375000  \n",
       "ProductDescriptionPage             705.000000  \n",
       "ProductDescriptionPage_Duration  63973.522230  \n",
       "GoogleMetric_Bounce_Rates            0.200000  \n",
       "GoogleMetric_Exit_Rates              0.200000  \n",
       "GoogleMetric_Page_Values           361.763742  \n",
       "SeasonalPurchase                     1.000000  \n",
       "OS                                   8.000000  \n",
       "SearchEngine                        13.000000  \n",
       "Zone                                 9.000000  \n",
       "Type_of_Traffic                     20.000000  \n",
       "WeekendPurchase                      1.000000  "
      ]
     },
     "execution_count": 18,
     "metadata": {},
     "output_type": "execute_result"
    }
   ],
   "source": [
    "train.describe().T"
   ]
  },
  {
   "cell_type": "code",
   "execution_count": 19,
   "id": "9595532e",
   "metadata": {
    "execution": {
     "iopub.execute_input": "2023-04-03T23:53:00.421504Z",
     "iopub.status.busy": "2023-04-03T23:53:00.420765Z",
     "iopub.status.idle": "2023-04-03T23:53:01.542556Z",
     "shell.execute_reply": "2023-04-03T23:53:01.541201Z"
    },
    "papermill": {
     "duration": 1.170776,
     "end_time": "2023-04-03T23:53:01.547547",
     "exception": false,
     "start_time": "2023-04-03T23:53:00.376771",
     "status": "completed"
    },
    "tags": []
   },
   "outputs": [
    {
     "data": {
      "image/png": "[encoded data removed]",
      "text/plain": [
       "<Figure size 1500x1500 with 2 Axes>"
      ]
     },
     "metadata": {},
     "output_type": "display_data"
    }
   ],
   "source": [
    "correlation = train_data.corr()\n",
    "\n",
    "mask = np.zeros_like(correlation, dtype=np.bool)\n",
    "mask[np.triu_indices_from(mask)] = True\n",
    "\n",
    "f, ax = plt.subplots(figsize=(15, 15))\n",
    "\n",
    "cmap = sns.diverging_palette(180, 20, as_cmap=True)\n",
    "sns.heatmap(correlation, mask=mask, cmap=cmap, vmax=1, vmin =-1, center=0,\n",
    "            square=True, linewidths=.2, cbar_kws={\"shrink\": .5}, annot=True)\n",
    "\n",
    "plt.show()"
   ]
  },
  {
   "cell_type": "code",
   "execution_count": 20,
   "id": "094467b9",
   "metadata": {
    "execution": {
     "iopub.execute_input": "2023-04-03T23:53:01.643011Z",
     "iopub.status.busy": "2023-04-03T23:53:01.642547Z",
     "iopub.status.idle": "2023-04-03T23:53:03.992034Z",
     "shell.execute_reply": "2023-04-03T23:53:03.991016Z"
    },
    "papermill": {
     "duration": 2.400984,
     "end_time": "2023-04-03T23:53:03.994894",
     "exception": false,
     "start_time": "2023-04-03T23:53:01.593910",
     "status": "completed"
    },
    "tags": []
   },
   "outputs": [
    {
     "data": {
      "image/png": "[encoded data removed]",
      "text/plain": [
       "<Figure size 2000x1000 with 16 Axes>"
      ]
     },
     "metadata": {},
     "output_type": "display_data"
    }
   ],
   "source": [
    "train.hist(figsize=(20,10));"
   ]
  },
  {
   "cell_type": "code",
   "execution_count": 21,
   "id": "d78cbed5",
   "metadata": {
    "execution": {
     "iopub.execute_input": "2023-04-03T23:53:04.092307Z",
     "iopub.status.busy": "2023-04-03T23:53:04.091563Z",
     "iopub.status.idle": "2023-04-03T23:53:04.683110Z",
     "shell.execute_reply": "2023-04-03T23:53:04.681941Z"
    },
    "papermill": {
     "duration": 0.642987,
     "end_time": "2023-04-03T23:53:04.686109",
     "exception": false,
     "start_time": "2023-04-03T23:53:04.043122",
     "status": "completed"
    },
    "tags": []
   },
   "outputs": [
    {
     "data": {
      "image/png": "[encoded data removed]",
      "text/plain": [
       "<Figure size 640x480 with 1 Axes>"
      ]
     },
     "metadata": {},
     "output_type": "display_data"
    }
   ],
   "source": [
    "ax = sns.boxplot(data=train,orient='h')"
   ]
  },
  {
   "cell_type": "markdown",
   "id": "7201e3bc",
   "metadata": {
    "papermill": {
     "duration": 0.04866,
     "end_time": "2023-04-03T23:53:04.783951",
     "exception": false,
     "start_time": "2023-04-03T23:53:04.735291",
     "status": "completed"
    },
    "tags": []
   },
   "source": [
    "# Handling Null values"
   ]
  },
  {
   "cell_type": "code",
   "execution_count": 22,
   "id": "ddd5b40c",
   "metadata": {
    "execution": {
     "iopub.execute_input": "2023-04-03T23:53:04.883692Z",
     "iopub.status.busy": "2023-04-03T23:53:04.883255Z",
     "iopub.status.idle": "2023-04-03T23:53:04.888393Z",
     "shell.execute_reply": "2023-04-03T23:53:04.887127Z"
    },
    "papermill": {
     "duration": 0.058352,
     "end_time": "2023-04-03T23:53:04.890882",
     "exception": false,
     "start_time": "2023-04-03T23:53:04.832530",
     "status": "completed"
    },
    "tags": []
   },
   "outputs": [],
   "source": [
    "# train.loc[(train['HomePage'] == 0) & (train['HomePage_Duration'] != 0), 'HomePage_Duration'] = 0\n",
    "# train.loc[(train['HomePage'] != 0) & (train['HomePage_Duration'] == 0), 'HomePage'] = 0\n",
    "\n",
    "# train.loc[(train['LandingPage'] == 0) & (train['LandingPage_Duration'] != 0), 'LandingPage_Duration'] = 0\n",
    "# train.loc[(train['LandingPage'] != 0) & (train['LandingPage_Duration'] == 0), 'LandingPage'] = 0\n",
    "\n",
    "# train.loc[(train['ProductDescriptionPage'] == 0) & (train['ProductDescriptionPage_Duration'] != 0), 'ProductDescriptionPage_Duration'] = 0\n",
    "# train.loc[(train['ProductDescriptionPage'] != 0) & (train['ProductDescriptionPage_Duration'] == 0), 'ProductDescriptionPage'] = 0"
   ]
  },
  {
   "cell_type": "code",
   "execution_count": 23,
   "id": "0c0d8f57",
   "metadata": {
    "execution": {
     "iopub.execute_input": "2023-04-03T23:53:04.992940Z",
     "iopub.status.busy": "2023-04-03T23:53:04.992481Z",
     "iopub.status.idle": "2023-04-03T23:53:04.998132Z",
     "shell.execute_reply": "2023-04-03T23:53:04.996855Z"
    },
    "papermill": {
     "duration": 0.059573,
     "end_time": "2023-04-03T23:53:05.000643",
     "exception": false,
     "start_time": "2023-04-03T23:53:04.941070",
     "status": "completed"
    },
    "tags": []
   },
   "outputs": [],
   "source": [
    "# columns1 = ['HomePage', 'LandingPage', 'ProductDescriptionPage','SeasonalPurchase']\n",
    "# columns2 = ['HomePage_Duration', 'LandingPage_Duration', 'ProductDescriptionPage_Duration',\n",
    "#             'GoogleMetric_Bounce_Rates','GoogleMetric_Exit_Rates','GoogleMetric_Page_Values']\n",
    "\n",
    "# # for col in columns1+columns2:\n",
    "# #     train[col].replace(0,np.nan, inplace=True)\n",
    "# #     test[col].replace(0,np.nan, inplace=True)\n",
    "\n",
    "# train[columns1] = train[columns1].fillna(train[columns1].median())\n",
    "# train[columns2] = train[columns2].fillna(train[columns2].mean())\n",
    "# train = train.fillna(train.mode().iloc[0])\n",
    "\n",
    "# test[columns1] = test[columns1].fillna(train[columns1].median())\n",
    "# test[columns2] = test[columns2].fillna(train[columns2].mean())\n",
    "# test = test.fillna(train.mode().iloc[0])"
   ]
  },
  {
   "cell_type": "code",
   "execution_count": 24,
   "id": "a6924789",
   "metadata": {
    "execution": {
     "iopub.execute_input": "2023-04-03T23:53:05.099652Z",
     "iopub.status.busy": "2023-04-03T23:53:05.099216Z",
     "iopub.status.idle": "2023-04-03T23:53:05.103231Z",
     "shell.execute_reply": "2023-04-03T23:53:05.102457Z"
    },
    "papermill": {
     "duration": 0.055992,
     "end_time": "2023-04-03T23:53:05.105506",
     "exception": false,
     "start_time": "2023-04-03T23:53:05.049514",
     "status": "completed"
    },
    "tags": []
   },
   "outputs": [],
   "source": [
    "# train.isnull().sum(), test.isnull().sum()"
   ]
  },
  {
   "cell_type": "markdown",
   "id": "c30bc06d",
   "metadata": {
    "papermill": {
     "duration": 0.047609,
     "end_time": "2023-04-03T23:53:05.201182",
     "exception": false,
     "start_time": "2023-04-03T23:53:05.153573",
     "status": "completed"
    },
    "tags": []
   },
   "source": [
    "# Handling Outliers"
   ]
  },
  {
   "cell_type": "code",
   "execution_count": 25,
   "id": "3bb6744d",
   "metadata": {
    "execution": {
     "iopub.execute_input": "2023-04-03T23:53:05.299089Z",
     "iopub.status.busy": "2023-04-03T23:53:05.298661Z",
     "iopub.status.idle": "2023-04-03T23:53:05.303745Z",
     "shell.execute_reply": "2023-04-03T23:53:05.302549Z"
    },
    "papermill": {
     "duration": 0.056785,
     "end_time": "2023-04-03T23:53:05.305948",
     "exception": false,
     "start_time": "2023-04-03T23:53:05.249163",
     "status": "completed"
    },
    "tags": []
   },
   "outputs": [],
   "source": [
    "# plt.figure(figsize = (15, 10))\n",
    "# plt.style.use('seaborn-white')\n",
    "# ax=plt.subplot(331)\n",
    "# plt.boxplot(train['HomePage'])\n",
    "# ax.set_title('HomePage')\n",
    "# ax=plt.subplot(332)\n",
    "# plt.boxplot(train['HomePage_Duration'])\n",
    "# ax.set_title('HomePage_Duration')\n",
    "# ax=plt.subplot(333)\n",
    "# plt.boxplot(train['LandingPage'])\n",
    "# ax.set_title('LandingPage')\n",
    "# ax=plt.subplot(334)\n",
    "# plt.boxplot(train['LandingPage_Duration'])\n",
    "# ax.set_title('LandingPage_Duration')\n",
    "# ax=plt.subplot(335)\n",
    "# plt.boxplot(train['ProductDescriptionPage'])\n",
    "# ax.set_title('ProductDescriptionPage')\n",
    "# ax=plt.subplot(336)\n",
    "# plt.boxplot(train['ProductDescriptionPage_Duration'])\n",
    "# ax.set_title('ProductDescriptionPage_Duration')\n",
    "# ax=plt.subplot(337)\n",
    "# plt.boxplot(train['GoogleMetric_Bounce_Rates'])\n",
    "# ax.set_title('BounceRates')\n",
    "# ax=plt.subplot(338)\n",
    "# plt.boxplot(train['GoogleMetric_Exit_Rates'])\n",
    "# ax.set_title('ExitRates')\n",
    "# ax=plt.subplot(339)\n",
    "# plt.boxplot(train['GoogleMetric_Page_Values'])\n",
    "# ax.set_title('PageValues')"
   ]
  },
  {
   "cell_type": "code",
   "execution_count": 26,
   "id": "9d95e2ae",
   "metadata": {
    "execution": {
     "iopub.execute_input": "2023-04-03T23:53:05.404210Z",
     "iopub.status.busy": "2023-04-03T23:53:05.403781Z",
     "iopub.status.idle": "2023-04-03T23:53:05.408173Z",
     "shell.execute_reply": "2023-04-03T23:53:05.407146Z"
    },
    "papermill": {
     "duration": 0.056404,
     "end_time": "2023-04-03T23:53:05.410434",
     "exception": false,
     "start_time": "2023-04-03T23:53:05.354030",
     "status": "completed"
    },
    "tags": []
   },
   "outputs": [],
   "source": [
    "# out_features=['HomePage','HomePage_Duration','LandingPage','LandingPage_Duration',\n",
    "#               'ProductDescriptionPage','ProductDescriptionPage_Duration','GoogleMetric_Bounce_Rates',\n",
    "#               'GoogleMetric_Exit_Rates']\n",
    "\n",
    "# def outliers(X,y, threshold=1.5):\n",
    "#     for col in out_features:\n",
    "#         Q1 = X[col].quantile(0.25)\n",
    "#         Q3 = X[col].quantile(0.75)\n",
    "#         IQR = Q3 - Q1\n",
    "\n",
    "#         filter = (X[col] >= Q1 - threshold * IQR) & (X[col] <= Q3 + threshold *IQR)\n",
    "#         train_out=X.loc[filter]\n",
    "#         target_out = y.loc[filter]\n",
    "#     return train_out, target_out"
   ]
  },
  {
   "cell_type": "code",
   "execution_count": 27,
   "id": "398738ab",
   "metadata": {
    "execution": {
     "iopub.execute_input": "2023-04-03T23:53:05.509046Z",
     "iopub.status.busy": "2023-04-03T23:53:05.508611Z",
     "iopub.status.idle": "2023-04-03T23:53:05.512811Z",
     "shell.execute_reply": "2023-04-03T23:53:05.511510Z"
    },
    "papermill": {
     "duration": 0.056673,
     "end_time": "2023-04-03T23:53:05.515363",
     "exception": false,
     "start_time": "2023-04-03T23:53:05.458690",
     "status": "completed"
    },
    "tags": []
   },
   "outputs": [],
   "source": [
    "# train_out, target_out = outliers(train,target, 0.5)\n",
    "# train_out.shape, target_out.shape"
   ]
  },
  {
   "cell_type": "code",
   "execution_count": 28,
   "id": "5374546e",
   "metadata": {
    "execution": {
     "iopub.execute_input": "2023-04-03T23:53:05.682264Z",
     "iopub.status.busy": "2023-04-03T23:53:05.681828Z",
     "iopub.status.idle": "2023-04-03T23:53:05.687470Z",
     "shell.execute_reply": "2023-04-03T23:53:05.686287Z"
    },
    "papermill": {
     "duration": 0.125789,
     "end_time": "2023-04-03T23:53:05.689886",
     "exception": false,
     "start_time": "2023-04-03T23:53:05.564097",
     "status": "completed"
    },
    "tags": []
   },
   "outputs": [],
   "source": [
    "# plt.figure(figsize = (15, 10))\n",
    "# plt.style.use('seaborn-white')\n",
    "# ax=plt.subplot(331)\n",
    "# plt.boxplot(train_out['HomePage'])\n",
    "# ax.set_title('HomePage')\n",
    "# ax=plt.subplot(332)\n",
    "# plt.boxplot(train_out['HomePage_Duration'])\n",
    "# ax.set_title('HomePage_Duration')\n",
    "# ax=plt.subplot(333)\n",
    "# plt.boxplot(train_out['LandingPage'])\n",
    "# ax.set_title('LandingPage')\n",
    "# ax=plt.subplot(334)\n",
    "# plt.boxplot(train_out['LandingPage_Duration'])\n",
    "# ax.set_title('LandingPage_Duration')\n",
    "# ax=plt.subplot(335)\n",
    "# plt.boxplot(train_out['ProductDescriptionPage'])\n",
    "# ax.set_title('ProductDescriptionPage')\n",
    "# ax=plt.subplot(336)\n",
    "# plt.boxplot(train_out['ProductDescriptionPage_Duration'])\n",
    "# ax.set_title('ProductDescriptionPage_Duration')\n",
    "# ax=plt.subplot(337)\n",
    "# plt.boxplot(train_out['GoogleMetric_Bounce_Rates'])\n",
    "# ax.set_title('BounceRates')\n",
    "# ax=plt.subplot(338)\n",
    "# plt.boxplot(train_out['GoogleMetric_Exit_Rates'])\n",
    "# ax.set_title('ExitRates')\n",
    "# ax=plt.subplot(339)\n",
    "# plt.boxplot(train_out['GoogleMetric_Page_Values'])\n",
    "# ax.set_title('PageValues')"
   ]
  },
  {
   "cell_type": "code",
   "execution_count": 29,
   "id": "ad1e295d",
   "metadata": {
    "execution": {
     "iopub.execute_input": "2023-04-03T23:53:05.790560Z",
     "iopub.status.busy": "2023-04-03T23:53:05.790120Z",
     "iopub.status.idle": "2023-04-03T23:53:05.795032Z",
     "shell.execute_reply": "2023-04-03T23:53:05.793883Z"
    },
    "papermill": {
     "duration": 0.058173,
     "end_time": "2023-04-03T23:53:05.797315",
     "exception": false,
     "start_time": "2023-04-03T23:53:05.739142",
     "status": "completed"
    },
    "tags": []
   },
   "outputs": [],
   "source": [
    "# train_num_imp = train[num_features].fillna(train[num_features].median())\n",
    "# train_num_imp.isnull().sum()"
   ]
  },
  {
   "cell_type": "code",
   "execution_count": 30,
   "id": "6ca8b731",
   "metadata": {
    "execution": {
     "iopub.execute_input": "2023-04-03T23:53:05.897914Z",
     "iopub.status.busy": "2023-04-03T23:53:05.897445Z",
     "iopub.status.idle": "2023-04-03T23:53:05.902633Z",
     "shell.execute_reply": "2023-04-03T23:53:05.901411Z"
    },
    "papermill": {
     "duration": 0.059393,
     "end_time": "2023-04-03T23:53:05.905162",
     "exception": false,
     "start_time": "2023-04-03T23:53:05.845769",
     "status": "completed"
    },
    "tags": []
   },
   "outputs": [],
   "source": [
    "# def outliers(threshold, col):\n",
    "#     q25, q75 = np.percentile(col, 25) , np.percentile(col, 75)\n",
    "#     iqr = q75- q25\n",
    "#     cutoff = iqr*threshold\n",
    "#     lower = q25-cutoff\n",
    "#     upper = q75+cutoff\n",
    "#     outliers = [x for x in col if x>=lower and x<=upper]\n",
    "#     print(f'no of outliers in {col.name} are', len(outliers))"
   ]
  },
  {
   "cell_type": "code",
   "execution_count": 31,
   "id": "b8f410c7",
   "metadata": {
    "execution": {
     "iopub.execute_input": "2023-04-03T23:53:06.004932Z",
     "iopub.status.busy": "2023-04-03T23:53:06.004482Z",
     "iopub.status.idle": "2023-04-03T23:53:06.009446Z",
     "shell.execute_reply": "2023-04-03T23:53:06.007994Z"
    },
    "papermill": {
     "duration": 0.057645,
     "end_time": "2023-04-03T23:53:06.011890",
     "exception": false,
     "start_time": "2023-04-03T23:53:05.954245",
     "status": "completed"
    },
    "tags": []
   },
   "outputs": [],
   "source": [
    "# for col in train_num_imp.columns:\n",
    "#   outliers(0.5, train_num_imp[col])"
   ]
  },
  {
   "cell_type": "code",
   "execution_count": 32,
   "id": "ab01c090",
   "metadata": {
    "execution": {
     "iopub.execute_input": "2023-04-03T23:53:06.112437Z",
     "iopub.status.busy": "2023-04-03T23:53:06.111986Z",
     "iopub.status.idle": "2023-04-03T23:53:06.117126Z",
     "shell.execute_reply": "2023-04-03T23:53:06.116053Z"
    },
    "papermill": {
     "duration": 0.058114,
     "end_time": "2023-04-03T23:53:06.119426",
     "exception": false,
     "start_time": "2023-04-03T23:53:06.061312",
     "status": "completed"
    },
    "tags": []
   },
   "outputs": [],
   "source": [
    "# train_num_outlier =train_num_imp[(abs(stats.zscore(train_num_imp)) < 3).all(axis=1)] #calculates mean and std dev for each col.... then it retains all the rows which satisfy that criteria\n",
    "# print(\"no of outlier rows removed \",len(train_num_imp)- len(train_num_outlier))"
   ]
  },
  {
   "cell_type": "code",
   "execution_count": 33,
   "id": "b2122bd0",
   "metadata": {
    "execution": {
     "iopub.execute_input": "2023-04-03T23:53:06.218204Z",
     "iopub.status.busy": "2023-04-03T23:53:06.217811Z",
     "iopub.status.idle": "2023-04-03T23:53:06.222512Z",
     "shell.execute_reply": "2023-04-03T23:53:06.221245Z"
    },
    "papermill": {
     "duration": 0.057404,
     "end_time": "2023-04-03T23:53:06.225011",
     "exception": false,
     "start_time": "2023-04-03T23:53:06.167607",
     "status": "completed"
    },
    "tags": []
   },
   "outputs": [],
   "source": [
    "# train_num_outlier.shape"
   ]
  },
  {
   "cell_type": "code",
   "execution_count": 34,
   "id": "aadd40eb",
   "metadata": {
    "execution": {
     "iopub.execute_input": "2023-04-03T23:53:06.323754Z",
     "iopub.status.busy": "2023-04-03T23:53:06.323316Z",
     "iopub.status.idle": "2023-04-03T23:53:06.329480Z",
     "shell.execute_reply": "2023-04-03T23:53:06.328407Z"
    },
    "papermill": {
     "duration": 0.058723,
     "end_time": "2023-04-03T23:53:06.331941",
     "exception": false,
     "start_time": "2023-04-03T23:53:06.273218",
     "status": "completed"
    },
    "tags": []
   },
   "outputs": [],
   "source": [
    "# train_out = train.iloc[train_num_outlier.index.values]\n",
    "# target_out = target.iloc[train_num_outlier.index.values]"
   ]
  },
  {
   "cell_type": "code",
   "execution_count": 35,
   "id": "92dabcb5",
   "metadata": {
    "execution": {
     "iopub.execute_input": "2023-04-03T23:53:06.430661Z",
     "iopub.status.busy": "2023-04-03T23:53:06.430268Z",
     "iopub.status.idle": "2023-04-03T23:53:06.434906Z",
     "shell.execute_reply": "2023-04-03T23:53:06.433744Z"
    },
    "papermill": {
     "duration": 0.056765,
     "end_time": "2023-04-03T23:53:06.437295",
     "exception": false,
     "start_time": "2023-04-03T23:53:06.380530",
     "status": "completed"
    },
    "tags": []
   },
   "outputs": [],
   "source": [
    "# ax = sns.boxplot(data=train_out,orient='h')"
   ]
  },
  {
   "cell_type": "markdown",
   "id": "de9aafe2",
   "metadata": {
    "papermill": {
     "duration": 0.047761,
     "end_time": "2023-04-03T23:53:06.533110",
     "exception": false,
     "start_time": "2023-04-03T23:53:06.485349",
     "status": "completed"
    },
    "tags": []
   },
   "source": [
    "# Scaling"
   ]
  },
  {
   "cell_type": "code",
   "execution_count": 36,
   "id": "e8de5e3b",
   "metadata": {
    "execution": {
     "iopub.execute_input": "2023-04-03T23:53:06.631629Z",
     "iopub.status.busy": "2023-04-03T23:53:06.631225Z",
     "iopub.status.idle": "2023-04-03T23:53:06.636662Z",
     "shell.execute_reply": "2023-04-03T23:53:06.635287Z"
    },
    "papermill": {
     "duration": 0.057923,
     "end_time": "2023-04-03T23:53:06.639327",
     "exception": false,
     "start_time": "2023-04-03T23:53:06.581404",
     "status": "completed"
    },
    "tags": []
   },
   "outputs": [],
   "source": [
    "# log = FunctionTransformer(lambda x: np.log(x+1))\n",
    "# pt = PowerTransformer()\n",
    "# ss = StandardScaler()\n",
    "\n",
    "# train_out[num_features] = pt.fit_transform(train_out[num_features])\n",
    "# test[num_features] = pt.transform(test[num_features])\n",
    "# train_out[num_features] = ss.fit_transform(train_out[num_features])\n",
    "# test[num_features] = ss.transform(test[num_features])\n",
    "\n",
    "# train_out.shape, test.shape"
   ]
  },
  {
   "cell_type": "markdown",
   "id": "caeb8ac0",
   "metadata": {
    "papermill": {
     "duration": 0.048092,
     "end_time": "2023-04-03T23:53:06.736483",
     "exception": false,
     "start_time": "2023-04-03T23:53:06.688391",
     "status": "completed"
    },
    "tags": []
   },
   "source": [
    "# Encoding"
   ]
  },
  {
   "cell_type": "code",
   "execution_count": 37,
   "id": "106b68c4",
   "metadata": {
    "execution": {
     "iopub.execute_input": "2023-04-03T23:53:06.836864Z",
     "iopub.status.busy": "2023-04-03T23:53:06.835410Z",
     "iopub.status.idle": "2023-04-03T23:53:06.841346Z",
     "shell.execute_reply": "2023-04-03T23:53:06.840456Z"
    },
    "papermill": {
     "duration": 0.058086,
     "end_time": "2023-04-03T23:53:06.843692",
     "exception": false,
     "start_time": "2023-04-03T23:53:06.785606",
     "status": "completed"
    },
    "tags": []
   },
   "outputs": [],
   "source": [
    "# le = LabelEncoder()\n",
    "# ohe = OneHotEncoder()\n",
    "\n",
    "# # for col in columns3:\n",
    "# #     train_out[col] = le.fit_transform(train_out[col])\n",
    "# #     test[col] = le.transform(test[col])\n",
    "# # train_out.shape, test.shape\n",
    "\n",
    "# # train_enc = ohe.fit_transform(train_out)\n",
    "# # test_enc = ohe.transform(test)\n",
    "# # train_enc.shape, test_enc.shape\n",
    "\n",
    "# train_enc = pd.get_dummies(train_out)\n",
    "# test_enc = pd.get_dummies(test)\n",
    "# train_enc.shape, test_enc.shape"
   ]
  },
  {
   "cell_type": "markdown",
   "id": "2f36fc5c",
   "metadata": {
    "papermill": {
     "duration": 0.047901,
     "end_time": "2023-04-03T23:53:06.940580",
     "exception": false,
     "start_time": "2023-04-03T23:53:06.892679",
     "status": "completed"
    },
    "tags": []
   },
   "source": [
    "# Converting DTypes"
   ]
  },
  {
   "cell_type": "code",
   "execution_count": 38,
   "id": "cfe9ad8e",
   "metadata": {
    "execution": {
     "iopub.execute_input": "2023-04-03T23:53:07.039975Z",
     "iopub.status.busy": "2023-04-03T23:53:07.039119Z",
     "iopub.status.idle": "2023-04-03T23:53:07.043739Z",
     "shell.execute_reply": "2023-04-03T23:53:07.042866Z"
    },
    "papermill": {
     "duration": 0.05715,
     "end_time": "2023-04-03T23:53:07.046038",
     "exception": false,
     "start_time": "2023-04-03T23:53:06.988888",
     "status": "completed"
    },
    "tags": []
   },
   "outputs": [],
   "source": [
    "# train_enc.loc[train_enc['SeasonalPurchase'] > 0.4, 'SeasonalPurchase'] = 1\n",
    "# train_enc.loc[train_enc['SeasonalPurchase'] <= 0.4, 'SeasonalPurchase'] = 0\n",
    "# print(train_enc['SeasonalPurchase'].value_counts())\n",
    "\n",
    "# test_enc.loc[test_enc['SeasonalPurchase'] > 0.4, 'SeasonalPurchase'] = 1\n",
    "# test_enc.loc[test_enc['SeasonalPurchase'] <= 0.4, 'SeasonalPurchase'] = 0\n",
    "# print(test_enc['SeasonalPurchase'].value_counts())"
   ]
  },
  {
   "cell_type": "code",
   "execution_count": 39,
   "id": "c7811810",
   "metadata": {
    "execution": {
     "iopub.execute_input": "2023-04-03T23:53:07.146119Z",
     "iopub.status.busy": "2023-04-03T23:53:07.145115Z",
     "iopub.status.idle": "2023-04-03T23:53:07.149890Z",
     "shell.execute_reply": "2023-04-03T23:53:07.148954Z"
    },
    "papermill": {
     "duration": 0.056821,
     "end_time": "2023-04-03T23:53:07.152304",
     "exception": false,
     "start_time": "2023-04-03T23:53:07.095483",
     "status": "completed"
    },
    "tags": []
   },
   "outputs": [],
   "source": [
    "# columns3 = ['OS', 'SearchEngine', 'Zone', 'Type_of_Traffic']\n",
    "\n",
    "# train_enc[columns3] = train_enc[columns3].astype('category')\n",
    "# train_enc[bool_features] = train_enc[bool_features].astype('bool')\n",
    "# print(train_enc['SeasonalPurchase'].value_counts())\n",
    "\n",
    "# test_enc[columns3] = test_enc[columns3].astype('category')\n",
    "# test_enc[bool_features] = test_enc[bool_features].astype('bool')\n",
    "# print(test_enc['SeasonalPurchase'].value_counts())"
   ]
  },
  {
   "cell_type": "code",
   "execution_count": 40,
   "id": "71333cfc",
   "metadata": {
    "execution": {
     "iopub.execute_input": "2023-04-03T23:53:07.251918Z",
     "iopub.status.busy": "2023-04-03T23:53:07.250539Z",
     "iopub.status.idle": "2023-04-03T23:53:07.255946Z",
     "shell.execute_reply": "2023-04-03T23:53:07.255048Z"
    },
    "papermill": {
     "duration": 0.057233,
     "end_time": "2023-04-03T23:53:07.258278",
     "exception": false,
     "start_time": "2023-04-03T23:53:07.201045",
     "status": "completed"
    },
    "tags": []
   },
   "outputs": [],
   "source": [
    "# train_enc.info(), test_enc.info()"
   ]
  },
  {
   "cell_type": "markdown",
   "id": "ba63bbde",
   "metadata": {
    "papermill": {
     "duration": 0.047708,
     "end_time": "2023-04-03T23:53:07.354134",
     "exception": false,
     "start_time": "2023-04-03T23:53:07.306426",
     "status": "completed"
    },
    "tags": []
   },
   "source": [
    "# SMOTE"
   ]
  },
  {
   "cell_type": "code",
   "execution_count": 41,
   "id": "3851fbe9",
   "metadata": {
    "execution": {
     "iopub.execute_input": "2023-04-03T23:53:07.453158Z",
     "iopub.status.busy": "2023-04-03T23:53:07.451852Z",
     "iopub.status.idle": "2023-04-03T23:53:07.457460Z",
     "shell.execute_reply": "2023-04-03T23:53:07.456585Z"
    },
    "papermill": {
     "duration": 0.057718,
     "end_time": "2023-04-03T23:53:07.459970",
     "exception": false,
     "start_time": "2023-04-03T23:53:07.402252",
     "status": "completed"
    },
    "tags": []
   },
   "outputs": [],
   "source": [
    "# from imblearn.over_sampling import SMOTE\n",
    "\n",
    "# sm = SMOTE(random_state=42)\n",
    "# train_sm, target_sm = sm.fit_resample(train_enc,target_out)\n",
    "\n",
    "# train_sm = train_sm.fillna(train_sm.mode().iloc[0])\n",
    "\n",
    "# train_sm.shape, target_sm.shape"
   ]
  },
  {
   "cell_type": "markdown",
   "id": "2a5ac53c",
   "metadata": {
    "papermill": {
     "duration": 0.047682,
     "end_time": "2023-04-03T23:53:07.555967",
     "exception": false,
     "start_time": "2023-04-03T23:53:07.508285",
     "status": "completed"
    },
    "tags": []
   },
   "source": [
    "# Preprocessing"
   ]
  },
  {
   "cell_type": "code",
   "execution_count": 42,
   "id": "193e76fd",
   "metadata": {
    "execution": {
     "iopub.execute_input": "2023-04-03T23:53:07.655022Z",
     "iopub.status.busy": "2023-04-03T23:53:07.654189Z",
     "iopub.status.idle": "2023-04-03T23:53:07.661653Z",
     "shell.execute_reply": "2023-04-03T23:53:07.660729Z"
    },
    "papermill": {
     "duration": 0.060093,
     "end_time": "2023-04-03T23:53:07.664213",
     "exception": false,
     "start_time": "2023-04-03T23:53:07.604120",
     "status": "completed"
    },
    "tags": []
   },
   "outputs": [],
   "source": [
    "simn = SimpleImputer(strategy='mean')\n",
    "simd = SimpleImputer(strategy='median')\n",
    "simf = SimpleImputer(strategy='most_frequent')\n",
    "knn = KNNImputer(n_neighbors=2)\n",
    "\n",
    "log = FunctionTransformer(lambda x: np.log(x+1))\n",
    "pt = PowerTransformer()\n",
    "ss = StandardScaler()\n",
    "mms = MinMaxScaler()\n",
    "\n",
    "ohe = OneHotEncoder()\n",
    "le = LabelEncoder()\n",
    "oe = OrdinalEncoder()\n",
    "\n",
    "ros = RandomOverSampler()"
   ]
  },
  {
   "cell_type": "code",
   "execution_count": 43,
   "id": "76ae62f7",
   "metadata": {
    "execution": {
     "iopub.execute_input": "2023-04-03T23:53:07.764209Z",
     "iopub.status.busy": "2023-04-03T23:53:07.763818Z",
     "iopub.status.idle": "2023-04-03T23:53:07.770790Z",
     "shell.execute_reply": "2023-04-03T23:53:07.769542Z"
    },
    "papermill": {
     "duration": 0.060592,
     "end_time": "2023-04-03T23:53:07.773663",
     "exception": false,
     "start_time": "2023-04-03T23:53:07.713071",
     "status": "completed"
    },
    "tags": []
   },
   "outputs": [],
   "source": [
    "num_trans = Pipeline(steps=[('imputer',knn),('pt',pt),('scaler',ss)])\n",
    "cat_trans = Pipeline(steps=[('imputer',simf),('encoder',ohe)])\n",
    "ct = ColumnTransformer(transformers=[('num_trans',num_trans,num_features),\n",
    "                                     ('cat_trans',cat_trans,cat_features)])"
   ]
  },
  {
   "cell_type": "code",
   "execution_count": 44,
   "id": "ed453541",
   "metadata": {
    "execution": {
     "iopub.execute_input": "2023-04-03T23:53:07.875835Z",
     "iopub.status.busy": "2023-04-03T23:53:07.874564Z",
     "iopub.status.idle": "2023-04-03T23:53:10.941902Z",
     "shell.execute_reply": "2023-04-03T23:53:10.940795Z"
    },
    "papermill": {
     "duration": 3.120588,
     "end_time": "2023-04-03T23:53:10.944815",
     "exception": false,
     "start_time": "2023-04-03T23:53:07.824227",
     "status": "completed"
    },
    "tags": []
   },
   "outputs": [],
   "source": [
    "# # Preprocessing\n",
    "\n",
    "# train_out = ct.fit_transform(train_out)\n",
    "# test_out = ct.transform(test)\n",
    "\n",
    "train_pp = ct.fit_transform(train)\n",
    "test_pp = ct.transform(test)\n",
    "\n",
    "# train_ros, target_ros = ros.fit_resample(train_out, target_out)\n",
    "\n",
    "# train_out.shape, test_out.shape, train_pp.shape, test_pp.shape, train_ros.shape, target_ros.shape"
   ]
  },
  {
   "cell_type": "code",
   "execution_count": 45,
   "id": "df8e1e26",
   "metadata": {
    "execution": {
     "iopub.execute_input": "2023-04-03T23:53:11.044871Z",
     "iopub.status.busy": "2023-04-03T23:53:11.043680Z",
     "iopub.status.idle": "2023-04-03T23:53:11.051227Z",
     "shell.execute_reply": "2023-04-03T23:53:11.049976Z"
    },
    "papermill": {
     "duration": 0.060554,
     "end_time": "2023-04-03T23:53:11.054328",
     "exception": false,
     "start_time": "2023-04-03T23:53:10.993774",
     "status": "completed"
    },
    "tags": []
   },
   "outputs": [
    {
     "name": "stdout",
     "output_type": "stream",
     "text": [
      "['HomePage', 'HomePage_Duration', 'LandingPage', 'LandingPage_Duration', 'ProductDescriptionPage', 'ProductDescriptionPage_Duration', 'GoogleMetric_Bounce_Rates', 'GoogleMetric_Exit_Rates', 'GoogleMetric_Page_Values', 'SeasonalPurchase', 'OS', 'SearchEngine', 'Zone', 'Type_of_Traffic', 'WeekendPurchase', 'Month_SeasonalPurchase_Aug', 'Month_SeasonalPurchase_Dec', 'Month_SeasonalPurchase_Feb', 'Month_SeasonalPurchase_Jul', 'Month_SeasonalPurchase_June', 'Month_SeasonalPurchase_Mar', 'Month_SeasonalPurchase_May', 'Month_SeasonalPurchase_Nov', 'Month_SeasonalPurchase_Oct', 'Month_SeasonalPurchase_Sep', 'CustomerType_New_Visitor', 'CustomerType_Other', 'CustomerType_Returning_Visitor', 'Gender_Female', 'Gender_Male', 'Gender_Not Specified', 'Cookies_Setting_ALL', 'Cookies_Setting_Deny', 'Cookies_Setting_Required', 'Education_Diploma', 'Education_Graduate', 'Education_Not Specified', 'Education_Others', 'Marital_Status_Married', 'Marital_Status_Other', 'Marital_Status_Single']\n"
     ]
    }
   ],
   "source": [
    "# Get the transformed feature names from the numerical pipeline\n",
    "num_pipeline = ct.named_transformers_['num_trans']\n",
    "num_feature_names = num_pipeline.named_steps['scaler'].get_feature_names_out(num_features)\n",
    "\n",
    "# Get the transformed feature names from the categorical pipeline\n",
    "cat_pipeline = ct.named_transformers_['cat_trans']\n",
    "cat_feature_names = cat_pipeline.named_steps['encoder'].get_feature_names_out(cat_features)\n",
    "\n",
    "# Concatenate the lists of feature names to get the final list\n",
    "feature_names = num_feature_names.tolist() + cat_feature_names.tolist()\n",
    "\n",
    "print(feature_names)"
   ]
  },
  {
   "cell_type": "code",
   "execution_count": 46,
   "id": "6fc05cd7",
   "metadata": {
    "execution": {
     "iopub.execute_input": "2023-04-03T23:53:11.154423Z",
     "iopub.status.busy": "2023-04-03T23:53:11.153559Z",
     "iopub.status.idle": "2023-04-03T23:53:11.159802Z",
     "shell.execute_reply": "2023-04-03T23:53:11.158944Z"
    },
    "papermill": {
     "duration": 0.058016,
     "end_time": "2023-04-03T23:53:11.161977",
     "exception": false,
     "start_time": "2023-04-03T23:53:11.103961",
     "status": "completed"
    },
    "tags": []
   },
   "outputs": [],
   "source": [
    "train_pp = pd.DataFrame(train_pp,columns=feature_names)\n",
    "test_pp = pd.DataFrame(test_pp,columns=feature_names)"
   ]
  },
  {
   "cell_type": "markdown",
   "id": "835c1f71",
   "metadata": {
    "papermill": {
     "duration": 0.048427,
     "end_time": "2023-04-03T23:53:11.258877",
     "exception": false,
     "start_time": "2023-04-03T23:53:11.210450",
     "status": "completed"
    },
    "tags": []
   },
   "source": [
    "# Feature Selection"
   ]
  },
  {
   "cell_type": "code",
   "execution_count": 47,
   "id": "8ae26a36",
   "metadata": {
    "execution": {
     "iopub.execute_input": "2023-04-03T23:53:11.358329Z",
     "iopub.status.busy": "2023-04-03T23:53:11.357311Z",
     "iopub.status.idle": "2023-04-03T23:53:14.909637Z",
     "shell.execute_reply": "2023-04-03T23:53:14.908416Z"
    },
    "papermill": {
     "duration": 3.604641,
     "end_time": "2023-04-03T23:53:14.912159",
     "exception": false,
     "start_time": "2023-04-03T23:53:11.307518",
     "status": "completed"
    },
    "tags": []
   },
   "outputs": [
    {
     "name": "stdout",
     "output_type": "stream",
     "text": [
      "[0.03699716 0.03715939 0.01770339 0.01656589 0.06133947 0.06120414\n",
      " 0.04777691 0.05937747 0.11460291 0.01193435 0.03941625 0.03535952\n",
      " 0.04858154 0.04927731 0.02374306 0.00630719 0.01227738 0.00258456\n",
      " 0.00631097 0.00505856 0.01045828 0.01367756 0.01299945 0.0063472\n",
      " 0.00614724 0.00760548 0.00136341 0.00843589 0.01763206 0.01785699\n",
      " 0.01848571 0.01928263 0.01947713 0.01938278 0.01830364 0.01917503\n",
      " 0.01849684 0.01895002 0.01755555 0.01727057 0.01751909]\n"
     ]
    },
    {
     "data": {
      "image/png": "[encoded data removed]",
      "text/plain": [
       "<Figure size 640x480 with 1 Axes>"
      ]
     },
     "metadata": {},
     "output_type": "display_data"
    }
   ],
   "source": [
    "model = ExtraTreesClassifier()\n",
    "model.fit(train_pp,target)\n",
    "\n",
    "print(model.feature_importances_)\n",
    "\n",
    "feat_importances = pd.Series(model.feature_importances_, index=train_pp.columns)\n",
    "feat_importances.nlargest(20).plot(kind='barh')\n",
    "plt.show()"
   ]
  },
  {
   "cell_type": "code",
   "execution_count": 48,
   "id": "ae33c025",
   "metadata": {
    "execution": {
     "iopub.execute_input": "2023-04-03T23:53:15.015658Z",
     "iopub.status.busy": "2023-04-03T23:53:15.015228Z",
     "iopub.status.idle": "2023-04-03T23:53:15.019589Z",
     "shell.execute_reply": "2023-04-03T23:53:15.018772Z"
    },
    "papermill": {
     "duration": 0.058825,
     "end_time": "2023-04-03T23:53:15.021594",
     "exception": false,
     "start_time": "2023-04-03T23:53:14.962769",
     "status": "completed"
    },
    "tags": []
   },
   "outputs": [],
   "source": [
    "# select = SelectKBest(mutual_info_classif,k=3)\n",
    "# train_fs = select.fit_transform(train_pp,target)\n",
    "# train_fs.shape"
   ]
  },
  {
   "cell_type": "code",
   "execution_count": 49,
   "id": "859b6412",
   "metadata": {
    "execution": {
     "iopub.execute_input": "2023-04-03T23:53:15.124736Z",
     "iopub.status.busy": "2023-04-03T23:53:15.124270Z",
     "iopub.status.idle": "2023-04-03T23:53:15.129692Z",
     "shell.execute_reply": "2023-04-03T23:53:15.128535Z"
    },
    "papermill": {
     "duration": 0.059879,
     "end_time": "2023-04-03T23:53:15.131903",
     "exception": false,
     "start_time": "2023-04-03T23:53:15.072024",
     "status": "completed"
    },
    "tags": []
   },
   "outputs": [],
   "source": [
    "# pca = PCA(random_state=42)\n",
    "# pca.fit(train_pp)\n",
    "\n",
    "# variance_ratio = pca.explained_variance_ratio_\n",
    "# cumulative_variance_ratio = np.cumsum(variance_ratio)\n",
    "# num_components = range(1, len(variance_ratio)+1)\n",
    "\n",
    "# plt.plot(num_components, cumulative_variance_ratio)\n",
    "# plt.axhline(0.99,c='r')\n",
    "# plt.axvline(51,c='g')\n",
    "# plt.xlabel('Number of components')\n",
    "# plt.ylabel('Cumulative explained variance ratio')\n",
    "# plt.show()"
   ]
  },
  {
   "cell_type": "code",
   "execution_count": 50,
   "id": "1c5a7fa5",
   "metadata": {
    "execution": {
     "iopub.execute_input": "2023-04-03T23:53:15.234763Z",
     "iopub.status.busy": "2023-04-03T23:53:15.234320Z",
     "iopub.status.idle": "2023-04-03T23:53:15.239144Z",
     "shell.execute_reply": "2023-04-03T23:53:15.237987Z"
    },
    "papermill": {
     "duration": 0.058862,
     "end_time": "2023-04-03T23:53:15.241337",
     "exception": false,
     "start_time": "2023-04-03T23:53:15.182475",
     "status": "completed"
    },
    "tags": []
   },
   "outputs": [],
   "source": [
    "# pca = PCA(random_state=42, n_components=50)\n",
    "# train_pca = pca.fit_transform(train_pp)\n",
    "# test_pca = pca.transform(test_pp)\n",
    "# train_pca.shape, test_pca.shape\n",
    "\n",
    "# # tsne = TSNE()\n",
    "# # train_tsne = tsne.fit_transform(train_out)\n",
    "# # train_tsne.shape"
   ]
  },
  {
   "cell_type": "code",
   "execution_count": 51,
   "id": "d7985879",
   "metadata": {
    "execution": {
     "iopub.execute_input": "2023-04-03T23:53:15.343840Z",
     "iopub.status.busy": "2023-04-03T23:53:15.343341Z",
     "iopub.status.idle": "2023-04-03T23:53:15.348446Z",
     "shell.execute_reply": "2023-04-03T23:53:15.347322Z"
    },
    "papermill": {
     "duration": 0.059468,
     "end_time": "2023-04-03T23:53:15.351278",
     "exception": false,
     "start_time": "2023-04-03T23:53:15.291810",
     "status": "completed"
    },
    "tags": []
   },
   "outputs": [],
   "source": [
    "# plt.scatter(train_ros[:,8],target_ros,c=target_ros)\n",
    "\n",
    "# ax = plt.axes(projection='3d')\n",
    "# ax.scatter(train_pca[:,0], train_pca[:,1],target, c=target, cmap='viridis', linewidth=0.5);"
   ]
  },
  {
   "cell_type": "code",
   "execution_count": 52,
   "id": "c6ada621",
   "metadata": {
    "execution": {
     "iopub.execute_input": "2023-04-03T23:53:15.454744Z",
     "iopub.status.busy": "2023-04-03T23:53:15.454017Z",
     "iopub.status.idle": "2023-04-03T23:53:15.458628Z",
     "shell.execute_reply": "2023-04-03T23:53:15.457689Z"
    },
    "papermill": {
     "duration": 0.05841,
     "end_time": "2023-04-03T23:53:15.460859",
     "exception": false,
     "start_time": "2023-04-03T23:53:15.402449",
     "status": "completed"
    },
    "tags": []
   },
   "outputs": [],
   "source": [
    "# ax = sns.boxplot(data=train_pca,orient='h')"
   ]
  },
  {
   "cell_type": "markdown",
   "id": "412e8be1",
   "metadata": {
    "papermill": {
     "duration": 0.050602,
     "end_time": "2023-04-03T23:53:15.562216",
     "exception": false,
     "start_time": "2023-04-03T23:53:15.511614",
     "status": "completed"
    },
    "tags": []
   },
   "source": [
    "# Multiple models"
   ]
  },
  {
   "cell_type": "code",
   "execution_count": 53,
   "id": "cb528a13",
   "metadata": {
    "execution": {
     "iopub.execute_input": "2023-04-03T23:53:15.665375Z",
     "iopub.status.busy": "2023-04-03T23:53:15.664325Z",
     "iopub.status.idle": "2023-04-03T23:53:15.673204Z",
     "shell.execute_reply": "2023-04-03T23:53:15.672129Z"
    },
    "papermill": {
     "duration": 0.063213,
     "end_time": "2023-04-03T23:53:15.675361",
     "exception": false,
     "start_time": "2023-04-03T23:53:15.612148",
     "status": "completed"
    },
    "tags": []
   },
   "outputs": [],
   "source": [
    "def apply(models, X, y):\n",
    "    clfs = []\n",
    "    train_f1 = []\n",
    "    eval_f1 = []\n",
    "    cv_f1 = []\n",
    "    for model in models:\n",
    "        clfs.append(model)\n",
    "        \n",
    "        models[model].fit(X,y)\n",
    "        y_pred = models[model].predict(X)\n",
    "        train_f1.append(f1_score(y,y_pred,average='weighted'))\n",
    "#         ConfusionMatrixDisplay(confusion_matrix(y,y_pred)).plot()\n",
    "        \n",
    "        X_train, X_test, y_train, y_test = train_test_split(X, y, test_size=0.2, stratify=y)\n",
    "        models[model].fit(X_train, y_train)\n",
    "        y_pred = models[model].predict(X_test)\n",
    "        eval_f1.append(f1_score(y_test, y_pred, average='weighted'))\n",
    "#         ConfusionMatrixDisplay(confusion_matrix(y_test,y_pred)).plot()\n",
    "        \n",
    "#         cv_f1.append(np.mean(cross_val_score(models[model],X,y,scoring=('f1_weighted'),cv=15)))\n",
    "        \n",
    "    df = pd.DataFrame({'Models':clfs, 'Training Set':train_f1, 'Evaluation Set':eval_f1})\n",
    "    return df"
   ]
  },
  {
   "cell_type": "code",
   "execution_count": 54,
   "id": "65ab9598",
   "metadata": {
    "execution": {
     "iopub.execute_input": "2023-04-03T23:53:15.778425Z",
     "iopub.status.busy": "2023-04-03T23:53:15.777977Z",
     "iopub.status.idle": "2023-04-03T23:53:15.795004Z",
     "shell.execute_reply": "2023-04-03T23:53:15.793718Z"
    },
    "papermill": {
     "duration": 0.072171,
     "end_time": "2023-04-03T23:53:15.797710",
     "exception": false,
     "start_time": "2023-04-03T23:53:15.725539",
     "status": "completed"
    },
    "tags": []
   },
   "outputs": [],
   "source": [
    "lr = LogisticRegression(random_state=42, max_iter=1000)\n",
    "lrcv = LogisticRegressionCV(random_state=42)\n",
    "pt = Perceptron(random_state=42)\n",
    "rc = RidgeClassifier(random_state=42)\n",
    "rccv = RidgeClassifierCV()\n",
    "sgd = SGDClassifier(random_state=42, loss='log')\n",
    "kmn = KMeans(random_state=42)\n",
    "ac = AgglomerativeClustering()\n",
    "lda = LinearDiscriminantAnalysis()\n",
    "qda = QuadraticDiscriminantAnalysis()\n",
    "gnb = GaussianNB()\n",
    "cnb = ComplementNB()\n",
    "knc = KNeighborsClassifier(n_neighbors=20)\n",
    "svc = SVC(random_state=42,probability=True)\n",
    "lsvc = LinearSVC(random_state=42,)\n",
    "dtc = DecisionTreeClassifier(random_state=42)\n",
    "etct = ExtraTreeClassifier(random_state=42)\n",
    "rfc = RandomForestClassifier(random_state=42,n_estimators=250)\n",
    "abc = AdaBoostClassifier(random_state=42,)\n",
    "bc = BaggingClassifier(random_state=42)\n",
    "gbc = GradientBoostingClassifier(random_state=42,)\n",
    "hgbc = HistGradientBoostingClassifier(random_state=42)\n",
    "etce = ExtraTreesClassifier(random_state=42)\n",
    "xgb = XGBClassifier(n_estimators=100, max_depth=3, learning_rate=0.01,  objective='binary:logistic', \n",
    "                    gamma=0.1, min_child_weight=7, subsample=0.7, colsample_bytree=0.8, eval_metric='auc', \n",
    "                    nthread=4, scale_pos_weight=(len(target) - sum(target))/sum(target), random_state=42)\n",
    "mlpc = MLPClassifier(random_state=42,activation='logistic',solver='sgd')\n",
    "sc = StackingClassifier(estimators=[('rfc',rfc),('xgb',xgb),('knc',knc)],final_estimator=abc)\n",
    "vc = VotingClassifier(estimators=[('abc',abc),('gbc',gbc),('lr',lr),('mlpc',mlpc)])"
   ]
  },
  {
   "cell_type": "code",
   "execution_count": 55,
   "id": "ff66cb50",
   "metadata": {
    "execution": {
     "iopub.execute_input": "2023-04-03T23:53:15.900848Z",
     "iopub.status.busy": "2023-04-03T23:53:15.900354Z",
     "iopub.status.idle": "2023-04-03T23:53:15.906588Z",
     "shell.execute_reply": "2023-04-03T23:53:15.905150Z"
    },
    "papermill": {
     "duration": 0.060929,
     "end_time": "2023-04-03T23:53:15.909123",
     "exception": false,
     "start_time": "2023-04-03T23:53:15.848194",
     "status": "completed"
    },
    "tags": []
   },
   "outputs": [],
   "source": [
    "# models = {'lr':lr, 'lrcv':lrcv, 'rc':rc, 'rccv':rccv, 'sgd':sgd,  \n",
    "#           'lda':lda, 'qda':qda, 'gnb':gnb, 'knc':knc, 'svc':svc, 'lsvc':lsvc, 'dtc':dtc, \n",
    "#           'etct':etct,  'rfc':rfc, 'abc':abc, 'bc':bc, 'gbc':gbc, 'hgbc':hgbc, 'etce':etce, 'xgb':xgb, \n",
    "#           'mlpc':mlpc, 'vc':vc}\n",
    "\n",
    "\n",
    "models = {'clf':sc}\n",
    "\n",
    "# apply(models, train_pp, target)\n",
    "\n",
    "# 0\tclf\t0.230076\t0.701393\n",
    "# clf\t0.228305\t0.718828\n",
    "# clf\t0.22457\t0.721087\n",
    "# clf\t0.22457\t0.739196\n",
    "# clf\t0.316943\t0.741848 adaboost"
   ]
  },
  {
   "cell_type": "code",
   "execution_count": 56,
   "id": "887d05db",
   "metadata": {
    "execution": {
     "iopub.execute_input": "2023-04-03T23:53:16.012288Z",
     "iopub.status.busy": "2023-04-03T23:53:16.011905Z",
     "iopub.status.idle": "2023-04-03T23:54:09.367814Z",
     "shell.execute_reply": "2023-04-03T23:54:09.366534Z"
    },
    "papermill": {
     "duration": 53.4116,
     "end_time": "2023-04-03T23:54:09.371110",
     "exception": false,
     "start_time": "2023-04-03T23:53:15.959510",
     "status": "completed"
    },
    "tags": []
   },
   "outputs": [],
   "source": [
    "# Version 69\n",
    "\n",
    "# print(apply({'lda':lda},train_enc,target_out))\n",
    "#Fitting to model with train data\n",
    "sc.fit(train_pp, target)\n",
    "\n",
    "#Predicting on test data\n",
    "y_pred = sc.predict(test_pp)\n",
    "output = pd.DataFrame({'id':range(len(y_pred)),'Made_Purchase':y_pred})\n",
    "output.to_csv('submission.csv',index=False)\n",
    "\n",
    "# train f1 -  0.316943\n",
    "# val f1 - 0.741848\n",
    "# Cross val f1 - 0.\n",
    "# test f1 - 0."
   ]
  },
  {
   "cell_type": "code",
   "execution_count": 57,
   "id": "ba1ed997",
   "metadata": {
    "execution": {
     "iopub.execute_input": "2023-04-03T23:54:09.473889Z",
     "iopub.status.busy": "2023-04-03T23:54:09.473181Z",
     "iopub.status.idle": "2023-04-03T23:54:09.478350Z",
     "shell.execute_reply": "2023-04-03T23:54:09.477467Z"
    },
    "papermill": {
     "duration": 0.059041,
     "end_time": "2023-04-03T23:54:09.480687",
     "exception": false,
     "start_time": "2023-04-03T23:54:09.421646",
     "status": "completed"
    },
    "tags": []
   },
   "outputs": [],
   "source": [
    "# # Version 68\n",
    "\n",
    "# # print(apply({'lda':lda},train_enc,target_out))\n",
    "# #Fitting to model with train data\n",
    "# sc.fit(train_pp, target)\n",
    "\n",
    "# #Predicting on test data\n",
    "# y_pred = sc.predict(test_pp)\n",
    "# output = pd.DataFrame({'id':range(len(y_pred)),'Made_Purchase':y_pred})\n",
    "# output.to_csv('submission.csv',index=False)\n",
    "\n",
    "# # train f1 -  0.228305\n",
    "# # val f1 - 0.718828\n",
    "# # Cross val f1 - 0.\n",
    "# # test f1 - 0.68661"
   ]
  },
  {
   "cell_type": "code",
   "execution_count": 58,
   "id": "5f5db505",
   "metadata": {
    "execution": {
     "iopub.execute_input": "2023-04-03T23:54:09.583233Z",
     "iopub.status.busy": "2023-04-03T23:54:09.582546Z",
     "iopub.status.idle": "2023-04-03T23:54:09.587586Z",
     "shell.execute_reply": "2023-04-03T23:54:09.586763Z"
    },
    "papermill": {
     "duration": 0.059346,
     "end_time": "2023-04-03T23:54:09.589954",
     "exception": false,
     "start_time": "2023-04-03T23:54:09.530608",
     "status": "completed"
    },
    "tags": []
   },
   "outputs": [],
   "source": [
    "# # Version 67\n",
    "\n",
    "# print(apply({'lr':lr},train_enc,target_out))\n",
    "# #Fitting to model with train data\n",
    "# lr.fit(train_enc, target_out)\n",
    "\n",
    "# #Predicting on test data\n",
    "# y_pred = lr.predict(test_enc)\n",
    "# output = pd.DataFrame({'id':range(len(y_pred)),'Made_Purchase':y_pred})\n",
    "# output.to_csv('submission.csv',index=False)\n",
    "\n",
    "# # train f1 -  0.635583\n",
    "# # val f1 - 0.621119\n",
    "# # Cross val f1 - 0.607537\n",
    "# # test f1 - 0."
   ]
  },
  {
   "cell_type": "code",
   "execution_count": 59,
   "id": "e1c44fef",
   "metadata": {
    "execution": {
     "iopub.execute_input": "2023-04-03T23:54:09.692500Z",
     "iopub.status.busy": "2023-04-03T23:54:09.691815Z",
     "iopub.status.idle": "2023-04-03T23:54:09.697000Z",
     "shell.execute_reply": "2023-04-03T23:54:09.696135Z"
    },
    "papermill": {
     "duration": 0.059378,
     "end_time": "2023-04-03T23:54:09.699280",
     "exception": false,
     "start_time": "2023-04-03T23:54:09.639902",
     "status": "completed"
    },
    "tags": []
   },
   "outputs": [],
   "source": [
    "# # Version 65\n",
    "\n",
    "# print(apply({'lr':lr},train_sm,target_sm))\n",
    "# #Fitting to model with train data\n",
    "# lr.fit(train_sm, target_sm)\n",
    "\n",
    "# #Predicting on test data\n",
    "# y_pred = lr.predict(test_enc)\n",
    "# output = pd.DataFrame({'id':range(len(y_pred)),'Made_Purchase':y_pred})\n",
    "# output.to_csv('submission.csv',index=False)\n",
    "\n",
    "# # train f1 -  0.709849\n",
    "# # val f1 - 0.705434\n",
    "# # Cross val f1 - 0.670915\n",
    "# # test f1 - 0.64555"
   ]
  },
  {
   "cell_type": "code",
   "execution_count": 60,
   "id": "cd142b7a",
   "metadata": {
    "execution": {
     "iopub.execute_input": "2023-04-03T23:54:09.804135Z",
     "iopub.status.busy": "2023-04-03T23:54:09.803402Z",
     "iopub.status.idle": "2023-04-03T23:54:09.808551Z",
     "shell.execute_reply": "2023-04-03T23:54:09.807687Z"
    },
    "papermill": {
     "duration": 0.061141,
     "end_time": "2023-04-03T23:54:09.810858",
     "exception": false,
     "start_time": "2023-04-03T23:54:09.749717",
     "status": "completed"
    },
    "tags": []
   },
   "outputs": [],
   "source": [
    "# # Version 63 - AdaBoost\n",
    "\n",
    "# # print(apply({'abc':abc},train_pp,target))\n",
    "\n",
    "# #Fitting to model with train data\n",
    "# abc.fit(train_pp, target)\n",
    "\n",
    "# #Predicting on test data\n",
    "# y_pred = abc.predict(test_pp)\n",
    "# output = pd.DataFrame({'id':range(len(y_pred)),'Made_Purchase':y_pred})\n",
    "# output.to_csv('submission.csv',index=False)\n",
    "\n",
    "# # train f1 -  0.633402\n",
    "# # val f1 - 0.631638\n",
    "# # Cross val f1 - 0.589433\n",
    "# # test f1 - 0.64434"
   ]
  },
  {
   "cell_type": "code",
   "execution_count": 61,
   "id": "397b3ee7",
   "metadata": {
    "execution": {
     "iopub.execute_input": "2023-04-03T23:54:09.914982Z",
     "iopub.status.busy": "2023-04-03T23:54:09.914476Z",
     "iopub.status.idle": "2023-04-03T23:54:09.920139Z",
     "shell.execute_reply": "2023-04-03T23:54:09.918782Z"
    },
    "papermill": {
     "duration": 0.061491,
     "end_time": "2023-04-03T23:54:09.922908",
     "exception": false,
     "start_time": "2023-04-03T23:54:09.861417",
     "status": "completed"
    },
    "tags": []
   },
   "outputs": [],
   "source": [
    "# Version  - \n",
    "\n",
    "# print(apply({'rfc':rfc},train_pca,target))\n",
    "\n",
    "#Fitting to model with train data\n",
    "# abc.fit(train_pca, target)\n",
    "\n",
    "#Predicting on test data\n",
    "# y_pred = abc.predict(test_pca)\n",
    "# output = pd.DataFrame({'id':range(len(y_pred)),'Made_Purchase':y_pred})\n",
    "# output.to_csv('submission.csv',index=False)\n",
    "\n",
    "# train f1 -  0.\n",
    "# val f1 - 0.\n",
    "# Cross val f1 - 0.\n",
    "# test f1 - 0."
   ]
  },
  {
   "cell_type": "code",
   "execution_count": 62,
   "id": "c56684f8",
   "metadata": {
    "execution": {
     "iopub.execute_input": "2023-04-03T23:54:10.028635Z",
     "iopub.status.busy": "2023-04-03T23:54:10.028183Z",
     "iopub.status.idle": "2023-04-03T23:54:10.032310Z",
     "shell.execute_reply": "2023-04-03T23:54:10.031460Z"
    },
    "papermill": {
     "duration": 0.059348,
     "end_time": "2023-04-03T23:54:10.034542",
     "exception": false,
     "start_time": "2023-04-03T23:54:09.975194",
     "status": "completed"
    },
    "tags": []
   },
   "outputs": [],
   "source": [
    "# # Version  - RandomForest\n",
    "# param_grid = {'n_estimators':[10,25,50,100],'min_samples_split':[2,5,10,25,50],'min_samples_leaf':[1,2,4,8,10,25,50],\n",
    "#              'max_depth':[2,4,6,8,10,None],'bootstrap':[True,False]}\n",
    "# gscv = GridSearchCV(rfc,param_grid=param_grid,cv=7)\n",
    "# gscv.fit(train_pca, target)\n",
    "# gscv.best_params_"
   ]
  },
  {
   "cell_type": "code",
   "execution_count": null,
   "id": "3b12e76c",
   "metadata": {
    "papermill": {
     "duration": 0.05075,
     "end_time": "2023-04-03T23:54:10.136662",
     "exception": false,
     "start_time": "2023-04-03T23:54:10.085912",
     "status": "completed"
    },
    "tags": []
   },
   "outputs": [],
   "source": []
  },
  {
   "cell_type": "markdown",
   "id": "d1bbad33",
   "metadata": {
    "papermill": {
     "duration": 0.050808,
     "end_time": "2023-04-03T23:54:10.240606",
     "exception": false,
     "start_time": "2023-04-03T23:54:10.189798",
     "status": "completed"
    },
    "tags": []
   },
   "source": [
    "# Regression Analysis Models"
   ]
  },
  {
   "cell_type": "code",
   "execution_count": 63,
   "id": "baca4137",
   "metadata": {
    "execution": {
     "iopub.execute_input": "2023-04-03T23:54:10.344586Z",
     "iopub.status.busy": "2023-04-03T23:54:10.343776Z",
     "iopub.status.idle": "2023-04-03T23:54:10.348760Z",
     "shell.execute_reply": "2023-04-03T23:54:10.347640Z"
    },
    "papermill": {
     "duration": 0.060251,
     "end_time": "2023-04-03T23:54:10.351272",
     "exception": false,
     "start_time": "2023-04-03T23:54:10.291021",
     "status": "completed"
    },
    "tags": []
   },
   "outputs": [],
   "source": [
    "# train1 = train.copy()\n",
    "# test1 = test.copy()\n",
    "# train1.shape, test1.shape"
   ]
  },
  {
   "cell_type": "code",
   "execution_count": 64,
   "id": "94665215",
   "metadata": {
    "execution": {
     "iopub.execute_input": "2023-04-03T23:54:10.455531Z",
     "iopub.status.busy": "2023-04-03T23:54:10.455087Z",
     "iopub.status.idle": "2023-04-03T23:54:10.460733Z",
     "shell.execute_reply": "2023-04-03T23:54:10.459460Z"
    },
    "papermill": {
     "duration": 0.06051,
     "end_time": "2023-04-03T23:54:10.463268",
     "exception": false,
     "start_time": "2023-04-03T23:54:10.402758",
     "status": "completed"
    },
    "tags": []
   },
   "outputs": [],
   "source": [
    "# def regFillNA(data,X,y):\n",
    "#     from sklearn.linear_model import LinearRegression\n",
    "\n",
    "#     X_train = data[(data[X].isnull() == False) & (data[y].isnull() == False)][[X]]\n",
    "#     y_train = data[(data[X].isnull() == False) & (data[y].isnull() == False)][y]\n",
    "\n",
    "#     X_test = data[data[y].isnull() == True][[X]]\n",
    "# #     X_test1 = data[test1[y].isnull() == True][[X]]\n",
    "\n",
    "#     lir = LinearRegression()\n",
    "#     lir.fit(X_train, y_train)\n",
    "    \n",
    "#     y_pred = lir.predict(X_test)\n",
    "# #     y_pred1 = lir.predict(X_test1)\n",
    "    \n",
    "#     data.loc[data[y].isnull() == True, y] = y_pred\n",
    "# #     test1.loc[test1[y].isnull() == True, y] = y_pred1\n",
    "    \n",
    "#     return"
   ]
  },
  {
   "cell_type": "code",
   "execution_count": 65,
   "id": "54fce1b2",
   "metadata": {
    "execution": {
     "iopub.execute_input": "2023-04-03T23:54:10.567409Z",
     "iopub.status.busy": "2023-04-03T23:54:10.566950Z",
     "iopub.status.idle": "2023-04-03T23:54:10.572020Z",
     "shell.execute_reply": "2023-04-03T23:54:10.570755Z"
    },
    "papermill": {
     "duration": 0.060278,
     "end_time": "2023-04-03T23:54:10.574311",
     "exception": false,
     "start_time": "2023-04-03T23:54:10.514033",
     "status": "completed"
    },
    "tags": []
   },
   "outputs": [],
   "source": [
    "# train1.isnull().sum(), test1.isnull().sum()"
   ]
  },
  {
   "cell_type": "code",
   "execution_count": 66,
   "id": "e22e79a2",
   "metadata": {
    "execution": {
     "iopub.execute_input": "2023-04-03T23:54:10.677656Z",
     "iopub.status.busy": "2023-04-03T23:54:10.677216Z",
     "iopub.status.idle": "2023-04-03T23:54:10.682428Z",
     "shell.execute_reply": "2023-04-03T23:54:10.681523Z"
    },
    "papermill": {
     "duration": 0.059571,
     "end_time": "2023-04-03T23:54:10.684457",
     "exception": false,
     "start_time": "2023-04-03T23:54:10.624886",
     "status": "completed"
    },
    "tags": []
   },
   "outputs": [],
   "source": [
    "# # Train data\n",
    "# # regFillNA(train1,'HomePage','HomePage_Duration')\n",
    "# # regFillNA(train1,'HomePage_Duration','HomePage')\n",
    "\n",
    "# # regFillNA(train1,'LandingPage','LandingPage_Duration')\n",
    "# # regFillNA(train1,'LandingPage_Duration','LandingPage')\n",
    "\n",
    "# regFillNA(train1,'ProductDescriptionPage','ProductDescriptionPage_Duration')\n",
    "# regFillNA(train1,'ProductDescriptionPage_Duration','ProductDescriptionPage')\n",
    "\n",
    "# regFillNA(train1,'GoogleMetric_Bounce_Rates','GoogleMetric_Exit_Rates')\n",
    "# regFillNA(train1,'GoogleMetric_Exit_Rates','GoogleMetric_Bounce_Rates')\n",
    "\n",
    "# # Test data\n",
    "# # regFillNA(test1,'HomePage','HomePage_Duration')\n",
    "# # regFillNA(test1,'HomePage_Duration','HomePage')\n",
    "\n",
    "# # regFillNA(test1,'LandingPage','LandingPage_Duration')\n",
    "# # regFillNA(test1,'LandingPage_Duration','LandingPage')\n",
    "\n",
    "# regFillNA(test1,'ProductDescriptionPage','ProductDescriptionPage_Duration')\n",
    "# regFillNA(test1,'ProductDescriptionPage_Duration','ProductDescriptionPage')\n",
    "\n",
    "# regFillNA(test1,'GoogleMetric_Bounce_Rates','GoogleMetric_Exit_Rates')\n",
    "# regFillNA(test1,'GoogleMetric_Exit_Rates','GoogleMetric_Bounce_Rates')"
   ]
  },
  {
   "cell_type": "code",
   "execution_count": 67,
   "id": "2cda7d3c",
   "metadata": {
    "execution": {
     "iopub.execute_input": "2023-04-03T23:54:10.789775Z",
     "iopub.status.busy": "2023-04-03T23:54:10.788509Z",
     "iopub.status.idle": "2023-04-03T23:54:10.794461Z",
     "shell.execute_reply": "2023-04-03T23:54:10.793339Z"
    },
    "papermill": {
     "duration": 0.061455,
     "end_time": "2023-04-03T23:54:10.796856",
     "exception": false,
     "start_time": "2023-04-03T23:54:10.735401",
     "status": "completed"
    },
    "tags": []
   },
   "outputs": [],
   "source": [
    "# X_pv = train1[['GoogleMetric_Bounce_Rates','GoogleMetric_Exit_Rates']]\n",
    "# X_pv1 = test1[['GoogleMetric_Bounce_Rates','GoogleMetric_Exit_Rates']]\n",
    "# y_pv = train1['GoogleMetric_Page_Values']\n",
    "# y_pv1 = test1['GoogleMetric_Page_Values']\n",
    "\n",
    "# from sklearn.linear_model import LinearRegression\n",
    "\n",
    "# X_train = X_pv.iloc[y_pv[y_pv.isnull() == False].index.values]\n",
    "# y_train = y_pv.iloc[y_pv[y_pv.isnull() == False].index.values]\n",
    "# X_test = X_pv.iloc[y_pv[y_pv.isnull() == True].index.values]\n",
    "# X_test1 = X_pv1.iloc[y_pv1[y_pv1.isnull() == True].index.values]\n",
    "\n",
    "# lir = LinearRegression()\n",
    "# lir.fit(X_train, y_train)\n",
    "\n",
    "# y_pred = lir.predict(X_test)\n",
    "# y_pred1 = lir.predict(X_test1)\n",
    "\n",
    "# train1.loc[train1['GoogleMetric_Page_Values'].isnull() == True, 'GoogleMetric_Page_Values'] = y_pred\n",
    "# test1.loc[test1['GoogleMetric_Page_Values'].isnull() == True, 'GoogleMetric_Page_Values'] = y_pred1"
   ]
  },
  {
   "cell_type": "code",
   "execution_count": 68,
   "id": "d18fa871",
   "metadata": {
    "execution": {
     "iopub.execute_input": "2023-04-03T23:54:10.901162Z",
     "iopub.status.busy": "2023-04-03T23:54:10.900678Z",
     "iopub.status.idle": "2023-04-03T23:54:10.906227Z",
     "shell.execute_reply": "2023-04-03T23:54:10.904953Z"
    },
    "papermill": {
     "duration": 0.06061,
     "end_time": "2023-04-03T23:54:10.908453",
     "exception": false,
     "start_time": "2023-04-03T23:54:10.847843",
     "status": "completed"
    },
    "tags": []
   },
   "outputs": [],
   "source": [
    "# train1[num_features] = train1[num_features].fillna(train1[num_features].median())\n",
    "# test1[num_features] = test1[num_features].fillna(test1[num_features].median())\n",
    "\n",
    "# train1[cat_features] = train1[cat_features].fillna(train1[cat_features].mode().iloc[0])\n",
    "# test1[cat_features] = test1[cat_features].fillna(test1[cat_features].mode().iloc[0])\n",
    "\n",
    "# train1 = pd.get_dummies(train1)\n",
    "# test1 = pd.get_dummies(test1)\n",
    "\n",
    "# train1.shape, test1.shape"
   ]
  },
  {
   "cell_type": "code",
   "execution_count": 69,
   "id": "c1128eef",
   "metadata": {
    "execution": {
     "iopub.execute_input": "2023-04-03T23:54:11.012204Z",
     "iopub.status.busy": "2023-04-03T23:54:11.011789Z",
     "iopub.status.idle": "2023-04-03T23:54:11.015859Z",
     "shell.execute_reply": "2023-04-03T23:54:11.014911Z"
    },
    "papermill": {
     "duration": 0.058063,
     "end_time": "2023-04-03T23:54:11.018026",
     "exception": false,
     "start_time": "2023-04-03T23:54:10.959963",
     "status": "completed"
    },
    "tags": []
   },
   "outputs": [],
   "source": [
    "# for column in train1.columns:\n",
    "#     train1[column] = np.where(train1[column] < 0, 0, train1[column])\n",
    "#     test1[column] = np.where(test1[column] < 0, 0, test1[column])"
   ]
  },
  {
   "cell_type": "code",
   "execution_count": 70,
   "id": "11e43057",
   "metadata": {
    "execution": {
     "iopub.execute_input": "2023-04-03T23:54:11.121277Z",
     "iopub.status.busy": "2023-04-03T23:54:11.120857Z",
     "iopub.status.idle": "2023-04-03T23:54:11.125670Z",
     "shell.execute_reply": "2023-04-03T23:54:11.124215Z"
    },
    "papermill": {
     "duration": 0.059236,
     "end_time": "2023-04-03T23:54:11.128058",
     "exception": false,
     "start_time": "2023-04-03T23:54:11.068822",
     "status": "completed"
    },
    "tags": []
   },
   "outputs": [],
   "source": [
    "# from sklearn.preprocessing import StandardScaler, FunctionTransformer\n",
    "\n",
    "# ft = FunctionTransformer(lambda x: np.log(x+1))\n",
    "# ss = StandardScaler()\n",
    "\n",
    "# train1[num_features] = ft.fit_transform(train1[num_features])\n",
    "# test1[num_features] = ft.transform(test1[num_features])\n",
    "\n",
    "# train1[num_features] = ss.fit_transform(train1[num_features])\n",
    "# test1[num_features] = ss.transform(test1[num_features])"
   ]
  },
  {
   "cell_type": "code",
   "execution_count": 71,
   "id": "65cff8e9",
   "metadata": {
    "execution": {
     "iopub.execute_input": "2023-04-03T23:54:11.232104Z",
     "iopub.status.busy": "2023-04-03T23:54:11.231634Z",
     "iopub.status.idle": "2023-04-03T23:54:11.237036Z",
     "shell.execute_reply": "2023-04-03T23:54:11.235795Z"
    },
    "papermill": {
     "duration": 0.060535,
     "end_time": "2023-04-03T23:54:11.239562",
     "exception": false,
     "start_time": "2023-04-03T23:54:11.179027",
     "status": "completed"
    },
    "tags": []
   },
   "outputs": [],
   "source": [
    "# from scipy import stats\n",
    "# outliers =train1[(abs(stats.zscore(train1[num_features])) < 3).all(axis=1)] #calculates mean and std dev for each col.... then it retains all the rows which satisfy that criteria\n",
    "# print(\"no of outlier rows\",len(train1[num_features])- len(outliers))"
   ]
  },
  {
   "cell_type": "code",
   "execution_count": 72,
   "id": "ee85ed02",
   "metadata": {
    "execution": {
     "iopub.execute_input": "2023-04-03T23:54:11.343400Z",
     "iopub.status.busy": "2023-04-03T23:54:11.342971Z",
     "iopub.status.idle": "2023-04-03T23:54:11.347615Z",
     "shell.execute_reply": "2023-04-03T23:54:11.346487Z"
    },
    "papermill": {
     "duration": 0.059328,
     "end_time": "2023-04-03T23:54:11.349932",
     "exception": false,
     "start_time": "2023-04-03T23:54:11.290604",
     "status": "completed"
    },
    "tags": []
   },
   "outputs": [],
   "source": [
    "# train1_out = train1.iloc[outliers.index.values]\n",
    "# target1_out = target.iloc[outliers.index.values]\n",
    "\n",
    "# train1_out.shape, target1_out.shape"
   ]
  },
  {
   "cell_type": "code",
   "execution_count": 73,
   "id": "18cc704b",
   "metadata": {
    "execution": {
     "iopub.execute_input": "2023-04-03T23:54:11.454890Z",
     "iopub.status.busy": "2023-04-03T23:54:11.454407Z",
     "iopub.status.idle": "2023-04-03T23:54:11.459599Z",
     "shell.execute_reply": "2023-04-03T23:54:11.458417Z"
    },
    "papermill": {
     "duration": 0.060784,
     "end_time": "2023-04-03T23:54:11.462001",
     "exception": false,
     "start_time": "2023-04-03T23:54:11.401217",
     "status": "completed"
    },
    "tags": []
   },
   "outputs": [],
   "source": [
    "# from sklearn.ensemble import IsolationForest\n",
    "\n",
    "# ift = IsolationForest(random_state=42)\n",
    "# ift.fit(train1)\n",
    "# y_ift = ift.predict(train1)\n",
    "# y_ift1 = ift.predict(test1)\n",
    "\n",
    "# # y_pred_iforest = np.where(pd.DataFrame(y_iforest,columns=['outliers']) == 1, 1, 0)\n",
    "\n",
    "# train1['Outliers'] = y_ift\n",
    "# test1['Outliers'] = y_ift1\n",
    "\n",
    "# train1.shape, test1.shape"
   ]
  },
  {
   "cell_type": "code",
   "execution_count": 74,
   "id": "03a78487",
   "metadata": {
    "execution": {
     "iopub.execute_input": "2023-04-03T23:54:11.566906Z",
     "iopub.status.busy": "2023-04-03T23:54:11.565573Z",
     "iopub.status.idle": "2023-04-03T23:54:11.571443Z",
     "shell.execute_reply": "2023-04-03T23:54:11.570225Z"
    },
    "papermill": {
     "duration": 0.061254,
     "end_time": "2023-04-03T23:54:11.573925",
     "exception": false,
     "start_time": "2023-04-03T23:54:11.512671",
     "status": "completed"
    },
    "tags": []
   },
   "outputs": [],
   "source": [
    "# pca = PCA(random_state=42,n_components='mle')\n",
    "\n",
    "# train1_pca = pca.fit_transform(train1_out)\n",
    "# test1_pca = pca.transform(test1)\n",
    "# train1_pca.shape, test1_pca.shape"
   ]
  },
  {
   "cell_type": "code",
   "execution_count": 75,
   "id": "e5ebf9a8",
   "metadata": {
    "execution": {
     "iopub.execute_input": "2023-04-03T23:54:11.677501Z",
     "iopub.status.busy": "2023-04-03T23:54:11.677073Z",
     "iopub.status.idle": "2023-04-03T23:54:11.682524Z",
     "shell.execute_reply": "2023-04-03T23:54:11.681279Z"
    },
    "papermill": {
     "duration": 0.060204,
     "end_time": "2023-04-03T23:54:11.684957",
     "exception": false,
     "start_time": "2023-04-03T23:54:11.624753",
     "status": "completed"
    },
    "tags": []
   },
   "outputs": [],
   "source": [
    "# models = {'lr':lr, 'lrcv':lrcv, 'rc':rc, 'rccv':rccv, 'sgd':sgd,  \n",
    "#           'lda':lda, 'qda':qda, 'gnb':gnb, 'knc':knc, 'svc':svc, 'lsvc':lsvc, 'dtc':dtc, \n",
    "#           'etct':etct,  'rfc':rfc, 'abc':abc, 'bc':bc, 'gbc':gbc, 'hgbc':hgbc, 'etce':etce, 'xgb':xgb, \n",
    "#           'mlpc':mlpc, 'vc':vc}\n",
    "\n",
    "# # train_new = train1[['GoogleMetric_Page_Values']]\n",
    "# # target_new =  target.copy()\n",
    "# # print(train_new.shape, target_new.shape)\n",
    "\n",
    "\n",
    "# apply(models, train1_pca, target1_out)"
   ]
  },
  {
   "cell_type": "code",
   "execution_count": 76,
   "id": "ac7625c8",
   "metadata": {
    "execution": {
     "iopub.execute_input": "2023-04-03T23:54:11.789381Z",
     "iopub.status.busy": "2023-04-03T23:54:11.788907Z",
     "iopub.status.idle": "2023-04-03T23:54:11.794040Z",
     "shell.execute_reply": "2023-04-03T23:54:11.792803Z"
    },
    "papermill": {
     "duration": 0.059831,
     "end_time": "2023-04-03T23:54:11.796432",
     "exception": false,
     "start_time": "2023-04-03T23:54:11.736601",
     "status": "completed"
    },
    "tags": []
   },
   "outputs": [],
   "source": [
    "# # # Version  - RandomForest\n",
    "# param_grid = {'n_estimators':[25,50,100],'min_samples_split':[2,3,4,5,6],'min_samples_leaf':[1,2,3,4,5,6,7],\n",
    "#              'max_depth':[2,4,6,8,10,None],}\n",
    "# gscv = GridSearchCV(rfc,param_grid=param_grid,cv=15)\n",
    "# rfc = RandomForestClassifier(random_state=42,max_depth=20)\n",
    "\n",
    "# print(apply({'rfc':rfc},train1_pca,target1_out))"
   ]
  },
  {
   "cell_type": "code",
   "execution_count": 77,
   "id": "59707c13",
   "metadata": {
    "execution": {
     "iopub.execute_input": "2023-04-03T23:54:11.900805Z",
     "iopub.status.busy": "2023-04-03T23:54:11.900316Z",
     "iopub.status.idle": "2023-04-03T23:54:11.905900Z",
     "shell.execute_reply": "2023-04-03T23:54:11.904540Z"
    },
    "papermill": {
     "duration": 0.060602,
     "end_time": "2023-04-03T23:54:11.908499",
     "exception": false,
     "start_time": "2023-04-03T23:54:11.847897",
     "status": "completed"
    },
    "tags": []
   },
   "outputs": [],
   "source": [
    "# # Version  - AdaBoost\n",
    "\n",
    "# print(apply({'abc':abc},train1_pca,target))\n",
    "\n",
    "# #Fitting to model with train data\n",
    "# svc.fit(train1_pca, target)\n",
    "\n",
    "# #Predicting on test data\n",
    "# y_pred = svc.predict(test1_pca)\n",
    "# output = pd.DataFrame({'id':range(len(y_pred)),'Made_Purchase':y_pred})\n",
    "# output.to_csv('submission.csv',index=False)\n",
    "\n",
    "# # train f1 -  0.624995\n",
    "# # val f1 - 0.612864\n",
    "# # Cross val f1 - 0.585047\n",
    "# # test f1 - 0."
   ]
  },
  {
   "cell_type": "code",
   "execution_count": 78,
   "id": "c84f8ece",
   "metadata": {
    "execution": {
     "iopub.execute_input": "2023-04-03T23:54:12.014231Z",
     "iopub.status.busy": "2023-04-03T23:54:12.013801Z",
     "iopub.status.idle": "2023-04-03T23:54:12.019268Z",
     "shell.execute_reply": "2023-04-03T23:54:12.018027Z"
    },
    "papermill": {
     "duration": 0.062192,
     "end_time": "2023-04-03T23:54:12.021621",
     "exception": false,
     "start_time": "2023-04-03T23:54:11.959429",
     "status": "completed"
    },
    "tags": []
   },
   "outputs": [],
   "source": [
    "# # Version 62 - SVC\n",
    "\n",
    "# # print(apply({'svc':svc},train1_pca,target))\n",
    "\n",
    "# #Fitting to model with train data\n",
    "# svc.fit(train1_pca, target)\n",
    "\n",
    "# #Predicting on test data\n",
    "# y_pred = svc.predict(test1_pca)\n",
    "# output = pd.DataFrame({'id':range(len(y_pred)),'Made_Purchase':y_pred})\n",
    "# output.to_csv('submission.csv',index=False)\n",
    "\n",
    "# # train f1 -  0.639078\n",
    "# # val f1 - 0.619801\n",
    "# # Cross val f1 - 0.60734\n",
    "# # test f1 - 0.63994"
   ]
  },
  {
   "cell_type": "code",
   "execution_count": 79,
   "id": "cec25ba7",
   "metadata": {
    "execution": {
     "iopub.execute_input": "2023-04-03T23:54:12.125395Z",
     "iopub.status.busy": "2023-04-03T23:54:12.124951Z",
     "iopub.status.idle": "2023-04-03T23:54:12.130747Z",
     "shell.execute_reply": "2023-04-03T23:54:12.129590Z"
    },
    "papermill": {
     "duration": 0.060687,
     "end_time": "2023-04-03T23:54:12.133020",
     "exception": false,
     "start_time": "2023-04-03T23:54:12.072333",
     "status": "completed"
    },
    "tags": []
   },
   "outputs": [],
   "source": [
    "# # Version 61 - Gradient Boosting\n",
    "\n",
    "# # print(apply({'gbc':gbc},train1,target))\n",
    "\n",
    "# #Fitting to model with train data\n",
    "# gbc.fit(train1, target)\n",
    "\n",
    "# #Predicting on test data\n",
    "# y_pred = gbc.predict(test1)\n",
    "# output = pd.DataFrame({'id':range(len(y_pred)),'Made_Purchase':y_pred})\n",
    "# output.to_csv('submission.csv',index=False)\n",
    "\n",
    "# # train f1 -  0.638459\n",
    "# # val f1 - 0.623119\n",
    "# # Cross val f1 - 0.622678\n",
    "# # test f1 - 0.63858"
   ]
  },
  {
   "cell_type": "markdown",
   "id": "18469262",
   "metadata": {
    "papermill": {
     "duration": 0.110218,
     "end_time": "2023-04-03T23:54:12.294061",
     "exception": false,
     "start_time": "2023-04-03T23:54:12.183843",
     "status": "completed"
    },
    "tags": []
   },
   "source": [
    "# GaussianNB"
   ]
  },
  {
   "cell_type": "code",
   "execution_count": 80,
   "id": "71d721c9",
   "metadata": {
    "execution": {
     "iopub.execute_input": "2023-04-03T23:54:12.397852Z",
     "iopub.status.busy": "2023-04-03T23:54:12.397386Z",
     "iopub.status.idle": "2023-04-03T23:54:12.402671Z",
     "shell.execute_reply": "2023-04-03T23:54:12.401495Z"
    },
    "papermill": {
     "duration": 0.060132,
     "end_time": "2023-04-03T23:54:12.405049",
     "exception": false,
     "start_time": "2023-04-03T23:54:12.344917",
     "status": "completed"
    },
    "tags": []
   },
   "outputs": [],
   "source": [
    "# # Version 50\n",
    "\n",
    "# print(apply({'gnb':gnb},train_pca,target_out))\n",
    "\n",
    "# #Fitting to model with train data\n",
    "# gnb.fit(train_pca, target_out)\n",
    "\n",
    "# #Predicting on test data\n",
    "# y_pred = gnb.predict(test_pca)\n",
    "# output = pd.DataFrame({'id':range(len(y_pred)),'Made_Purchase':y_pred})\n",
    "# output.to_csv('submission.csv',index=False)\n",
    "\n",
    "# # train f1 -  0.630353\n",
    "# # val f1 - 0.605497\n",
    "# # Cross val f1 - 0.543384\n",
    "# # test f1 - 0.62403"
   ]
  },
  {
   "cell_type": "markdown",
   "id": "557dfc1e",
   "metadata": {
    "papermill": {
     "duration": 0.050344,
     "end_time": "2023-04-03T23:54:12.505793",
     "exception": false,
     "start_time": "2023-04-03T23:54:12.455449",
     "status": "completed"
    },
    "tags": []
   },
   "source": [
    "# QuadraticDiscriminant Analysis"
   ]
  },
  {
   "cell_type": "code",
   "execution_count": 81,
   "id": "2a31c11b",
   "metadata": {
    "execution": {
     "iopub.execute_input": "2023-04-03T23:54:12.609335Z",
     "iopub.status.busy": "2023-04-03T23:54:12.608897Z",
     "iopub.status.idle": "2023-04-03T23:54:12.614339Z",
     "shell.execute_reply": "2023-04-03T23:54:12.612869Z"
    },
    "papermill": {
     "duration": 0.060259,
     "end_time": "2023-04-03T23:54:12.616694",
     "exception": false,
     "start_time": "2023-04-03T23:54:12.556435",
     "status": "completed"
    },
    "tags": []
   },
   "outputs": [],
   "source": [
    "# # Version 49\n",
    "\n",
    "# print(apply({'qda':qda},train_pca,target_out))\n",
    "\n",
    "# #Fitting to model with train data\n",
    "# qda.fit(train_pca, target_out)\n",
    "\n",
    "# #Predicting on test data\n",
    "# y_pred = qda.predict(test_pca)\n",
    "# output = pd.DataFrame({'id':range(len(y_pred)),'Made_Purchase':y_pred})\n",
    "# output.to_csv('submission.csv',index=False)\n",
    "\n",
    "# # train f1 -  0.630353\n",
    "# # val f1 - 0.605497\n",
    "# # Cross val f1 - 0.543384\n",
    "# # test f1 - 0.62403"
   ]
  },
  {
   "cell_type": "markdown",
   "id": "8c100be9",
   "metadata": {
    "papermill": {
     "duration": 0.052247,
     "end_time": "2023-04-03T23:54:12.720363",
     "exception": false,
     "start_time": "2023-04-03T23:54:12.668116",
     "status": "completed"
    },
    "tags": []
   },
   "source": [
    "# Voting Classifier"
   ]
  },
  {
   "cell_type": "code",
   "execution_count": 82,
   "id": "e0dd05f3",
   "metadata": {
    "execution": {
     "iopub.execute_input": "2023-04-03T23:54:12.824817Z",
     "iopub.status.busy": "2023-04-03T23:54:12.823667Z",
     "iopub.status.idle": "2023-04-03T23:54:12.829133Z",
     "shell.execute_reply": "2023-04-03T23:54:12.828048Z"
    },
    "papermill": {
     "duration": 0.060577,
     "end_time": "2023-04-03T23:54:12.831654",
     "exception": false,
     "start_time": "2023-04-03T23:54:12.771077",
     "status": "completed"
    },
    "tags": []
   },
   "outputs": [],
   "source": [
    "# # Version 38\n",
    "\n",
    "# #Fitting to model with train data\n",
    "# vc.fit(train_pp, target)\n",
    "\n",
    "# #Predicting on test data\n",
    "# y_pred = vc.predict(test_pp)\n",
    "# output = pd.DataFrame({'id':range(len(y_pred)),'Made_Purchase':y_pred})\n",
    "# output.to_csv('submission.csv',index=False)\n",
    "\n",
    "# # val f1 - 0.621297\n",
    "# # train f1 -  0.625283\n",
    "# # Cross val f1 - 0.570389\n",
    "# # test f1 - 0.64373"
   ]
  },
  {
   "cell_type": "markdown",
   "id": "80cd1bac",
   "metadata": {
    "papermill": {
     "duration": 0.052009,
     "end_time": "2023-04-03T23:54:12.934636",
     "exception": false,
     "start_time": "2023-04-03T23:54:12.882627",
     "status": "completed"
    },
    "tags": []
   },
   "source": [
    "# GradientBoostingClassifier"
   ]
  },
  {
   "cell_type": "code",
   "execution_count": 83,
   "id": "96e8e360",
   "metadata": {
    "execution": {
     "iopub.execute_input": "2023-04-03T23:54:13.039950Z",
     "iopub.status.busy": "2023-04-03T23:54:13.038728Z",
     "iopub.status.idle": "2023-04-03T23:54:13.043952Z",
     "shell.execute_reply": "2023-04-03T23:54:13.042982Z"
    },
    "papermill": {
     "duration": 0.06048,
     "end_time": "2023-04-03T23:54:13.046269",
     "exception": false,
     "start_time": "2023-04-03T23:54:12.985789",
     "status": "completed"
    },
    "tags": []
   },
   "outputs": [],
   "source": [
    "# # Version 39\n",
    "\n",
    "# #Fitting to model with train data\n",
    "# gbc.fit(train_pp, target)\n",
    "\n",
    "# #Predicting on test data\n",
    "# y_pred = gbc.predict(test_pp)\n",
    "# output = pd.DataFrame({'id':range(len(y_pred)),'Made_Purchase':y_pred})\n",
    "# output.to_csv('submission.csv',index=False)\n",
    "\n",
    "# # train f1 -  0.636565\n",
    "# # val f1 - 0.627362\n",
    "# # Cross val f1 - 0.504940\n",
    "# # test f1 - 0.6404"
   ]
  },
  {
   "cell_type": "markdown",
   "id": "b82a2729",
   "metadata": {
    "papermill": {
     "duration": 0.051009,
     "end_time": "2023-04-03T23:54:13.149570",
     "exception": false,
     "start_time": "2023-04-03T23:54:13.098561",
     "status": "completed"
    },
    "tags": []
   },
   "source": [
    "# Stacking Classifier"
   ]
  },
  {
   "cell_type": "code",
   "execution_count": 84,
   "id": "12fb9b6f",
   "metadata": {
    "execution": {
     "iopub.execute_input": "2023-04-03T23:54:13.255059Z",
     "iopub.status.busy": "2023-04-03T23:54:13.253929Z",
     "iopub.status.idle": "2023-04-03T23:54:13.259169Z",
     "shell.execute_reply": "2023-04-03T23:54:13.258082Z"
    },
    "papermill": {
     "duration": 0.060469,
     "end_time": "2023-04-03T23:54:13.261480",
     "exception": false,
     "start_time": "2023-04-03T23:54:13.201011",
     "status": "completed"
    },
    "tags": []
   },
   "outputs": [],
   "source": [
    "# # Version 37\n",
    "\n",
    "# #Fitting to model with train data\n",
    "# sc.fit(train_pp, target)\n",
    "\n",
    "# #Predicting on train data\n",
    "# y_pred = sc.predict(train_pp)\n",
    "# print('train f1 - ',f1_score(target, y_pred, average='weighted'))\n",
    "\n",
    "# #Predicting on test data\n",
    "# y_pred = sc.predict(test_pp)\n",
    "# output = pd.DataFrame({'id':range(len(y_pred)),'Made_Purchase':y_pred})\n",
    "# output.to_csv('submission.csv',index=False)\n",
    "\n",
    "# # val f1 - 0.633844\n",
    "# # train f1 -  0.487886\n",
    "# # Cross val f1 - 0.636837\n",
    "# # test f1 - 0.48386"
   ]
  },
  {
   "cell_type": "markdown",
   "id": "f40709ff",
   "metadata": {
    "papermill": {
     "duration": 0.050458,
     "end_time": "2023-04-03T23:54:13.362659",
     "exception": false,
     "start_time": "2023-04-03T23:54:13.312201",
     "status": "completed"
    },
    "tags": []
   },
   "source": [
    "# RidgeClassifierCV"
   ]
  },
  {
   "cell_type": "code",
   "execution_count": 85,
   "id": "a2e8d747",
   "metadata": {
    "execution": {
     "iopub.execute_input": "2023-04-03T23:54:13.466393Z",
     "iopub.status.busy": "2023-04-03T23:54:13.465975Z",
     "iopub.status.idle": "2023-04-03T23:54:13.472088Z",
     "shell.execute_reply": "2023-04-03T23:54:13.470795Z"
    },
    "papermill": {
     "duration": 0.060871,
     "end_time": "2023-04-03T23:54:13.474479",
     "exception": false,
     "start_time": "2023-04-03T23:54:13.413608",
     "status": "completed"
    },
    "tags": []
   },
   "outputs": [],
   "source": [
    "# # Version 35\n",
    "\n",
    "# #preprocessing\n",
    "# trainf = ct.fit_transform(train)\n",
    "# testf = ct.fit_transform(test)\n",
    "# print(trainf.shape, testf.shape)\n",
    "\n",
    "# #Fitting to model with train data\n",
    "# rccv.fit(trainf, target)\n",
    "\n",
    "# #Predicting on train data\n",
    "# y_pred = rccv.predict(trainf)\n",
    "# print('train f1 - ',f1_score(target, y_pred, average='weighted'))\n",
    "\n",
    "# #Cross validating \n",
    "# cv = cross_validate(rccv,trainf, target, scoring=\"f1_weighted\",cv=5)\n",
    "# print('Cross val f1 - ',max(cv['test_score']))\n",
    "\n",
    "# #Predicting on test data\n",
    "# y_pred = rccv.predict(testf)\n",
    "# output = pd.DataFrame({'id':range(len(y_pred)),'Made_Purchase':y_pred})\n",
    "# output.to_csv('submission.csv',index=False)\n",
    "\n",
    "# # val f1 - 0.6249833695475312\n",
    "# # train f1 -  0.6249055588990975\n",
    "# # Cross val f1 - 0.5284010307032299\n",
    "# # test f1 - 0.64449"
   ]
  },
  {
   "cell_type": "code",
   "execution_count": 86,
   "id": "b9b266d3",
   "metadata": {
    "execution": {
     "iopub.execute_input": "2023-04-03T23:54:13.577669Z",
     "iopub.status.busy": "2023-04-03T23:54:13.577246Z",
     "iopub.status.idle": "2023-04-03T23:54:13.582680Z",
     "shell.execute_reply": "2023-04-03T23:54:13.581739Z"
    },
    "papermill": {
     "duration": 0.059607,
     "end_time": "2023-04-03T23:54:13.584814",
     "exception": false,
     "start_time": "2023-04-03T23:54:13.525207",
     "status": "completed"
    },
    "tags": []
   },
   "outputs": [],
   "source": [
    "# #HyperParameter Tuning\n",
    "# # Version \n",
    "\n",
    "# #preprocessing\n",
    "# trainf = ct.fit_transform(train)\n",
    "# testf = ct.fit_transform(test)\n",
    "# print(trainf.shape, testf.shape)\n",
    "\n",
    "# #GridSeachCV\n",
    "# param_grid = {'solver':['svd','lsqr','eigen'],'shrinkage':[None,'auto'],'n_components':[1,5,10,20]}\n",
    "# gscv = GridSearchCV(lda,param_grid=param_grid,cv=5,scoring='f1_weighted')\n",
    "\n",
    "# #Fitting to model with train data\n",
    "# gscv.fit(trainf, target)\n",
    "# print(gscv.best_params_)\n",
    "# print(gscv.best_score_)\n",
    "\n",
    "# #Predicting on train data\n",
    "# y_pred = gscv.predict(trainf)\n",
    "# print('train f1 - ',f1_score(target, y_pred, average='weighted'))\n",
    "\n",
    "# #Cross validating \n",
    "# cv = cross_validate(gscv,trainf, target, scoring=\"f1_weighted\",cv=5)\n",
    "# print('Cross val f1 - ',max(cv['test_score']))\n",
    "\n",
    "# #Predicting on test data\n",
    "# y_pred = gscv.predict(testf)\n",
    "# output = pd.DataFrame({'id':range(len(y_pred)),'Made_Purchase':y_pred})\n",
    "# output.to_csv('submission.csv',index=False)\n",
    "\n",
    "# # val f1 - 0.6241756237719197\n",
    "# # train f1 -  0.6245024902519857\n",
    "# # Cross val f1 - 0.5171610879168361\n",
    "# # test f1 - "
   ]
  },
  {
   "cell_type": "markdown",
   "id": "55b6f3d5",
   "metadata": {
    "papermill": {
     "duration": 0.050655,
     "end_time": "2023-04-03T23:54:13.685943",
     "exception": false,
     "start_time": "2023-04-03T23:54:13.635288",
     "status": "completed"
    },
    "tags": []
   },
   "source": [
    "# LinearDiscriminant Analysis"
   ]
  },
  {
   "cell_type": "code",
   "execution_count": 87,
   "id": "45e6b77b",
   "metadata": {
    "execution": {
     "iopub.execute_input": "2023-04-03T23:54:13.790018Z",
     "iopub.status.busy": "2023-04-03T23:54:13.789142Z",
     "iopub.status.idle": "2023-04-03T23:54:13.794652Z",
     "shell.execute_reply": "2023-04-03T23:54:13.793668Z"
    },
    "papermill": {
     "duration": 0.06075,
     "end_time": "2023-04-03T23:54:13.797291",
     "exception": false,
     "start_time": "2023-04-03T23:54:13.736541",
     "status": "completed"
    },
    "tags": []
   },
   "outputs": [],
   "source": [
    "# # Version 34\n",
    "\n",
    "# #preprocessing\n",
    "# trainf = ct.fit_transform(train)\n",
    "# testf = ct.fit_transform(test)\n",
    "# print(trainf.shape, testf.shape)\n",
    "\n",
    "# #Fitting to model with train data\n",
    "# lda.fit(trainf, target)\n",
    "\n",
    "# #Predicting on train data\n",
    "# y_pred = lda.predict(trainf)\n",
    "# print('train f1 - ',f1_score(target, y_pred, average='weighted'))\n",
    "\n",
    "# #Cross validating \n",
    "# cv = cross_validate(lda,trainf, target, scoring=\"f1_weighted\",cv=5)\n",
    "# print('Cross val f1 - ',max(cv['test_score']))\n",
    "\n",
    "# #Predicting on test data\n",
    "# y_pred = lda.predict(testf)\n",
    "# output = pd.DataFrame({'id':range(len(y_pred)),'Made_Purchase':y_pred})\n",
    "# output.to_csv('submission.csv',index=False)\n",
    "\n",
    "# # val f1 - 0.6241756237719197\n",
    "# # train f1 -  0.6245024902519857\n",
    "# # Cross val f1 - 0.5173793424368336\n",
    "# # test f1 - 0.64524"
   ]
  },
  {
   "cell_type": "code",
   "execution_count": 88,
   "id": "d0e596ad",
   "metadata": {
    "execution": {
     "iopub.execute_input": "2023-04-03T23:54:13.903951Z",
     "iopub.status.busy": "2023-04-03T23:54:13.903367Z",
     "iopub.status.idle": "2023-04-03T23:54:13.909611Z",
     "shell.execute_reply": "2023-04-03T23:54:13.908389Z"
    },
    "papermill": {
     "duration": 0.062537,
     "end_time": "2023-04-03T23:54:13.912006",
     "exception": false,
     "start_time": "2023-04-03T23:54:13.849469",
     "status": "completed"
    },
    "tags": []
   },
   "outputs": [],
   "source": [
    "#HyperParameter Tuning\n",
    "\n",
    "# #preprocessing\n",
    "# trainf = ct.fit_transform(train)\n",
    "# testf = ct.fit_transform(test)\n",
    "# print(trainf.shape, testf.shape)\n",
    "\n",
    "# #GridSeachCV\n",
    "# param_grid = {'solver':['svd','lsqr','eigen'],'shrinkage':[None,'auto'],'n_components':[1,5,10,20]}\n",
    "# gscv = GridSearchCV(lda,param_grid=param_grid,cv=5,scoring='f1_weighted')\n",
    "\n",
    "# #Fitting to model with train data\n",
    "# gscv.fit(trainf, target)\n",
    "# print(gscv.best_params_)\n",
    "# print(gscv.best_score_)\n",
    "\n",
    "# #Predicting on train data\n",
    "# y_pred = gscv.predict(trainf)\n",
    "# print('train f1 - ',f1_score(target, y_pred, average='weighted'))\n",
    "\n",
    "# #Cross validating \n",
    "# cv = cross_validate(gscv,trainf, target, scoring=\"f1_weighted\",cv=5)\n",
    "# print('Cross val f1 - ',max(cv['test_score']))\n",
    "\n",
    "# #Predicting on test data\n",
    "# y_pred = gscv.predict(testf)\n",
    "# output = pd.DataFrame({'id':range(len(y_pred)),'Made_Purchase':y_pred})\n",
    "# output.to_csv('submission.csv',index=False)\n",
    "\n",
    "# # val f1 - 0.6241756237719197\n",
    "# # train f1 -  0.6245024902519857\n",
    "# # Cross val f1 - 0.5171610879168361\n",
    "# # test f1 - "
   ]
  },
  {
   "cell_type": "markdown",
   "id": "107e3cc6",
   "metadata": {
    "papermill": {
     "duration": 0.051304,
     "end_time": "2023-04-03T23:54:14.014164",
     "exception": false,
     "start_time": "2023-04-03T23:54:13.962860",
     "status": "completed"
    },
    "tags": []
   },
   "source": [
    "# Voting Classifier"
   ]
  },
  {
   "cell_type": "code",
   "execution_count": 89,
   "id": "881afa29",
   "metadata": {
    "execution": {
     "iopub.execute_input": "2023-04-03T23:54:14.118785Z",
     "iopub.status.busy": "2023-04-03T23:54:14.117945Z",
     "iopub.status.idle": "2023-04-03T23:54:14.122693Z",
     "shell.execute_reply": "2023-04-03T23:54:14.121861Z"
    },
    "papermill": {
     "duration": 0.060097,
     "end_time": "2023-04-03T23:54:14.125052",
     "exception": false,
     "start_time": "2023-04-03T23:54:14.064955",
     "status": "completed"
    },
    "tags": []
   },
   "outputs": [],
   "source": [
    "# # Version 33\n",
    "\n",
    "# #preprocessing\n",
    "# trainf = ct.fit_transform(train)\n",
    "# testf = ct.fit_transform(test)\n",
    "# print(trainf.shape, testf.shape)\n",
    "\n",
    "# #Fitting to model with train data\n",
    "# vc.fit(trainf, target)\n",
    "\n",
    "# #Predicting on train data\n",
    "# # y_pred = vc.predict(trainf)\n",
    "# # print('train f1 - ',f1_score(target, y_pred, average='weighted'))\n",
    "\n",
    "# #Cross validating \n",
    "# # cv = cross_validate(vc,trainf, target, scoring=\"f1_weighted\",cv=5)\n",
    "# # print('Cross val f1 - ',max(cv['test_score']))\n",
    "\n",
    "# #Predicting on test data\n",
    "# y_pred = vc.predict(testf)\n",
    "# output = pd.DataFrame({'id':range(len(y_pred)),'Made_Purchase':y_pred})\n",
    "# output.to_csv('submission.csv',index=False)\n",
    "\n",
    "# # val f1 - 0.6221204423116229\n",
    "# # train f1 -  0.6299671481676846\n",
    "# # Cross val f1 -  0.5310125188484679\n",
    "# # test f1 - 0.64282"
   ]
  },
  {
   "cell_type": "markdown",
   "id": "f4b87cd4",
   "metadata": {
    "papermill": {
     "duration": 0.052552,
     "end_time": "2023-04-03T23:54:14.228354",
     "exception": false,
     "start_time": "2023-04-03T23:54:14.175802",
     "status": "completed"
    },
    "tags": []
   },
   "source": [
    "# Dummy Classifier without modifying any data"
   ]
  },
  {
   "cell_type": "code",
   "execution_count": 90,
   "id": "622d1253",
   "metadata": {
    "execution": {
     "iopub.execute_input": "2023-04-03T23:54:14.332609Z",
     "iopub.status.busy": "2023-04-03T23:54:14.331815Z",
     "iopub.status.idle": "2023-04-03T23:54:14.336521Z",
     "shell.execute_reply": "2023-04-03T23:54:14.335286Z"
    },
    "papermill": {
     "duration": 0.059676,
     "end_time": "2023-04-03T23:54:14.339119",
     "exception": false,
     "start_time": "2023-04-03T23:54:14.279443",
     "status": "completed"
    },
    "tags": []
   },
   "outputs": [],
   "source": [
    "# y_train = train['Made_Purchase']\n",
    "# del train['Made_Purchase']\n",
    "# X_train = train\n",
    "\n",
    "# X_train.shape, y_train.shape"
   ]
  },
  {
   "cell_type": "code",
   "execution_count": 91,
   "id": "7bb2ac4c",
   "metadata": {
    "execution": {
     "iopub.execute_input": "2023-04-03T23:54:14.444669Z",
     "iopub.status.busy": "2023-04-03T23:54:14.443819Z",
     "iopub.status.idle": "2023-04-03T23:54:14.448306Z",
     "shell.execute_reply": "2023-04-03T23:54:14.447493Z"
    },
    "papermill": {
     "duration": 0.059143,
     "end_time": "2023-04-03T23:54:14.450513",
     "exception": false,
     "start_time": "2023-04-03T23:54:14.391370",
     "status": "completed"
    },
    "tags": []
   },
   "outputs": [],
   "source": [
    "# from sklearn.dummy import DummyClassifier\n",
    "\n",
    "# dc = DummyClassifier(strategy=\"most_frequent\")\n",
    "# dc.fit(X_train, y_train)"
   ]
  },
  {
   "cell_type": "code",
   "execution_count": 92,
   "id": "975f4459",
   "metadata": {
    "execution": {
     "iopub.execute_input": "2023-04-03T23:54:14.556003Z",
     "iopub.status.busy": "2023-04-03T23:54:14.555160Z",
     "iopub.status.idle": "2023-04-03T23:54:14.559661Z",
     "shell.execute_reply": "2023-04-03T23:54:14.558735Z"
    },
    "papermill": {
     "duration": 0.059306,
     "end_time": "2023-04-03T23:54:14.561855",
     "exception": false,
     "start_time": "2023-04-03T23:54:14.502549",
     "status": "completed"
    },
    "tags": []
   },
   "outputs": [],
   "source": [
    "# y_pred_dc = dc.predict(test)\n",
    "# output_dc = pd.DataFrame({'id':range(len(y_pred_dc)),'Made_Purchase':y_pred_dc})\n",
    "# output_dc.to_csv('submission.csv',index=False)"
   ]
  },
  {
   "cell_type": "markdown",
   "id": "df7abee7",
   "metadata": {
    "papermill": {
     "duration": 0.050781,
     "end_time": "2023-04-03T23:54:14.663664",
     "exception": false,
     "start_time": "2023-04-03T23:54:14.612883",
     "status": "completed"
    },
    "tags": []
   },
   "source": [
    "# RandomForest Classifier"
   ]
  },
  {
   "cell_type": "code",
   "execution_count": 93,
   "id": "178df141",
   "metadata": {
    "execution": {
     "iopub.execute_input": "2023-04-03T23:54:14.768018Z",
     "iopub.status.busy": "2023-04-03T23:54:14.767557Z",
     "iopub.status.idle": "2023-04-03T23:54:14.771662Z",
     "shell.execute_reply": "2023-04-03T23:54:14.770844Z"
    },
    "papermill": {
     "duration": 0.058789,
     "end_time": "2023-04-03T23:54:14.773829",
     "exception": false,
     "start_time": "2023-04-03T23:54:14.715040",
     "status": "completed"
    },
    "tags": []
   },
   "outputs": [],
   "source": [
    "# from sklearn.ensemble import RandomForestClassifier\n",
    "\n",
    "# rfc = RandomForestClassifier()\n",
    "# rfc.fit(train_pp, y)\n",
    "# y_pred_rfc = rfc.predict(test_pp)\n",
    "\n",
    "# output_rfc = pd.DataFrame({'id':range(len(y_pred_rfc)),'Made_Purchase':y_pred_rfc})\n",
    "# output_rfc.to_csv('submission.csv',index=False)"
   ]
  },
  {
   "cell_type": "markdown",
   "id": "c849b93c",
   "metadata": {
    "papermill": {
     "duration": 0.050845,
     "end_time": "2023-04-03T23:54:14.874779",
     "exception": false,
     "start_time": "2023-04-03T23:54:14.823934",
     "status": "completed"
    },
    "tags": []
   },
   "source": [
    "Got 0.46749 score from the submission without applying log scaling"
   ]
  },
  {
   "cell_type": "markdown",
   "id": "bf5bbd93",
   "metadata": {
    "papermill": {
     "duration": 0.050835,
     "end_time": "2023-04-03T23:54:14.976862",
     "exception": false,
     "start_time": "2023-04-03T23:54:14.926027",
     "status": "completed"
    },
    "tags": []
   },
   "source": [
    "# Logistic Regression"
   ]
  },
  {
   "cell_type": "code",
   "execution_count": null,
   "id": "bc39d7e4",
   "metadata": {
    "execution": {
     "iopub.execute_input": "2023-04-03T23:54:15.081331Z",
     "iopub.status.busy": "2023-04-03T23:54:15.080334Z",
     "iopub.status.idle": "2023-04-03T23:54:15.085375Z",
     "shell.execute_reply": "2023-04-03T23:54:15.084596Z"
    },
    "papermill": {
     "duration": 0.05928,
     "end_time": "2023-04-03T23:54:15.087451",
     "exception": false,
     "start_time": "2023-04-03T23:54:15.028171",
     "status": "completed"
    },
    "tags": []
   },
   "outputs": [],
   "source": [
    "# from sklearn.linear_model import LogisticRegression\n",
    "# from sklearn.compose import ColumnTransformer\n",
    "# from sklearn.pipeline import Pipeline, FeatureUnion\n",
    "# from sklearn.impute import SimpleImputer, KNNImputer\n",
    "# from sklearn.preprocessing import StandardScaler, MinMaxScaler, OneHotEncoder\n",
    "# from sklearn.feature_selection import SelectPercentile, chi2\n",
    "\n",
    "\n",
    "# si = SimpleImputer(strategy='most_frequent')\n",
    "# train_si = pd.DataFrame(si.fit_transform(train),columns=train.columns)\n",
    "# test_si = pd.DataFrame(si.transform(test), columns=test.columns)\n",
    "\n",
    "# train_ohe = pd.get_dummies(train_si[cat_features])\n",
    "# test_ohe = pd.get_dummies(test_si[cat_features])\n",
    "\n",
    "# train_pp = pd.concat((train_si[num_features+rem_features].astype(float),train_ohe),axis=1)\n",
    "# test_pp = pd.concat((test_si[num_features+rem_features].astype(float),test_ohe),axis=1)\n",
    "\n",
    "# sl = SelectPercentile(chi2,percentile=50)\n",
    "# train_final = sl.fit_transform(train_pp,y)\n",
    "# test_final = sl.transform(test_pp)\n",
    "\n",
    "# lr = LogisticRegression(random_state=0)\n",
    "# lr.fit(train_final,y)\n",
    "# y_pred = lr.predict(test_final)\n",
    "\n",
    "# output = pd.DataFrame({'id':range(len(y_pred)),'Made_Purchase':y_pred})\n",
    "# output.to_csv('submission.csv',index=False)\n",
    "# train_final.shape"
   ]
  },
  {
   "cell_type": "code",
   "execution_count": 95,
   "id": "88b6afb0",
   "metadata": {
    "execution": {
     "iopub.execute_input": "2023-04-03T23:54:15.191125Z",
     "iopub.status.busy": "2023-04-03T23:54:15.190309Z",
     "iopub.status.idle": "2023-04-03T23:54:15.194676Z",
     "shell.execute_reply": "2023-04-03T23:54:15.193784Z"
    },
    "papermill": {
     "duration": 0.059074,
     "end_time": "2023-04-03T23:54:15.196821",
     "exception": false,
     "start_time": "2023-04-03T23:54:15.137747",
     "status": "completed"
    },
    "tags": []
   },
   "outputs": [],
   "source": [
    "# print('lr', max(cross_val_score(lr,train_pp,y,scoring=('f1_weighted'),cv=5)))"
   ]
  },
  {
   "cell_type": "markdown",
   "id": "159f8658",
   "metadata": {
    "papermill": {
     "duration": 0.050311,
     "end_time": "2023-04-03T23:54:15.298327",
     "exception": false,
     "start_time": "2023-04-03T23:54:15.248016",
     "status": "completed"
    },
    "tags": []
   },
   "source": [
    "train - 0.68\n",
    "test - 0.63661 test score with simple imputer most frequent, No scaling, ohe"
   ]
  },
  {
   "cell_type": "markdown",
   "id": "8b3cedc6",
   "metadata": {
    "papermill": {
     "duration": 0.050372,
     "end_time": "2023-04-03T23:54:15.399384",
     "exception": false,
     "start_time": "2023-04-03T23:54:15.349012",
     "status": "completed"
    },
    "tags": []
   },
   "source": [
    "# HyperParameter Tuning for Logistic Regression"
   ]
  },
  {
   "cell_type": "code",
   "execution_count": 96,
   "id": "8f7f6e01",
   "metadata": {
    "execution": {
     "iopub.execute_input": "2023-04-03T23:54:15.502908Z",
     "iopub.status.busy": "2023-04-03T23:54:15.502448Z",
     "iopub.status.idle": "2023-04-03T23:54:15.507624Z",
     "shell.execute_reply": "2023-04-03T23:54:15.506781Z"
    },
    "papermill": {
     "duration": 0.059942,
     "end_time": "2023-04-03T23:54:15.509725",
     "exception": false,
     "start_time": "2023-04-03T23:54:15.449783",
     "status": "completed"
    },
    "tags": []
   },
   "outputs": [],
   "source": [
    "# import pandas as pd\n",
    "# import numpy as np\n",
    "# from sklearn.linear_model import LogisticRegression\n",
    "# from sklearn.preprocessing import StandardScaler\n",
    "# from sklearn.feature_selection import SelectKBest, chi2, SelectPercentile\n",
    "# from imblearn.over_sampling import RandomOverSampler\n",
    "# from sklearn.model_selection import GridSearchCV\n",
    "# from sklearn.metrics import f1_score\n",
    "\n",
    "\n",
    "# # Impute missing values with most frequent\n",
    "# train_pp = train.fillna(train.mode().iloc[0])\n",
    "# test_pp = test.fillna(train.mode().iloc[0])\n",
    "\n",
    "# # One-hot encode categorical features\n",
    "# train_pp = pd.get_dummies(train_pp)\n",
    "# test_pp = pd.get_dummies(test_pp)\n",
    "\n",
    "# # Scale numerical features\n",
    "# ss = StandardScaler()\n",
    "# train_pp[num_features] = ss.fit_transform(train_pp[num_features])\n",
    "# test_pp[num_features] = ss.transform(test_pp[num_features])\n",
    "\n",
    "# # Select the k best features\n",
    "# selector = SelectKBest(chi2, k=10)\n",
    "# train_pp = selector.fit_transform(train_pp, y)\n",
    "# test_pp = selector.transform(test_pp)\n",
    "\n",
    "\n",
    "# # Balance classes\n",
    "# ros = RandomOverSampler()\n",
    "# train_pp, y = ros.fit_resample(train_pp, y)\n",
    "\n",
    "# # Perform Grid Search to find optimal hyperparameters\n",
    "# param_grid = {'C': [0.1, 1, 10], 'penalty': ['l1', 'l2']}\n",
    "# clf = GridSearchCV(LogisticRegression(), param_grid, cv=5, n_jobs=-1)\n",
    "# clf.fit(train_pp, y)\n",
    "\n",
    "\n",
    "# y_pred = clf.predict(test_pp)\n",
    "# output = pd.DataFrame({'id':range(len(y_pred)),'Made_Purchase':y_pred})\n",
    "# output.to_csv('submission.csv',index=False)\n",
    "\n",
    "# print(max(cross_val_score(clf,train_pp,y,scoring=('f1_weighted'),cv=5)))"
   ]
  },
  {
   "cell_type": "code",
   "execution_count": 97,
   "id": "1eaf6414",
   "metadata": {
    "execution": {
     "iopub.execute_input": "2023-04-03T23:54:15.613277Z",
     "iopub.status.busy": "2023-04-03T23:54:15.612517Z",
     "iopub.status.idle": "2023-04-03T23:54:15.616923Z",
     "shell.execute_reply": "2023-04-03T23:54:15.615836Z"
    },
    "papermill": {
     "duration": 0.05858,
     "end_time": "2023-04-03T23:54:15.619027",
     "exception": false,
     "start_time": "2023-04-03T23:54:15.560447",
     "status": "completed"
    },
    "tags": []
   },
   "outputs": [],
   "source": [
    "# print(clf.best_params_)\n",
    "# clf.best_score_"
   ]
  },
  {
   "cell_type": "markdown",
   "id": "5113557a",
   "metadata": {
    "papermill": {
     "duration": 0.0503,
     "end_time": "2023-04-03T23:54:15.720050",
     "exception": false,
     "start_time": "2023-04-03T23:54:15.669750",
     "status": "completed"
    },
    "tags": []
   },
   "source": [
    "train - 0.4864\n",
    "test - 0.64161"
   ]
  },
  {
   "cell_type": "code",
   "execution_count": 98,
   "id": "76074455",
   "metadata": {
    "execution": {
     "iopub.execute_input": "2023-04-03T23:54:15.825018Z",
     "iopub.status.busy": "2023-04-03T23:54:15.824218Z",
     "iopub.status.idle": "2023-04-03T23:54:15.830339Z",
     "shell.execute_reply": "2023-04-03T23:54:15.829234Z"
    },
    "papermill": {
     "duration": 0.061361,
     "end_time": "2023-04-03T23:54:15.832723",
     "exception": false,
     "start_time": "2023-04-03T23:54:15.771362",
     "status": "completed"
    },
    "tags": []
   },
   "outputs": [],
   "source": [
    "# import pandas as pd\n",
    "# import numpy as np\n",
    "# from sklearn.linear_model import LogisticRegression\n",
    "# from sklearn.preprocessing import StandardScaler\n",
    "# from sklearn.feature_selection import SelectKBest, chi2, SelectPercentile, f_classif\n",
    "# from imblearn.over_sampling import RandomOverSampler\n",
    "# from sklearn.model_selection import GridSearchCV\n",
    "# from sklearn.metrics import f1_score\n",
    "\n",
    "\n",
    "# # Impute missing values with most frequent\n",
    "# train_pp = train.fillna(train.mode().iloc[0])\n",
    "# test_pp = test.fillna(train.mode().iloc[0])\n",
    "\n",
    "# # One-hot encode categorical features\n",
    "# train_pp = pd.get_dummies(train_pp)\n",
    "# test_pp = pd.get_dummies(test_pp)\n",
    "\n",
    "# # Scale numerical features\n",
    "# train_pp[num_features] = np.log(train_pp[num_features]+1)\n",
    "# test_pp[num_features] = np.log(test_pp[num_features]+1)\n",
    "# ss = StandardScaler()\n",
    "# train_pp[num_features] = ss.fit_transform(train_pp[num_features])\n",
    "# test_pp[num_features] = ss.transform(test_pp[num_features])\n",
    "\n",
    "# # Select the k best features\n",
    "# selector = SelectKBest(f_classif, k=10)\n",
    "# train_pp = selector.fit_transform(train_pp, y)\n",
    "# test_pp = selector.transform(test_pp)\n",
    "\n",
    "\n",
    "# # Balance classes\n",
    "# ros = RandomOverSampler(random_state=0)\n",
    "# train_pp, y = ros.fit_resample(train_pp, y)\n",
    "\n",
    "# # Perform Grid Search to find optimal hyperparameters\n",
    "# param_grid = {'C': [0.1, 1, 10], 'penalty': ['l1', 'l2']}\n",
    "# clf = GridSearchCV(LogisticRegression(), param_grid, cv=5, n_jobs=-1)\n",
    "# clf.fit(train_pp, y)\n",
    "\n",
    "\n",
    "# y_pred = clf.predict(test_pp)\n",
    "# output = pd.DataFrame({'id':range(len(y_pred)),'Made_Purchase':y_pred})\n",
    "# output.to_csv('submission.csv',index=False)\n",
    "\n",
    "# print(max(cross_val_score(clf,train_pp,y,scoring=('f1_weighted'),cv=5)))\n",
    "# print(clf.best_params_)\n",
    "# print(clf.best_score_)"
   ]
  },
  {
   "cell_type": "markdown",
   "id": "a80212d3",
   "metadata": {
    "papermill": {
     "duration": 0.050287,
     "end_time": "2023-04-03T23:54:15.934064",
     "exception": false,
     "start_time": "2023-04-03T23:54:15.883777",
     "status": "completed"
    },
    "tags": []
   },
   "source": [
    "train - 0.66\n",
    "test - 0.64"
   ]
  },
  {
   "cell_type": "code",
   "execution_count": 99,
   "id": "5cd42d49",
   "metadata": {
    "execution": {
     "iopub.execute_input": "2023-04-03T23:54:16.038569Z",
     "iopub.status.busy": "2023-04-03T23:54:16.037803Z",
     "iopub.status.idle": "2023-04-03T23:54:16.043234Z",
     "shell.execute_reply": "2023-04-03T23:54:16.042095Z"
    },
    "papermill": {
     "duration": 0.060489,
     "end_time": "2023-04-03T23:54:16.045616",
     "exception": false,
     "start_time": "2023-04-03T23:54:15.985127",
     "status": "completed"
    },
    "tags": []
   },
   "outputs": [],
   "source": [
    "# from sklearn.preprocessing import StandardScaler\n",
    "# from sklearn.linear_model import LogisticRegression\n",
    "# from sklearn.metrics import classification_report\n",
    "\n",
    "\n",
    "# #Filling Missing values with most frequent\n",
    "# X_train = train.fillna(train.mode().iloc[0])\n",
    "# X_test = test.fillna(train.mode().iloc[0])\n",
    "# print(f'After numerical imputing, shape of the train and test {X_train.shape, X_test.shape}')\n",
    "\n",
    "# #Applying log transformation\n",
    "# X_train[num_features] = np.log(X_train[num_features]+1)\n",
    "# X_test[num_features] = np.log(X_test[num_features]+1)\n",
    "\n",
    "# #Applying scaling transformation\n",
    "# scaler = StandardScaler()\n",
    "# X_train[num_features] = scaler.fit_transform(X_train[num_features])\n",
    "# X_test[num_features] = scaler.transform(X_test[num_features])\n",
    "# print(f'After scaling, shape of the train and test {X_train.shape, X_train.shape}')\n",
    "\n",
    "# #Encoding the categorical features\n",
    "# X_train = pd.get_dummies(X_train)\n",
    "# X_test = pd.get_dummies(X_test)\n",
    "# print(f'After Encoding, shape of the train and test {X_train.shape, X_test.shape}')\n",
    "\n",
    "# #Applying model\n",
    "# lr = LogisticRegression(random_state=0,solver=\"lbfgs\")\n",
    "# lr.fit(X_train,y)\n",
    "# y_pred = lr.predict(X_test)\n",
    "\n",
    "# output = pd.DataFrame({'id':range(len(y_pred)),'Made_Purchase':y_pred})\n",
    "# output.to_csv('submission.csv',index=False)\n",
    "\n",
    "# # print(classification_report(y,y_pred))"
   ]
  },
  {
   "cell_type": "markdown",
   "id": "a4e90283",
   "metadata": {
    "papermill": {
     "duration": 0.050322,
     "end_time": "2023-04-03T23:54:16.147296",
     "exception": false,
     "start_time": "2023-04-03T23:54:16.096974",
     "status": "completed"
    },
    "tags": []
   },
   "source": [
    "train - 0.63\n",
    "test - 0.6454"
   ]
  },
  {
   "cell_type": "code",
   "execution_count": 100,
   "id": "e92b8c98",
   "metadata": {
    "execution": {
     "iopub.execute_input": "2023-04-03T23:54:16.252967Z",
     "iopub.status.busy": "2023-04-03T23:54:16.252228Z",
     "iopub.status.idle": "2023-04-03T23:54:16.257780Z",
     "shell.execute_reply": "2023-04-03T23:54:16.256773Z"
    },
    "papermill": {
     "duration": 0.06154,
     "end_time": "2023-04-03T23:54:16.260260",
     "exception": false,
     "start_time": "2023-04-03T23:54:16.198720",
     "status": "completed"
    },
    "tags": []
   },
   "outputs": [],
   "source": [
    "# from sklearn.preprocessing import StandardScaler\n",
    "# from sklearn.linear_model import LogisticRegression\n",
    "# from sklearn.metrics import classification_report\n",
    "\n",
    "\n",
    "# #Filling Missing values with most frequent\n",
    "# X_train = train.fillna(train.mode().iloc[0])\n",
    "# X_test = test.fillna(train.mode().iloc[0])\n",
    "# print(f'After numerical imputing, shape of the train and test {X_train.shape, X_test.shape}')\n",
    "\n",
    "# #Applying log transformation\n",
    "# X_train[num_features] = np.log(X_train[num_features]+1)\n",
    "# X_test[num_features] = np.log(X_test[num_features]+1)\n",
    "\n",
    "# #Applying scaling transformation\n",
    "# scaler = StandardScaler()\n",
    "# X_train[num_features] = scaler.fit_transform(X_train[num_features])\n",
    "# X_test[num_features] = scaler.transform(X_test[num_features])\n",
    "# print(f'After scaling, shape of the train and test {X_train.shape, X_train.shape}')\n",
    "\n",
    "# #Encoding the categorical features\n",
    "# X_train = pd.get_dummies(X_train)\n",
    "# X_test = pd.get_dummies(X_test)\n",
    "# print(f'After Encoding, shape of the train and test {X_train.shape, X_test.shape}')\n",
    "\n",
    "# #Applying model\n",
    "# lr = LogisticRegression(random_state=0,solver=\"lbfgs\",C=0.001)\n",
    "# lr.fit(X_train,y)\n",
    "# y_pred = lr.predict(X_test)\n",
    "\n",
    "# output = pd.DataFrame({'id':range(len(y_pred)),'Made_Purchase':y_pred})\n",
    "# output.to_csv('submission.csv',index=False)\n",
    "\n",
    "# # print(classification_report(y,y_pred))"
   ]
  },
  {
   "cell_type": "markdown",
   "id": "74f9f096",
   "metadata": {
    "papermill": {
     "duration": 0.0506,
     "end_time": "2023-04-03T23:54:16.361354",
     "exception": false,
     "start_time": "2023-04-03T23:54:16.310754",
     "status": "completed"
    },
    "tags": []
   },
   "source": [
    "train - 0.62\n",
    "test - 0.64509"
   ]
  },
  {
   "cell_type": "code",
   "execution_count": 101,
   "id": "a10f999f",
   "metadata": {
    "execution": {
     "iopub.execute_input": "2023-04-03T23:54:16.464965Z",
     "iopub.status.busy": "2023-04-03T23:54:16.464487Z",
     "iopub.status.idle": "2023-04-03T23:54:16.469837Z",
     "shell.execute_reply": "2023-04-03T23:54:16.468890Z"
    },
    "papermill": {
     "duration": 0.060352,
     "end_time": "2023-04-03T23:54:16.472142",
     "exception": false,
     "start_time": "2023-04-03T23:54:16.411790",
     "status": "completed"
    },
    "tags": []
   },
   "outputs": [],
   "source": [
    "# from sklearn.preprocessing import StandardScaler\n",
    "# from sklearn.linear_model import LogisticRegression\n",
    "# from sklearn.metrics import classification_report\n",
    "\n",
    "\n",
    "# #Filling Missing values with most frequent\n",
    "# X_train = train.fillna(train.mode().iloc[0])\n",
    "# X_test = test.fillna(train.mode().iloc[0])\n",
    "# print(f'After numerical imputing, shape of the train and test {X_train.shape, X_test.shape}')\n",
    "\n",
    "# #Applying log transformation\n",
    "# X_train[num_features] = np.log(X_train[num_features]+1)\n",
    "# X_test[num_features] = np.log(X_test[num_features]+1)\n",
    "\n",
    "# #Applying scaling transformation\n",
    "# scaler = StandardScaler()\n",
    "# X_train[num_features] = scaler.fit_transform(X_train[num_features])\n",
    "# X_test[num_features] = scaler.transform(X_test[num_features])\n",
    "# print(f'After scaling, shape of the train and test {X_train.shape, X_train.shape}')\n",
    "\n",
    "# #Encoding the categorical features\n",
    "# X_train = pd.get_dummies(X_train)\n",
    "# X_test = pd.get_dummies(X_test)\n",
    "# print(f'After Encoding, shape of the train and test {X_train.shape, X_test.shape}')\n",
    "\n",
    "# #Applying model\n",
    "# lr = LogisticRegression(random_state=0,solver=\"lbfgs\",class_weight=\"balanced\")\n",
    "# lr.fit(X_train,y)\n",
    "# y_pred = lr.predict(X_test)\n",
    "\n",
    "# output = pd.DataFrame({'id':range(len(y_pred)),'Made_Purchase':y_pred})\n",
    "# output.to_csv('submission.csv',index=False)\n",
    "\n",
    "# # print(classification_report(y,y_pred))"
   ]
  },
  {
   "cell_type": "markdown",
   "id": "7d0d0488",
   "metadata": {
    "papermill": {
     "duration": 0.050856,
     "end_time": "2023-04-03T23:54:16.574387",
     "exception": false,
     "start_time": "2023-04-03T23:54:16.523531",
     "status": "completed"
    },
    "tags": []
   },
   "source": [
    "train - 0.63\n",
    "test - 0.63858"
   ]
  },
  {
   "cell_type": "code",
   "execution_count": 102,
   "id": "1809193e",
   "metadata": {
    "execution": {
     "iopub.execute_input": "2023-04-03T23:54:16.678439Z",
     "iopub.status.busy": "2023-04-03T23:54:16.677644Z",
     "iopub.status.idle": "2023-04-03T23:54:16.682879Z",
     "shell.execute_reply": "2023-04-03T23:54:16.682061Z"
    },
    "papermill": {
     "duration": 0.060303,
     "end_time": "2023-04-03T23:54:16.685236",
     "exception": false,
     "start_time": "2023-04-03T23:54:16.624933",
     "status": "completed"
    },
    "tags": []
   },
   "outputs": [],
   "source": [
    "# from sklearn.preprocessing import StandardScaler\n",
    "# from sklearn.linear_model import LogisticRegressionCV\n",
    "# from sklearn.metrics import classification_report\n",
    "# from sklearn.model_selection import train_test_split\n",
    "\n",
    "\n",
    "# #Filling Missing values with most frequent\n",
    "# train1 = train.fillna(train.mode().iloc[0])\n",
    "# test1 = test.fillna(train.mode().iloc[0])\n",
    "# print(f'After numerical imputing, shape of the train and test {train1.shape, test1.shape}')\n",
    "\n",
    "# #Applying log transformation\n",
    "# train1[num_features] = np.log(train1[num_features]+1)\n",
    "# test1[num_features] = np.log(test1[num_features]+1)\n",
    "\n",
    "# #Applying scaling transformation\n",
    "# scaler = StandardScaler()\n",
    "# train1[num_features] = scaler.fit_transform(train1[num_features])\n",
    "# test1[num_features] = scaler.transform(test1[num_features])\n",
    "# print(f'After scaling, shape of the train and test {train1.shape, test1.shape}')\n",
    "\n",
    "# #Encoding the categorical features\n",
    "# train1 = pd.get_dummies(train1)\n",
    "# test1 = pd.get_dummies(test1)\n",
    "# print(f'After Encoding, shape of the train and test {train1.shape, test1.shape}')\n",
    "\n",
    "# #splitting the data\n",
    "# X_train, X_test, y_train, y_test = train_test_split(train1,y,test_size=0.2,random_state=0,stratify=y)\n",
    "\n",
    "# #Applying model\n",
    "# lrcv = LogisticRegressionCV(random_state=0, cv=5, scoring=\"f1\", solver=\"lbfgs\", max_iter=1000)\n",
    "# lrcv.fit(train1,y)\n",
    "# y_pred = lrcv.predict(test1)\n",
    "\n",
    "# output = pd.DataFrame({'id':range(len(y_pred)),'Made_Purchase':y_pred})\n",
    "# output.to_csv('submission.csv',index=False)\n",
    "\n",
    "# # print(classification_report(y_test,y_pred))\n",
    "# # lrcv.Cs_"
   ]
  },
  {
   "cell_type": "markdown",
   "id": "48d29be3",
   "metadata": {
    "papermill": {
     "duration": 0.051037,
     "end_time": "2023-04-03T23:54:16.787518",
     "exception": false,
     "start_time": "2023-04-03T23:54:16.736481",
     "status": "completed"
    },
    "tags": []
   },
   "source": [
    "train - 0.62\n",
    "test - 0.6454"
   ]
  },
  {
   "cell_type": "code",
   "execution_count": 103,
   "id": "801c8ae6",
   "metadata": {
    "execution": {
     "iopub.execute_input": "2023-04-03T23:54:16.891365Z",
     "iopub.status.busy": "2023-04-03T23:54:16.890549Z",
     "iopub.status.idle": "2023-04-03T23:54:16.895832Z",
     "shell.execute_reply": "2023-04-03T23:54:16.894969Z"
    },
    "papermill": {
     "duration": 0.059924,
     "end_time": "2023-04-03T23:54:16.898173",
     "exception": false,
     "start_time": "2023-04-03T23:54:16.838249",
     "status": "completed"
    },
    "tags": []
   },
   "outputs": [],
   "source": [
    "# from sklearn.preprocessing import StandardScaler\n",
    "# from sklearn.linear_model import LogisticRegressionCV\n",
    "# from sklearn.metrics import classification_report\n",
    "# from sklearn.model_selection import train_test_split\n",
    "\n",
    "\n",
    "# #Filling Missing values with most frequent\n",
    "# train1 = train.fillna(train.mode().iloc[0])\n",
    "# test1 = test.fillna(train.mode().iloc[0])\n",
    "# print(f'After numerical imputing, shape of the train and test {train1.shape, test1.shape}')\n",
    "\n",
    "# #Applying log transformation\n",
    "# train1[num_features] = np.log(train1[num_features]+1)\n",
    "# test1[num_features] = np.log(test1[num_features]+1)\n",
    "\n",
    "# #Applying scaling transformation\n",
    "# scaler = StandardScaler()\n",
    "# train1[num_features] = scaler.fit_transform(train1[num_features])\n",
    "# test1[num_features] = scaler.transform(test1[num_features])\n",
    "# print(f'After scaling, shape of the train and test {train1.shape, test1.shape}')\n",
    "\n",
    "# #Encoding the categorical features\n",
    "# train1 = pd.get_dummies(train1)\n",
    "# test1 = pd.get_dummies(test1)\n",
    "# print(f'After Encoding, shape of the train and test {train1.shape, test1.shape}')\n",
    "\n",
    "# #splitting the data\n",
    "# X_train, X_test, y_train, y_test = train_test_split(train1,y,test_size=0.2,random_state=0,stratify=y)\n",
    "\n",
    "# #Applying model\n",
    "# lrcv = LogisticRegressionCV(random_state=0, cv=5, scoring=\"f1\", solver=\"newton-cg\", max_iter=1000)\n",
    "# lrcv.fit(train1,y)\n",
    "# y_pred = lrcv.predict(test1)\n",
    "\n",
    "# output = pd.DataFrame({'id':range(len(y_pred)),'Made_Purchase':y_pred})\n",
    "# output.to_csv('submission.csv',index=False)\n",
    "\n",
    "# # print(classification_report(y_test,y_pred))\n",
    "# # lrcv.Cs_"
   ]
  },
  {
   "cell_type": "markdown",
   "id": "ce19bf71",
   "metadata": {
    "papermill": {
     "duration": 0.050207,
     "end_time": "2023-04-03T23:54:16.999393",
     "exception": false,
     "start_time": "2023-04-03T23:54:16.949186",
     "status": "completed"
    },
    "tags": []
   },
   "source": [
    "train - 0.62\n",
    "test - 0.6454"
   ]
  },
  {
   "cell_type": "code",
   "execution_count": 104,
   "id": "bf91f2e2",
   "metadata": {
    "execution": {
     "iopub.execute_input": "2023-04-03T23:54:17.103540Z",
     "iopub.status.busy": "2023-04-03T23:54:17.102341Z",
     "iopub.status.idle": "2023-04-03T23:54:17.108266Z",
     "shell.execute_reply": "2023-04-03T23:54:17.107368Z"
    },
    "papermill": {
     "duration": 0.060157,
     "end_time": "2023-04-03T23:54:17.110464",
     "exception": false,
     "start_time": "2023-04-03T23:54:17.050307",
     "status": "completed"
    },
    "tags": []
   },
   "outputs": [],
   "source": [
    "# from sklearn.preprocessing import StandardScaler\n",
    "# from sklearn.linear_model import LogisticRegression\n",
    "# from sklearn.metrics import classification_report\n",
    "# from sklearn.model_selection import train_test_split, GridSearchCV\n",
    "\n",
    "\n",
    "# #Filling Missing values with most frequent\n",
    "# train1 = train.fillna(train.mode().iloc[0])\n",
    "# test1 = test.fillna(train.mode().iloc[0])\n",
    "# print(f'After numerical imputing, shape of the train and test {train1.shape, test1.shape}')\n",
    "\n",
    "# #Applying log transformation\n",
    "# train1[num_features] = np.log(train1[num_features]+1)\n",
    "# test1[num_features] = np.log(test1[num_features]+1)\n",
    "\n",
    "# #Applying scaling transformation\n",
    "# scaler = StandardScaler()\n",
    "# train1[num_features] = scaler.fit_transform(train1[num_features])\n",
    "# test1[num_features] = scaler.transform(test1[num_features])\n",
    "# print(f'After scaling, shape of the train and test {train1.shape, test1.shape}')\n",
    "\n",
    "# #Encoding the categorical features\n",
    "# train1 = pd.get_dummies(train1)\n",
    "# test1 = pd.get_dummies(test1)\n",
    "# print(f'After Encoding, shape of the train and test {train1.shape, test1.shape}')\n",
    "\n",
    "# #splitting the data\n",
    "# X_train, X_test, y_train, y_test = train_test_split(train1,y,test_size=0.2,random_state=0,stratify=y)\n",
    "\n",
    "# #Applying model\n",
    "# lr = LogisticRegression(random_state=0,)\n",
    "# param_grid = {'C':[0.00001, 0.0001, 0.001, 0.01, 0.1, 1], 'class_weight':[None, 'balanced'], \n",
    "#               'solver':['lbfgs','newton-cg'], 'max_iter':[100, 500, 1000], 'warm_start': [True, False]}\n",
    "# gscv = GridSearchCV(lr,param_grid=param_grid,scoring=\"f1\",cv=5)\n",
    "# gscv.fit(train1,y)\n",
    "# y_pred = gscv.predict(test1)\n",
    "\n",
    "# output = pd.DataFrame({'id':range(len(y_pred)),'Made_Purchase':y_pred})\n",
    "# output.to_csv('submission.csv',index=False)\n",
    "\n",
    "# # print(classification_report(y_test,y_pred))"
   ]
  },
  {
   "cell_type": "code",
   "execution_count": 105,
   "id": "e39a21ed",
   "metadata": {
    "execution": {
     "iopub.execute_input": "2023-04-03T23:54:17.213935Z",
     "iopub.status.busy": "2023-04-03T23:54:17.213297Z",
     "iopub.status.idle": "2023-04-03T23:54:17.218330Z",
     "shell.execute_reply": "2023-04-03T23:54:17.217198Z"
    },
    "papermill": {
     "duration": 0.059393,
     "end_time": "2023-04-03T23:54:17.220816",
     "exception": false,
     "start_time": "2023-04-03T23:54:17.161423",
     "status": "completed"
    },
    "tags": []
   },
   "outputs": [],
   "source": [
    "# print(gscv.best_params_)\n",
    "# print(gscv.best_score_)"
   ]
  },
  {
   "cell_type": "markdown",
   "id": "9951da66",
   "metadata": {
    "papermill": {
     "duration": 0.049965,
     "end_time": "2023-04-03T23:54:17.321868",
     "exception": false,
     "start_time": "2023-04-03T23:54:17.271903",
     "status": "completed"
    },
    "tags": []
   },
   "source": [
    "train - 0.4695309446254182\n",
    "test - 0.58887"
   ]
  },
  {
   "cell_type": "code",
   "execution_count": 106,
   "id": "6b278b83",
   "metadata": {
    "execution": {
     "iopub.execute_input": "2023-04-03T23:54:17.424386Z",
     "iopub.status.busy": "2023-04-03T23:54:17.423969Z",
     "iopub.status.idle": "2023-04-03T23:54:17.428743Z",
     "shell.execute_reply": "2023-04-03T23:54:17.427374Z"
    },
    "papermill": {
     "duration": 0.058971,
     "end_time": "2023-04-03T23:54:17.431078",
     "exception": false,
     "start_time": "2023-04-03T23:54:17.372107",
     "status": "completed"
    },
    "tags": []
   },
   "outputs": [],
   "source": [
    "# # Version 46\n",
    "\n",
    "# print(apply({'lr':lr},train_out,target_out))\n",
    "\n",
    "# #Fitting to model with train data\n",
    "# lr.fit(train_out, target_out)\n",
    "\n",
    "# #Predicting on test data\n",
    "# y_pred = lr.predict(test_pp)\n",
    "# output = pd.DataFrame({'id':range(len(y_pred)),'Made_Purchase':y_pred})\n",
    "# output.to_csv('submission.csv',index=False)\n",
    "\n",
    "# # train f1 -  0.619525\n",
    "# # val f1 - 0.621435\n",
    "# # Cross val f1 - 0.685885\n",
    "# # test f1 - 0.64524"
   ]
  },
  {
   "cell_type": "code",
   "execution_count": 107,
   "id": "dc09d061",
   "metadata": {
    "execution": {
     "iopub.execute_input": "2023-04-03T23:54:17.534731Z",
     "iopub.status.busy": "2023-04-03T23:54:17.533939Z",
     "iopub.status.idle": "2023-04-03T23:54:17.538888Z",
     "shell.execute_reply": "2023-04-03T23:54:17.538088Z"
    },
    "papermill": {
     "duration": 0.059378,
     "end_time": "2023-04-03T23:54:17.541009",
     "exception": false,
     "start_time": "2023-04-03T23:54:17.481631",
     "status": "completed"
    },
    "tags": []
   },
   "outputs": [],
   "source": [
    "# # Threshold checking\n",
    "\n",
    "# # print(apply({'lr':lr},train_out,target_out))\n",
    "\n",
    "# X_train, X_test, y_train, y_test = train_test_split(train_out, target_out, test_size=0.2,stratify=target_out)\n",
    "\n",
    "# #Fitting to model with train data\n",
    "# lr.fit(X_train, y_train)\n",
    "\n",
    "# #Predicting on test data\n",
    "# y_proba = lr.predict_proba(X_test)\n",
    "# df = {'Threshold':[],'Accuracy':[],'Precision':[],'Recall':[],'f1':[]}\n",
    "# for i in range(0,10):\n",
    "#     y_pred = np.where(y_proba[:,1] < (i/10), False, True) #0.36 to 0.46\n",
    "#     df['Threshold'].append(i/10)\n",
    "#     df['Accuracy'].append(accuracy_score(y_test,y_pred))\n",
    "#     df['Precision'].append(precision_score(y_test,y_pred,average='weighted'))\n",
    "#     df['Recall'].append(recall_score(y_test,y_pred,average='weighted'))\n",
    "#     df['f1'].append(f1_score(y_test,y_pred,average='weighted'))\n",
    "    \n",
    "# pd.DataFrame(df)\n",
    "# # print(y_proba[:,1])\n",
    "# # print(y_pred)\n",
    "# # print(classification_report(target_out,y_pred))\n",
    "\n",
    "# # fpr, tpr, thresholds = roc_curve(target_out, y_pred)\n",
    "# # roc_auc = auc(fpr, tpr)\n",
    "# # display = RocCurveDisplay(fpr=fpr, tpr=tpr, roc_auc=roc_auc,estimator_name='example estimator')\n",
    "# # display.plot()\n",
    "# # plt.show()"
   ]
  },
  {
   "cell_type": "code",
   "execution_count": 108,
   "id": "3fe3019a",
   "metadata": {
    "execution": {
     "iopub.execute_input": "2023-04-03T23:54:17.644459Z",
     "iopub.status.busy": "2023-04-03T23:54:17.643380Z",
     "iopub.status.idle": "2023-04-03T23:54:17.648456Z",
     "shell.execute_reply": "2023-04-03T23:54:17.647579Z"
    },
    "papermill": {
     "duration": 0.059277,
     "end_time": "2023-04-03T23:54:17.650608",
     "exception": false,
     "start_time": "2023-04-03T23:54:17.591331",
     "status": "completed"
    },
    "tags": []
   },
   "outputs": [],
   "source": [
    "# # Version 47\n",
    "\n",
    "# #Fitting to model with train data\n",
    "# lr.fit(train_out, target_out)\n",
    "\n",
    "# #Predicting on test data\n",
    "# y_proba = lr.predict_proba(test_pp)[:,1]\n",
    "# y_pred = np.where(y_proba < 0.39, False, True)\n",
    "# output = pd.DataFrame({'id':range(len(y_pred)),'Made_Purchase':y_pred})\n",
    "# output.to_csv('submission.csv',index=False)\n",
    "\n",
    "# # train f1 -  0.\n",
    "# # val f1 - 0.\n",
    "# # Cross val f1 - 0.\n",
    "# # test f1 - 0.64191"
   ]
  },
  {
   "cell_type": "code",
   "execution_count": 109,
   "id": "160f981c",
   "metadata": {
    "execution": {
     "iopub.execute_input": "2023-04-03T23:54:17.756400Z",
     "iopub.status.busy": "2023-04-03T23:54:17.755628Z",
     "iopub.status.idle": "2023-04-03T23:54:17.760387Z",
     "shell.execute_reply": "2023-04-03T23:54:17.759498Z"
    },
    "papermill": {
     "duration": 0.059921,
     "end_time": "2023-04-03T23:54:17.762489",
     "exception": false,
     "start_time": "2023-04-03T23:54:17.702568",
     "status": "completed"
    },
    "tags": []
   },
   "outputs": [],
   "source": [
    "# Version \n",
    "\n",
    "# train_lr = train[['GoogleMetric_Page_Values']]\n",
    "# test_lr = test[['GoogleMetric_Page_Values']]\n",
    "# target_lr = target.copy()\n",
    "# train_lr = train_lr.fillna(train_lr.mode().iloc[0])\n",
    "# test_lr = test_lr.fillna(test_lr.mode().iloc[0])\n",
    "# print(train_lr.shape, target_lr.shape, test_lr.shape)\n",
    "\n",
    "# print(apply({'lr':lr},train_out,target_out))\n",
    "\n",
    "#Fitting to model with train data\n",
    "# lr.fit(train_lr, target_lr)\n",
    "\n",
    "#Predicting on test data\n",
    "# y_pred = lr.predict(test_lr)\n",
    "# output = pd.DataFrame({'id':range(len(y_pred)),'Made_Purchase':y_pred})\n",
    "# output.to_csv('submission.csv',index=False)\n",
    "\n",
    "# train f1 -  0.631952\n",
    "# val f1 - 0.631286\n",
    "# Cross val f1 - 0.78848\n",
    "# test f1 - 0."
   ]
  },
  {
   "cell_type": "markdown",
   "id": "66028dc1",
   "metadata": {
    "papermill": {
     "duration": 0.050706,
     "end_time": "2023-04-03T23:54:17.864209",
     "exception": false,
     "start_time": "2023-04-03T23:54:17.813503",
     "status": "completed"
    },
    "tags": []
   },
   "source": [
    "# HistGradientBoostingClassifier"
   ]
  },
  {
   "cell_type": "code",
   "execution_count": 110,
   "id": "34fbe639",
   "metadata": {
    "execution": {
     "iopub.execute_input": "2023-04-03T23:54:17.969794Z",
     "iopub.status.busy": "2023-04-03T23:54:17.969131Z",
     "iopub.status.idle": "2023-04-03T23:54:17.974602Z",
     "shell.execute_reply": "2023-04-03T23:54:17.973765Z"
    },
    "papermill": {
     "duration": 0.060126,
     "end_time": "2023-04-03T23:54:17.976958",
     "exception": false,
     "start_time": "2023-04-03T23:54:17.916832",
     "status": "completed"
    },
    "tags": []
   },
   "outputs": [],
   "source": [
    "# from sklearn.preprocessing import StandardScaler\n",
    "# from sklearn.metrics import classification_report\n",
    "# from sklearn.ensemble import HistGradientBoostingClassifier\n",
    "# from sklearn.model_selection import train_test_split\n",
    "\n",
    "\n",
    "# #Filling Missing values with most frequent\n",
    "# train1 = train.fillna(train.mode().iloc[0])\n",
    "# test1 = test.fillna(train.mode().iloc[0])\n",
    "# print(f'After numerical imputing, shape of the train and test {train1.shape, test1.shape}')\n",
    "\n",
    "# #Applying log transformation\n",
    "# train1[num_features] = np.log(train1[num_features]+1)\n",
    "# test1[num_features] = np.log(test1[num_features]+1)\n",
    "\n",
    "# #Applying scaling transformation\n",
    "# scaler = StandardScaler()\n",
    "# train1[num_features] = scaler.fit_transform(train1[num_features])\n",
    "# test1[num_features] = scaler.transform(test1[num_features])\n",
    "# print(f'After scaling, shape of the train and test {train1.shape, test1.shape}')\n",
    "\n",
    "# #Encoding the categorical features\n",
    "# train1 = pd.get_dummies(train1)\n",
    "# test1 = pd.get_dummies(test1)\n",
    "# print(f'After Encoding, shape of the train and test {train1.shape, test1.shape}')\n",
    "\n",
    "# # #splitting the data\n",
    "# X_train, X_test, y_train, y_test = train_test_split(train1,y,test_size=0.2,random_state=0,stratify=y)\n",
    "\n",
    "# #Applying model on validation set\n",
    "# hgbc = HistGradientBoostingClassifier(random_state=0)\n",
    "# hgbc.fit(X_train,y_train)\n",
    "# y_pred = hgbc.predict(X_test)\n",
    "# print(classification_report(y_test,y_pred))\n",
    "\n",
    "# #Applying model on test set\n",
    "# hgbc.fit(train1, y)\n",
    "# y_pred = hgbc.predict(test1)\n",
    "\n",
    "# #exporting the output to csv\n",
    "# output = pd.DataFrame({'id':range(len(y_pred)),'Made_Purchase':y_pred})\n",
    "# output.to_csv('submission.csv',index=False)"
   ]
  },
  {
   "cell_type": "markdown",
   "id": "0d08731c",
   "metadata": {
    "papermill": {
     "duration": 0.050274,
     "end_time": "2023-04-03T23:54:18.078621",
     "exception": false,
     "start_time": "2023-04-03T23:54:18.028347",
     "status": "completed"
    },
    "tags": []
   },
   "source": [
    "train - 0.64\n",
    "validation - 0.61\n",
    "test - 0.63827"
   ]
  },
  {
   "cell_type": "code",
   "execution_count": 111,
   "id": "a5a74b24",
   "metadata": {
    "execution": {
     "iopub.execute_input": "2023-04-03T23:54:18.181943Z",
     "iopub.status.busy": "2023-04-03T23:54:18.181487Z",
     "iopub.status.idle": "2023-04-03T23:54:18.187871Z",
     "shell.execute_reply": "2023-04-03T23:54:18.186605Z"
    },
    "papermill": {
     "duration": 0.060939,
     "end_time": "2023-04-03T23:54:18.190282",
     "exception": false,
     "start_time": "2023-04-03T23:54:18.129343",
     "status": "completed"
    },
    "tags": []
   },
   "outputs": [],
   "source": [
    "# from sklearn.preprocessing import StandardScaler\n",
    "# from sklearn.linear_model import LogisticRegression\n",
    "# from sklearn.metrics import classification_report\n",
    "# from sklearn.model_selection import train_test_split, GridSearchCV\n",
    "# from sklearn.ensemble import HistGradientBoostingClassifier\n",
    "# from sklearn.experimental import enable_iterative_imputer\n",
    "# from sklearn.impute import IterativeImputer\n",
    "\n",
    "\n",
    "# #Filling Missing values with most frequent\n",
    "# num_cols = [\"HomePage\", \"HomePage_Duration\", \"LandingPage\", \"LandingPage_Duration\", \n",
    "#             \"ProductDescriptionPage\", \"ProductDescriptionPage_Duration\", \"GoogleMetric_Bounce_Rates\", \n",
    "#             \"GoogleMetric_Exit_Rates\", \"GoogleMetric_Page_Values\"]\n",
    "# imputer = IterativeImputer()\n",
    "# train1[num_cols] = imputer.fit_transform(train[num_cols])\n",
    "# # train1 = train.fillna(train.median())\n",
    "# print(f'After numerical imputing, shape of the train and test {train1.shape}')\n",
    "\n",
    "# #Applying log transformation\n",
    "# train1[num_cols] = np.log(train1[num_cols]+1)\n",
    "# print(train1['HomePage_Duration'].hist())\n",
    "\n",
    "# #Applying scaling transformation\n",
    "# scaler = StandardScaler()\n",
    "# train1[num_cols] = scaler.fit_transform(train1[num_cols])\n",
    "# print(f'After scaling, shape of the train and test {train1.shape}')\n",
    "# print(train1['HomePage_Duration'].hist())\n",
    "\n",
    "# #Encoding the categorical features\n",
    "# cat_cols = [\"OS\", \"SearchEngine\", \"Zone\", \"Type_of_Traffic\", \"CustomerType\", \"Gender\", \n",
    "#             \"Cookies_Setting\", \"Education\", \"Marital_Status\", \"Month_SeasonalPurchase\", \"WeekendPurchase\"]\n",
    "# train2 = pd.get_dummies(train1,columns=cat_cols)\n",
    "# print(f'After Encoding, shape of the train and test {train2.shape}')\n",
    "\n",
    "# #splitting the data\n",
    "# X_train, X_test, y_train, y_test = train_test_split(train2,y,test_size=0.2,random_state=0,stratify=y)\n",
    "\n",
    "# #Applying model\n",
    "# hgbc = HistGradientBoostingClassifier()\n",
    "# lr = LogisticRegression(random_state=0, max_iter=1000)\n",
    "# hgbc.fit(X_train,y_train)\n",
    "# y_pred = hgbc.predict(X_test)\n",
    "\n",
    "# # output = pd.DataFrame({'id':range(len(y_pred)),'Made_Purchase':y_pred})\n",
    "# # output.to_csv('submission.csv',index=False)\n",
    "\n",
    "# print(classification_report(y_test,y_pred))"
   ]
  },
  {
   "cell_type": "markdown",
   "id": "ecb9dc23",
   "metadata": {
    "papermill": {
     "duration": 0.051089,
     "end_time": "2023-04-03T23:54:18.291975",
     "exception": false,
     "start_time": "2023-04-03T23:54:18.240886",
     "status": "completed"
    },
    "tags": []
   },
   "source": [
    "# Perceptron"
   ]
  },
  {
   "cell_type": "code",
   "execution_count": 112,
   "id": "f3580159",
   "metadata": {
    "execution": {
     "iopub.execute_input": "2023-04-03T23:54:18.395386Z",
     "iopub.status.busy": "2023-04-03T23:54:18.394050Z",
     "iopub.status.idle": "2023-04-03T23:54:18.400381Z",
     "shell.execute_reply": "2023-04-03T23:54:18.399141Z"
    },
    "papermill": {
     "duration": 0.060749,
     "end_time": "2023-04-03T23:54:18.402937",
     "exception": false,
     "start_time": "2023-04-03T23:54:18.342188",
     "status": "completed"
    },
    "tags": []
   },
   "outputs": [],
   "source": [
    "# from sklearn.linear_model import Perceptron\n",
    "# from sklearn.impute import SimpleImputer, KNNImputer\n",
    "# from sklearn.preprocessing import StandardScaler, MinMaxScaler, OneHotEncoder\n",
    "# from sklearn.feature_selection import SelectPercentile, chi2\n",
    "\n",
    "\n",
    "# si = SimpleImputer(strategy='most_frequent')\n",
    "# train_si = pd.DataFrame(si.fit_transform(train),columns=train.columns)\n",
    "# test_si = pd.DataFrame(si.transform(test), columns=test.columns)\n",
    "\n",
    "# train_ohe = pd.get_dummies(train_si[cat_features])\n",
    "# test_ohe = pd.get_dummies(test_si[cat_features])\n",
    "\n",
    "# train_pp = pd.concat((train_si[num_features+rem_features].astype(float),train_ohe),axis=1)\n",
    "# test_pp = pd.concat((test_si[num_features+rem_features].astype(float),test_ohe),axis=1)\n",
    "\n",
    "# # sl = SelectPercentile(chi2,percentile=50)\n",
    "# # train_final = sl.fit_transform(train_pp,y)\n",
    "# # test_final = sl.transform(test_pp)\n",
    "\n",
    "# pt = Perceptron(random_state=0)\n",
    "# pt.fit(train_pp,y)\n",
    "# y_pred = pt.predict(test_pp)\n",
    "\n",
    "# output = pd.DataFrame({'id':range(len(y_pred)),'Made_Purchase':y_pred})\n",
    "# output.to_csv('submission.csv',index=False)\n",
    "# train_pp.shape"
   ]
  },
  {
   "cell_type": "code",
   "execution_count": 113,
   "id": "5c748c28",
   "metadata": {
    "execution": {
     "iopub.execute_input": "2023-04-03T23:54:18.506573Z",
     "iopub.status.busy": "2023-04-03T23:54:18.506144Z",
     "iopub.status.idle": "2023-04-03T23:54:18.511394Z",
     "shell.execute_reply": "2023-04-03T23:54:18.509900Z"
    },
    "papermill": {
     "duration": 0.060934,
     "end_time": "2023-04-03T23:54:18.514281",
     "exception": false,
     "start_time": "2023-04-03T23:54:18.453347",
     "status": "completed"
    },
    "tags": []
   },
   "outputs": [],
   "source": [
    "# print(max(cross_val_score(pt,train_pp,y,scoring=('f1_weighted'),cv=5)))"
   ]
  },
  {
   "cell_type": "markdown",
   "id": "de632930",
   "metadata": {
    "papermill": {
     "duration": 0.050501,
     "end_time": "2023-04-03T23:54:18.616348",
     "exception": false,
     "start_time": "2023-04-03T23:54:18.565847",
     "status": "completed"
    },
    "tags": []
   },
   "source": [
    "0.43779 test score - overfit"
   ]
  },
  {
   "cell_type": "markdown",
   "id": "615388bc",
   "metadata": {
    "papermill": {
     "duration": 0.051397,
     "end_time": "2023-04-03T23:54:18.719474",
     "exception": false,
     "start_time": "2023-04-03T23:54:18.668077",
     "status": "completed"
    },
    "tags": []
   },
   "source": [
    "# RandomForest Classifier"
   ]
  },
  {
   "cell_type": "code",
   "execution_count": 114,
   "id": "2e396372",
   "metadata": {
    "execution": {
     "iopub.execute_input": "2023-04-03T23:54:18.825688Z",
     "iopub.status.busy": "2023-04-03T23:54:18.824863Z",
     "iopub.status.idle": "2023-04-03T23:54:18.830141Z",
     "shell.execute_reply": "2023-04-03T23:54:18.829211Z"
    },
    "papermill": {
     "duration": 0.061918,
     "end_time": "2023-04-03T23:54:18.832421",
     "exception": false,
     "start_time": "2023-04-03T23:54:18.770503",
     "status": "completed"
    },
    "tags": []
   },
   "outputs": [],
   "source": [
    "# from sklearn.ensemble import RandomForestClassifier\n",
    "# from sklearn.impute import SimpleImputer, KNNImputer\n",
    "# from sklearn.preprocessing import StandardScaler, MinMaxScaler, OneHotEncoder\n",
    "# from sklearn.feature_selection import SelectPercentile, chi2\n",
    "\n",
    "\n",
    "# # si = SimpleImputer(strategy='most_frequent')\n",
    "# # train_si = pd.DataFrame(si.fit_transform(train),columns=train.columns)\n",
    "# # test_si = pd.DataFrame(si.transform(test), columns=test.columns)\n",
    "\n",
    "# train_ohe = pd.get_dummies(train[cat_features])\n",
    "# test_ohe = pd.get_dummies(test[cat_features])\n",
    "\n",
    "# train_pp = pd.concat((train[num_features+rem_features],train_ohe),axis=1)\n",
    "# test_pp = pd.concat((test[num_features+rem_features],test_ohe),axis=1)\n",
    "\n",
    "# train_pp = train_pp.replace(0, np.nan)\n",
    "# train_pp = train_pp.fillna(train_pp.median())\n",
    "\n",
    "# test_pp = test_pp.replace(0, np.nan)\n",
    "# test_pp = test_pp.fillna(test_pp.median())\n",
    "\n",
    "# # sl = SelectPercentile(chi2,percentile=50)\n",
    "# # train_final = sl.fit_transform(train_pp,y)\n",
    "# # test_final = sl.transform(test_pp)\n",
    "\n",
    "# rfc = RandomForestClassifier(random_state=0)\n",
    "# rfc.fit(train_pp,y)\n",
    "# y_pred = rfc.predict(test_pp)\n",
    "\n",
    "# print(max(cross_val_score(rfc,train_pp,y,scoring=('f1_weighted'),cv=5)))\n",
    "# output = pd.DataFrame({'id':range(len(y_pred)),'Made_Purchase':y_pred})\n",
    "# output.to_csv('submission.csv',index=False)\n",
    "# # train_pp.shape"
   ]
  },
  {
   "cell_type": "markdown",
   "id": "6e31ffe3",
   "metadata": {
    "papermill": {
     "duration": 0.050691,
     "end_time": "2023-04-03T23:54:18.934426",
     "exception": false,
     "start_time": "2023-04-03T23:54:18.883735",
     "status": "completed"
    },
    "tags": []
   },
   "source": [
    "train - 0.5940749505978997\n",
    "test - 0.38596"
   ]
  },
  {
   "cell_type": "code",
   "execution_count": 115,
   "id": "fd3e3326",
   "metadata": {
    "execution": {
     "iopub.execute_input": "2023-04-03T23:54:19.039529Z",
     "iopub.status.busy": "2023-04-03T23:54:19.038640Z",
     "iopub.status.idle": "2023-04-03T23:54:19.043066Z",
     "shell.execute_reply": "2023-04-03T23:54:19.042057Z"
    },
    "papermill": {
     "duration": 0.060263,
     "end_time": "2023-04-03T23:54:19.045437",
     "exception": false,
     "start_time": "2023-04-03T23:54:18.985174",
     "status": "completed"
    },
    "tags": []
   },
   "outputs": [],
   "source": [
    "# from sklearn.tree import DecisionTreeClassifier\n",
    "\n",
    "# dtc = DecisionTreeClassifier(random_state=0)\n",
    "\n",
    "# print(max(cross_val_score(dtc,train_pp,y,scoring=('f1_weighted'),cv=5)))"
   ]
  },
  {
   "cell_type": "markdown",
   "id": "1ea0c930",
   "metadata": {
    "papermill": {
     "duration": 0.049939,
     "end_time": "2023-04-03T23:54:19.146339",
     "exception": false,
     "start_time": "2023-04-03T23:54:19.096400",
     "status": "completed"
    },
    "tags": []
   },
   "source": [
    "# AdaBoostClassifier"
   ]
  },
  {
   "cell_type": "code",
   "execution_count": 116,
   "id": "79e465ba",
   "metadata": {
    "execution": {
     "iopub.execute_input": "2023-04-03T23:54:19.250322Z",
     "iopub.status.busy": "2023-04-03T23:54:19.249876Z",
     "iopub.status.idle": "2023-04-03T23:54:19.256805Z",
     "shell.execute_reply": "2023-04-03T23:54:19.255572Z"
    },
    "papermill": {
     "duration": 0.062039,
     "end_time": "2023-04-03T23:54:19.259271",
     "exception": false,
     "start_time": "2023-04-03T23:54:19.197232",
     "status": "completed"
    },
    "tags": []
   },
   "outputs": [],
   "source": [
    "# #Versoin 23\n",
    "# from sklearn.experimental import enable_iterative_imputer\n",
    "# from sklearn.impute import SimpleImputer, KNNImputer, IterativeImputer\n",
    "# from sklearn.preprocessing import OneHotEncoder, StandardScaler, FunctionTransformer, MinMaxScaler\n",
    "# from sklearn.linear_model import LogisticRegression\n",
    "# from sklearn.svm import SVC\n",
    "# from sklearn.model_selection import GridSearchCV, train_test_split\n",
    "# from sklearn.pipeline import Pipeline\n",
    "# from sklearn.compose import ColumnTransformer\n",
    "# from sklearn.metrics import classification_report\n",
    "# from xgboost import XGBClassifier\n",
    "# from sklearn.tree import DecisionTreeClassifier\n",
    "# from sklearn.ensemble import AdaBoostClassifier, GradientBoostingClassifier, HistGradientBoostingClassifier\n",
    "\n",
    "\n",
    "\n",
    "# num_cols = [\"HomePage\", \"HomePage_Duration\", \"LandingPage\", \"LandingPage_Duration\", \n",
    "#             \"ProductDescriptionPage\", \"ProductDescriptionPage_Duration\", \"GoogleMetric_Bounce_Rates\", \n",
    "#             \"GoogleMetric_Exit_Rates\", \"GoogleMetric_Page_Values\",\"SeasonalPurchase\"]\n",
    "# cat_cols = [\"OS\", \"SearchEngine\", \"Zone\", \"Type_of_Traffic\", \"CustomerType\", \"Gender\", \"Cookies_Setting\", \n",
    "#             \"Education\", \"Marital_Status\", \"Month_SeasonalPurchase\", \"WeekendPurchase\"]\n",
    "\n",
    "# numeric_transformer = Pipeline(steps=[\n",
    "#     ('imputer', SimpleImputer(strategy='median')),\n",
    "# #     ('add',FunctionTransformer(lambda x: np.add(x,1))),\n",
    "# #     ('log',FunctionTransformer(np.log2)),\n",
    "# #     ('scaler',StandardScaler()),\n",
    "#     ('scaler', MinMaxScaler())\n",
    "# ])\n",
    "\n",
    "# categorical_transformer = Pipeline(steps=[\n",
    "#     ('imputer', SimpleImputer(strategy='most_frequent')),\n",
    "#     ('onehot', OneHotEncoder(handle_unknown='ignore'))\n",
    "# ])\n",
    "\n",
    "# preprocessor = ColumnTransformer(transformers=[\n",
    "#     ('num', numeric_transformer, num_cols),\n",
    "#     ('cat', categorical_transformer, cat_cols)\n",
    "# ],remainder='passthrough')\n",
    "\n",
    "# clf = Pipeline(steps=[\n",
    "#     ('preprocessor', preprocessor),\n",
    "#     ('classifier', AdaBoostClassifier(random_state=0))\n",
    "# ])\n",
    "\n",
    "# X_train, X_test, y_train, y_test = train_test_split(train,y,test_size=0.15,stratify=y,)\n",
    "# print(X_train.shape, y_train.shape, X_test.shape, y_test.shape)\n",
    "\n",
    "# clf.fit(X_train, y_train)\n",
    "# y_pred = clf.predict(X_test)\n",
    "# print(classification_report(y_test, y_pred))\n",
    "\n",
    "# clf.fit(train,y)\n",
    "# y_pred = clf.predict(test)\n",
    "# print(max(cross_val_score(clf,train,y,scoring=('f1_weighted'),cv=5)))\n",
    "# output = pd.DataFrame({'id':range(len(y_pred)),'Made_Purchase':y_pred})\n",
    "# output.to_csv('submission.csv',index=False)"
   ]
  },
  {
   "cell_type": "markdown",
   "id": "c8a2e12f",
   "metadata": {
    "papermill": {
     "duration": 0.05219,
     "end_time": "2023-04-03T23:54:19.363641",
     "exception": false,
     "start_time": "2023-04-03T23:54:19.311451",
     "status": "completed"
    },
    "tags": []
   },
   "source": [
    "train - 0.62, test - 0.64434"
   ]
  },
  {
   "cell_type": "code",
   "execution_count": 117,
   "id": "08a2b350",
   "metadata": {
    "execution": {
     "iopub.execute_input": "2023-04-03T23:54:19.470011Z",
     "iopub.status.busy": "2023-04-03T23:54:19.469044Z",
     "iopub.status.idle": "2023-04-03T23:54:19.474506Z",
     "shell.execute_reply": "2023-04-03T23:54:19.473563Z"
    },
    "papermill": {
     "duration": 0.060879,
     "end_time": "2023-04-03T23:54:19.476907",
     "exception": false,
     "start_time": "2023-04-03T23:54:19.416028",
     "status": "completed"
    },
    "tags": []
   },
   "outputs": [],
   "source": [
    "# # Version 43\n",
    "\n",
    "# #Fitting to model with train data\n",
    "# abc.fit(train_out, target_out)\n",
    "\n",
    "# #Predicting on test data\n",
    "# y_pred = abc.predict(test_pp)\n",
    "# output = pd.DataFrame({'id':range(len(y_pred)),'Made_Purchase':y_pred})\n",
    "# output.to_csv('submission.csv',index=False)\n",
    "\n",
    "# # train f1 -  0.629382\n",
    "# # val f1 - 0.628533\n",
    "# # Cross val f1 - 0.527821\n",
    "# # test f1 - 0.64782"
   ]
  },
  {
   "cell_type": "code",
   "execution_count": 118,
   "id": "ee622189",
   "metadata": {
    "execution": {
     "iopub.execute_input": "2023-04-03T23:54:19.581850Z",
     "iopub.status.busy": "2023-04-03T23:54:19.581382Z",
     "iopub.status.idle": "2023-04-03T23:54:19.586653Z",
     "shell.execute_reply": "2023-04-03T23:54:19.585727Z"
    },
    "papermill": {
     "duration": 0.059929,
     "end_time": "2023-04-03T23:54:19.588923",
     "exception": false,
     "start_time": "2023-04-03T23:54:19.528994",
     "status": "completed"
    },
    "tags": []
   },
   "outputs": [],
   "source": [
    "# # HyperParameter Tuning\n",
    "\n",
    "# param_grid = {'n_estimators':[25,50,100,150],'learning_rate':[0.5,1,10,20]}\n",
    "# gscv = GridSearchCV(abc, param_grid=param_grid, scoring='f1_weighted',cv=7)\n",
    "\n",
    "# abc = AdaBoostClassifier(random_state=42, n_estimators=50, learning_rate=1)\n",
    "# print(apply({'abc':abc},train_out,target_out))\n",
    "\n",
    "# #Fitting to model with train data\n",
    "# gscv.fit(train_out, target_out)\n",
    "# print(gscv.best_params_)\n",
    "# print(gscv.best_score_)\n",
    "\n",
    "# #Predicting on test data\n",
    "# y_pred = abc.predict(test_pp)\n",
    "# output = pd.DataFrame({'id':range(len(y_pred)),'Made_Purchase':y_pred})\n",
    "# output.to_csv('submission.csv',index=False)\n",
    "\n",
    "# # train f1 -  0.629382\n",
    "# # val f1 - 0.628533\n",
    "# # Cross val f1 - 0.527821\n",
    "# # test f1 - 0.64782"
   ]
  },
  {
   "cell_type": "code",
   "execution_count": 119,
   "id": "a068d1f7",
   "metadata": {
    "execution": {
     "iopub.execute_input": "2023-04-03T23:54:19.692864Z",
     "iopub.status.busy": "2023-04-03T23:54:19.692107Z",
     "iopub.status.idle": "2023-04-03T23:54:19.696589Z",
     "shell.execute_reply": "2023-04-03T23:54:19.695760Z"
    },
    "papermill": {
     "duration": 0.059435,
     "end_time": "2023-04-03T23:54:19.698768",
     "exception": false,
     "start_time": "2023-04-03T23:54:19.639333",
     "status": "completed"
    },
    "tags": []
   },
   "outputs": [],
   "source": [
    "# # Version 52\n",
    "\n",
    "# train_abc = train.copy()\n",
    "# target_abc = target.copy()\n",
    "# train_abc = train_abc.fillna(train_abc.median().iloc[0])\n",
    "# train_abc = pd.get_dummies(train_abc)\n",
    "# print(train_abc.shape, target_abc.shape)\n",
    "\n",
    "# param_grid = {'n_estimators':[50],'learning_rate':[1]}\n",
    "# gscv = GridSearchCV(abc, param_grid=param_grid, scoring='f1_weighted',cv=7)\n",
    "\n",
    "# #Fitting to model with train data\n",
    "# gscv.fit(train_abc, target_abc)\n",
    "# print(gscv.best_params_)\n",
    "# print(gscv.best_score_)\n",
    "# print(gscv.best_estimator_.feature_importances_)"
   ]
  },
  {
   "cell_type": "code",
   "execution_count": 120,
   "id": "00b13f18",
   "metadata": {
    "execution": {
     "iopub.execute_input": "2023-04-03T23:54:19.811285Z",
     "iopub.status.busy": "2023-04-03T23:54:19.810289Z",
     "iopub.status.idle": "2023-04-03T23:54:19.815247Z",
     "shell.execute_reply": "2023-04-03T23:54:19.814176Z"
    },
    "papermill": {
     "duration": 0.069094,
     "end_time": "2023-04-03T23:54:19.818139",
     "exception": false,
     "start_time": "2023-04-03T23:54:19.749045",
     "status": "completed"
    },
    "tags": []
   },
   "outputs": [],
   "source": [
    "# train"
   ]
  },
  {
   "cell_type": "code",
   "execution_count": 121,
   "id": "774a9493",
   "metadata": {
    "execution": {
     "iopub.execute_input": "2023-04-03T23:54:19.942769Z",
     "iopub.status.busy": "2023-04-03T23:54:19.941688Z",
     "iopub.status.idle": "2023-04-03T23:54:19.947324Z",
     "shell.execute_reply": "2023-04-03T23:54:19.946181Z"
    },
    "papermill": {
     "duration": 0.061222,
     "end_time": "2023-04-03T23:54:19.949633",
     "exception": false,
     "start_time": "2023-04-03T23:54:19.888411",
     "status": "completed"
    },
    "tags": []
   },
   "outputs": [],
   "source": [
    "# # Version 53\n",
    "\n",
    "# train_abc = train[['GoogleMetric_Page_Values']]\n",
    "# test_abc = test[['GoogleMetric_Page_Values']]\n",
    "# target_abc = target.copy()\n",
    "# train_abc = train_abc.fillna(train_abc.mode().iloc[0])\n",
    "# test_abc = test_abc.fillna(test_abc.mode().iloc[0])\n",
    "# print(train_abc.shape, target_abc.shape, test_abc.shape)\n",
    "\n",
    "# abc = AdaBoostClassifier(random_state=42, n_estimators=50, learning_rate=1)\n",
    "# print(apply({'abc':abc},train_abc,target_abc))\n",
    "\n",
    "# #Fitting to model with train data\n",
    "# abc.fit(train_abc, target_abc)\n",
    "\n",
    "# #Predicting on test data\n",
    "# y_pred = abc.predict(test_abc)\n",
    "# output = pd.DataFrame({'id':range(len(y_pred)),'Made_Purchase':y_pred})\n",
    "# output.to_csv('submission.csv',index=False)\n",
    "\n",
    "# # train f1 -  0.631952\n",
    "# # val f1 - 0.631286\n",
    "# # Cross val f1 - 0.78848\n",
    "# # test f1 - 0.64524"
   ]
  },
  {
   "cell_type": "code",
   "execution_count": 122,
   "id": "3fd6d416",
   "metadata": {
    "execution": {
     "iopub.execute_input": "2023-04-03T23:54:20.054092Z",
     "iopub.status.busy": "2023-04-03T23:54:20.053297Z",
     "iopub.status.idle": "2023-04-03T23:54:20.058056Z",
     "shell.execute_reply": "2023-04-03T23:54:20.057226Z"
    },
    "papermill": {
     "duration": 0.05917,
     "end_time": "2023-04-03T23:54:20.060221",
     "exception": false,
     "start_time": "2023-04-03T23:54:20.001051",
     "status": "completed"
    },
    "tags": []
   },
   "outputs": [],
   "source": [
    "# # Version 54\n",
    "\n",
    "# train_abc = train[['ProductDescriptionPage_Duration','GoogleMetric_Exit_Rates','GoogleMetric_Page_Values']]\n",
    "# test_abc = test[['ProductDescriptionPage_Duration','GoogleMetric_Exit_Rates','GoogleMetric_Page_Values']]\n",
    "# target_abc = target.copy()\n",
    "# train_abc = train_abc.fillna(train_abc.mode().iloc[0])\n",
    "# test_abc = test_abc.fillna(test_abc.mode().iloc[0])\n",
    "# print(train_abc.shape, target_abc.shape, test_abc.shape)\n",
    "\n",
    "# abc = AdaBoostClassifier(random_state=42, n_estimators=50, learning_rate=1)\n",
    "# print(apply({'abc':abc},train_abc,target_abc))\n",
    "\n",
    "# #Fitting to model with train data\n",
    "# abc.fit(train_abc, target_abc)\n",
    "\n",
    "# #Predicting on test data\n",
    "# y_pred = abc.predict(test_abc)\n",
    "# output = pd.DataFrame({'id':range(len(y_pred)),'Made_Purchase':y_pred})\n",
    "# output.to_csv('submission.csv',index=False)\n",
    "\n",
    "# # train f1 -  0.631168\n",
    "# # val f1 - 0.626171\n",
    "# # Cross val f1 - 0.838604\n",
    "# # test f1 - 0.64615"
   ]
  },
  {
   "cell_type": "code",
   "execution_count": 123,
   "id": "93408da6",
   "metadata": {
    "execution": {
     "iopub.execute_input": "2023-04-03T23:54:20.163304Z",
     "iopub.status.busy": "2023-04-03T23:54:20.162335Z",
     "iopub.status.idle": "2023-04-03T23:54:20.167524Z",
     "shell.execute_reply": "2023-04-03T23:54:20.166672Z"
    },
    "papermill": {
     "duration": 0.059021,
     "end_time": "2023-04-03T23:54:20.169927",
     "exception": false,
     "start_time": "2023-04-03T23:54:20.110906",
     "status": "completed"
    },
    "tags": []
   },
   "outputs": [],
   "source": [
    "# # Version 55\n",
    "\n",
    "# train_abc = train.copy()\n",
    "# test_abc = test.copy()\n",
    "# target_abc = target.copy()\n",
    "\n",
    "# train_abc[num_features] = simn.fit_transform(train_abc[num_features])\n",
    "# test_abc[num_features] = simn.transform(test_abc[num_features])\n",
    "\n",
    "# train_abc[cat_features] = simf.fit_transform(train_abc[cat_features])\n",
    "# test_abc[cat_features] = simf.transform(test_abc[cat_features])\n",
    "\n",
    "# train_abc = pd.get_dummies(train_abc)\n",
    "# test_abc = pd.get_dummies(test_abc)\n",
    "\n",
    "# train_abc = ss.fit_transform(train_abc)\n",
    "# test_abc = ss.transform(test_abc)\n",
    "# print(train_abc.shape, target_abc.shape, test_abc.shape)\n",
    "\n",
    "# abc = AdaBoostClassifier(random_state=42, n_estimators=230, learning_rate=0.4, algorithm='SAMME')\n",
    "# print(apply({'abc':abc},train_abc,target_abc))\n",
    "\n",
    "# #Fitting to model with train data\n",
    "# abc.fit(train_abc, target_abc)\n",
    "\n",
    "# #Predicting on test data\n",
    "# y_pred = abc.predict(test_abc)\n",
    "# output = pd.DataFrame({'id':range(len(y_pred)),'Made_Purchase':y_pred})\n",
    "# output.to_csv('submission.csv',index=False)\n",
    "\n",
    "# # train f1 -  0.62368\n",
    "# # val f1 - 0.626406\n",
    "# # Cross val f1 - 0.721521\n",
    "# # test f1 - 0.64418"
   ]
  },
  {
   "cell_type": "code",
   "execution_count": 124,
   "id": "3194b9ca",
   "metadata": {
    "execution": {
     "iopub.execute_input": "2023-04-03T23:54:20.274899Z",
     "iopub.status.busy": "2023-04-03T23:54:20.273974Z",
     "iopub.status.idle": "2023-04-03T23:54:20.279512Z",
     "shell.execute_reply": "2023-04-03T23:54:20.278745Z"
    },
    "papermill": {
     "duration": 0.059936,
     "end_time": "2023-04-03T23:54:20.281852",
     "exception": false,
     "start_time": "2023-04-03T23:54:20.221916",
     "status": "completed"
    },
    "tags": []
   },
   "outputs": [],
   "source": [
    "# # Version 58\n",
    "\n",
    "\n",
    "# train_abc = train.dropna()\n",
    "# train_abc = pd.get_dummies(train_abc)\n",
    "\n",
    "# target_abc = target.iloc[train_abc.index.values]\n",
    "\n",
    "# test_abc = test.fillna(test.mode().iloc[0])\n",
    "# test_abc = pd.get_dummies(test_abc)\n",
    "\n",
    "# print(train_abc.shape, target_abc.shape, test_abc.shape)\n",
    "\n",
    "# print(apply({'abc':abc},train_abc,target_abc))\n",
    "\n",
    "# # #Fitting to model with train data\n",
    "# abc.fit(train_abc, target_abc)\n",
    "\n",
    "# # #Predicting on test data\n",
    "# y_pred = abc.predict(test_abc)\n",
    "# output = pd.DataFrame({'id':range(len(y_pred)),'Made_Purchase':y_pred})\n",
    "# output.to_csv('submission.csv',index=False)\n",
    "\n",
    "# # train f1 -  0.636453\n",
    "# # val f1 - 0.63853\n",
    "# # Cross val f1 - 0.705808\n",
    "# # test f1 - 0.64358"
   ]
  },
  {
   "cell_type": "code",
   "execution_count": 125,
   "id": "58c197dc",
   "metadata": {
    "execution": {
     "iopub.execute_input": "2023-04-03T23:54:20.385112Z",
     "iopub.status.busy": "2023-04-03T23:54:20.384669Z",
     "iopub.status.idle": "2023-04-03T23:54:20.389292Z",
     "shell.execute_reply": "2023-04-03T23:54:20.388485Z"
    },
    "papermill": {
     "duration": 0.058988,
     "end_time": "2023-04-03T23:54:20.391435",
     "exception": false,
     "start_time": "2023-04-03T23:54:20.332447",
     "status": "completed"
    },
    "tags": []
   },
   "outputs": [],
   "source": [
    "# output['Made_Purchase'].value_counts(normalize=True)"
   ]
  },
  {
   "cell_type": "markdown",
   "id": "db9e3407",
   "metadata": {
    "papermill": {
     "duration": 0.050495,
     "end_time": "2023-04-03T23:54:20.492709",
     "exception": false,
     "start_time": "2023-04-03T23:54:20.442214",
     "status": "completed"
    },
    "tags": []
   },
   "source": [
    "# Logistic"
   ]
  },
  {
   "cell_type": "code",
   "execution_count": 126,
   "id": "0552faf6",
   "metadata": {
    "execution": {
     "iopub.execute_input": "2023-04-03T23:54:20.596392Z",
     "iopub.status.busy": "2023-04-03T23:54:20.595915Z",
     "iopub.status.idle": "2023-04-03T23:54:20.602683Z",
     "shell.execute_reply": "2023-04-03T23:54:20.601798Z"
    },
    "papermill": {
     "duration": 0.061882,
     "end_time": "2023-04-03T23:54:20.604971",
     "exception": false,
     "start_time": "2023-04-03T23:54:20.543089",
     "status": "completed"
    },
    "tags": []
   },
   "outputs": [],
   "source": [
    "# #Versoin 24\n",
    "# from sklearn.experimental import enable_iterative_imputer\n",
    "# from sklearn.impute import SimpleImputer, KNNImputer, IterativeImputer\n",
    "# from sklearn.preprocessing import OneHotEncoder, StandardScaler, FunctionTransformer, MinMaxScaler\n",
    "# from sklearn.linear_model import LogisticRegression\n",
    "# from sklearn.svm import SVC\n",
    "# from sklearn.model_selection import GridSearchCV, train_test_split\n",
    "# from sklearn.pipeline import Pipeline\n",
    "# from sklearn.compose import ColumnTransformer\n",
    "# from sklearn.metrics import classification_report\n",
    "# from xgboost import XGBClassifier\n",
    "# from sklearn.tree import DecisionTreeClassifier\n",
    "# from sklearn.ensemble import AdaBoostClassifier, GradientBoostingClassifier, HistGradientBoostingClassifier\n",
    "\n",
    "\n",
    "\n",
    "# num_cols = [\"HomePage\", \"HomePage_Duration\", \"LandingPage\", \"LandingPage_Duration\", \n",
    "#             \"ProductDescriptionPage\", \"ProductDescriptionPage_Duration\", \"GoogleMetric_Bounce_Rates\", \n",
    "#             \"GoogleMetric_Exit_Rates\", \"GoogleMetric_Page_Values\",\"SeasonalPurchase\"]\n",
    "# cat_cols = [\"OS\", \"SearchEngine\", \"Zone\", \"Type_of_Traffic\", \"CustomerType\", \"Gender\", \"Cookies_Setting\", \n",
    "#             \"Education\", \"Marital_Status\", \"Month_SeasonalPurchase\", \"WeekendPurchase\"]\n",
    "\n",
    "# numeric_transformer = Pipeline(steps=[\n",
    "#     ('imputer', SimpleImputer(strategy='median')),\n",
    "# #     ('add',FunctionTransformer(lambda x: np.add(x,1))),\n",
    "# #     ('log',FunctionTransformer(np.log2)),\n",
    "# #     ('scaler',StandardScaler()),\n",
    "#     ('scaler', MinMaxScaler())\n",
    "# ])\n",
    "\n",
    "# categorical_transformer = Pipeline(steps=[\n",
    "#     ('imputer', SimpleImputer(strategy='most_frequent')),\n",
    "#     ('onehot', OneHotEncoder(handle_unknown='ignore'))\n",
    "# ])\n",
    "\n",
    "# preprocessor = ColumnTransformer(transformers=[\n",
    "#     ('num', numeric_transformer, num_cols),\n",
    "#     ('cat', categorical_transformer, cat_cols)\n",
    "# ],remainder='passthrough')\n",
    "\n",
    "# clf = Pipeline(steps=[\n",
    "#     ('preprocessor', preprocessor),\n",
    "#     ('classifier', LogisticRegression(random_state=0, solver='saga'))\n",
    "# ])\n",
    "\n",
    "# X_train, X_test, y_train, y_test = train_test_split(train,y,test_size=0.15,stratify=y,)\n",
    "# print(X_train.shape, y_train.shape, X_test.shape, y_test.shape)\n",
    "\n",
    "# clf.fit(X_train, y_train)\n",
    "# y_pred = clf.predict(X_test)\n",
    "# print(classification_report(y_test, y_pred))\n",
    "\n",
    "# clf.fit(train,y)\n",
    "# y_pred = clf.predict(test)\n",
    "# print(max(cross_val_score(clf,train,y,scoring=('f1_weighted'),cv=5)))\n",
    "# output = pd.DataFrame({'id':range(len(y_pred)),'Made_Purchase':y_pred})\n",
    "# output.to_csv('submission.csv',index=False)"
   ]
  },
  {
   "cell_type": "markdown",
   "id": "f0e7a682",
   "metadata": {
    "papermill": {
     "duration": 0.050707,
     "end_time": "2023-04-03T23:54:20.706826",
     "exception": false,
     "start_time": "2023-04-03T23:54:20.656119",
     "status": "completed"
    },
    "tags": []
   },
   "source": [
    "train - 0.57, test - 0.63312"
   ]
  },
  {
   "cell_type": "code",
   "execution_count": 127,
   "id": "d9b40b37",
   "metadata": {
    "execution": {
     "iopub.execute_input": "2023-04-03T23:54:20.810553Z",
     "iopub.status.busy": "2023-04-03T23:54:20.809832Z",
     "iopub.status.idle": "2023-04-03T23:54:20.815883Z",
     "shell.execute_reply": "2023-04-03T23:54:20.815045Z"
    },
    "papermill": {
     "duration": 0.060928,
     "end_time": "2023-04-03T23:54:20.818094",
     "exception": false,
     "start_time": "2023-04-03T23:54:20.757166",
     "status": "completed"
    },
    "tags": []
   },
   "outputs": [],
   "source": [
    "# #Versoin 25\n",
    "# from sklearn.experimental import enable_iterative_imputer\n",
    "# from sklearn.impute import SimpleImputer, KNNImputer, IterativeImputer\n",
    "# from sklearn.preprocessing import OneHotEncoder, StandardScaler, FunctionTransformer, MinMaxScaler\n",
    "# from sklearn.linear_model import LogisticRegression, SGDClassifier\n",
    "# from sklearn.svm import SVC\n",
    "# from sklearn.model_selection import GridSearchCV, train_test_split\n",
    "# from sklearn.pipeline import Pipeline\n",
    "# from sklearn.compose import ColumnTransformer\n",
    "# from sklearn.metrics import classification_report, f1_score\n",
    "# from xgboost import XGBClassifier\n",
    "# from sklearn.tree import DecisionTreeClassifier\n",
    "# from sklearn.ensemble import AdaBoostClassifier, GradientBoostingClassifier, HistGradientBoostingClassifier\n",
    "\n",
    "\n",
    "\n",
    "# num_cols = [\"HomePage\", \"HomePage_Duration\", \"LandingPage\", \"LandingPage_Duration\", \n",
    "#             \"ProductDescriptionPage\", \"ProductDescriptionPage_Duration\", \"GoogleMetric_Bounce_Rates\", \n",
    "#             \"GoogleMetric_Exit_Rates\", \"GoogleMetric_Page_Values\",\"SeasonalPurchase\"]\n",
    "# cat_cols = [\"OS\", \"SearchEngine\", \"Zone\", \"Type_of_Traffic\", \"CustomerType\", \"Gender\", \"Cookies_Setting\", \n",
    "#             \"Education\", \"Marital_Status\", \"Month_SeasonalPurchase\", \"WeekendPurchase\"]\n",
    "\n",
    "# numeric_transformer = Pipeline(steps=[\n",
    "#     ('imputer', SimpleImputer(strategy='median')),\n",
    "# #     ('add',FunctionTransformer(lambda x: np.add(x,1))),\n",
    "# #     ('log',FunctionTransformer(np.log2)),\n",
    "# #     ('scaler',StandardScaler()),\n",
    "#     ('scaler', MinMaxScaler())\n",
    "# ])\n",
    "\n",
    "# categorical_transformer = Pipeline(steps=[\n",
    "#     ('imputer', SimpleImputer(strategy='most_frequent')),\n",
    "#     ('onehot', OneHotEncoder(handle_unknown='ignore'))\n",
    "# ])\n",
    "\n",
    "# preprocessor = ColumnTransformer(transformers=[\n",
    "#     ('num', numeric_transformer, num_cols),\n",
    "#     ('cat', categorical_transformer, cat_cols)\n",
    "# ],remainder='passthrough')\n",
    "\n",
    "# clf = Pipeline(steps=[\n",
    "#     ('preprocessor', preprocessor),\n",
    "#     ('classifier', SGDClassifier(random_state=0, loss='log', penalty='l2'))\n",
    "# ])\n",
    "\n",
    "# X_train, X_test, y_train, y_test = train_test_split(train,y,test_size=0.15,stratify=y)\n",
    "# print(X_train.shape, y_train.shape, X_test.shape, y_test.shape)\n",
    "\n",
    "# clf.fit(train, y)\n",
    "# y_pred = clf.predict(train)\n",
    "# print('train f1 - ',f1_score(y, y_pred, average='weighted'))\n",
    "\n",
    "# clf.fit(X_train, y_train)\n",
    "# y_pred = clf.predict(X_test)\n",
    "# print('Validation f1 - ',f1_score(y_test, y_pred, average='weighted'))\n",
    "\n",
    "# clf.fit(train,y)\n",
    "# y_pred = clf.predict(test)\n",
    "# print('Cross val f1 - ', max(cross_val_score(clf,train,y,scoring=('f1_weighted'),cv=5)))\n",
    "# output = pd.DataFrame({'id':range(len(y_pred)),'Made_Purchase':y_pred})\n",
    "# output.to_csv('submission.csv',index=False)"
   ]
  },
  {
   "cell_type": "markdown",
   "id": "78bc23be",
   "metadata": {
    "papermill": {
     "duration": 0.050555,
     "end_time": "2023-04-03T23:54:20.919952",
     "exception": false,
     "start_time": "2023-04-03T23:54:20.869397",
     "status": "completed"
    },
    "tags": []
   },
   "source": [
    "rain f1 -  0.6132134406837145\n",
    "Validation f1 -  0.577857344094778\n",
    "Cross val f1 -  0.4900276614062308\n",
    "test - 0.61282"
   ]
  },
  {
   "cell_type": "markdown",
   "id": "d126b0ff",
   "metadata": {
    "papermill": {
     "duration": 0.050778,
     "end_time": "2023-04-03T23:54:21.021914",
     "exception": false,
     "start_time": "2023-04-03T23:54:20.971136",
     "status": "completed"
    },
    "tags": []
   },
   "source": [
    "# SVC"
   ]
  },
  {
   "cell_type": "code",
   "execution_count": 128,
   "id": "97d52a04",
   "metadata": {
    "execution": {
     "iopub.execute_input": "2023-04-03T23:54:21.125172Z",
     "iopub.status.busy": "2023-04-03T23:54:21.124384Z",
     "iopub.status.idle": "2023-04-03T23:54:21.131398Z",
     "shell.execute_reply": "2023-04-03T23:54:21.130465Z"
    },
    "papermill": {
     "duration": 0.061131,
     "end_time": "2023-04-03T23:54:21.133495",
     "exception": false,
     "start_time": "2023-04-03T23:54:21.072364",
     "status": "completed"
    },
    "tags": []
   },
   "outputs": [],
   "source": [
    "# #Versoin 26\n",
    "# from sklearn.experimental import enable_iterative_imputer\n",
    "# from sklearn.impute import SimpleImputer, KNNImputer, IterativeImputer\n",
    "# from sklearn.preprocessing import OneHotEncoder, StandardScaler, FunctionTransformer, MinMaxScaler\n",
    "# from sklearn.linear_model import LogisticRegression, SGDClassifier\n",
    "# from sklearn.svm import SVC\n",
    "# from sklearn.model_selection import GridSearchCV, train_test_split, cross_validate\n",
    "# from sklearn.pipeline import Pipeline\n",
    "# from sklearn.compose import ColumnTransformer\n",
    "# from sklearn.metrics import classification_report, f1_score\n",
    "# from xgboost import XGBClassifier\n",
    "# from sklearn.tree import DecisionTreeClassifier\n",
    "# from sklearn.ensemble import AdaBoostClassifier, GradientBoostingClassifier, HistGradientBoostingClassifier\n",
    "# from sklearn.feature_selection import RFECV\n",
    "\n",
    "\n",
    "\n",
    "# num_cols = [\"HomePage\", \"HomePage_Duration\", \"LandingPage\", \"LandingPage_Duration\", \n",
    "#             \"ProductDescriptionPage\", \"ProductDescriptionPage_Duration\", \"GoogleMetric_Bounce_Rates\", \n",
    "#             \"GoogleMetric_Exit_Rates\", \"GoogleMetric_Page_Values\",\"SeasonalPurchase\"]\n",
    "# cat_cols = [\"OS\", \"SearchEngine\", \"Zone\", \"Type_of_Traffic\", \"CustomerType\", \"Gender\", \"Cookies_Setting\", \n",
    "#             \"Education\", \"Marital_Status\", \"Month_SeasonalPurchase\", \"WeekendPurchase\"]\n",
    "\n",
    "# train1 = train.copy()\n",
    "# test1 = test.copy()\n",
    "# #Imputer\n",
    "# ii = IterativeImputer(initial_strategy='median', max_iter=100)\n",
    "# simf = SimpleImputer(strategy='most_frequent')\n",
    "# simd = SimpleImputer(strategy='median')\n",
    "# mms = MinMaxScaler()\n",
    "# train1[num_cols] = simd.fit_transform(train[num_cols])\n",
    "# train1[cat_cols] = simf.fit_transform(train[cat_cols])\n",
    "\n",
    "# test1[num_cols] = simd.transform(test[num_cols])\n",
    "# test1[cat_cols] = simf.transform(test[cat_cols])\n",
    "\n",
    "# #Scaling\n",
    "# train1[num_cols] = np.log(train1[num_cols]+1)\n",
    "# # train1[num_cols] = simd.fit_transform(train1[num_cols])\n",
    "\n",
    "# test1[num_cols] = np.log(test1[num_cols]+1)\n",
    "# test1[num_cols] = simd.fit_transform(test1[num_cols])\n",
    "\n",
    "# # #Applying scaling transformation\n",
    "# scaler = StandardScaler()\n",
    "# train1[num_cols] = scaler.fit_transform(train1[num_cols])\n",
    "# test1[num_cols] = scaler.fit_transform(test1[num_cols])\n",
    "# # print(f'After scaling, shape of the train and test {train1.shape}')\n",
    "\n",
    "# # Encode categorical variables using one-hot encoding\n",
    "# data = pd.concat((train1,test1),axis=0)\n",
    "# data_ohe = pd.get_dummies(data,columns=cat_cols)\n",
    "# train_data = data_ohe.iloc[:-6599,:]\n",
    "# test_data = data_ohe.iloc[-6599:,:]\n",
    "\n",
    "# #Applying model\n",
    "# clf = SVC(random_state=0, kernel='rbf')\n",
    "# # clf = RFECV(clf1,cv=5, scoring=\"f1_weighted\")\n",
    "\n",
    "# X_train, X_test, y_train, y_test = train_test_split(train_data,y,test_size=0.15,stratify=y)\n",
    "# print(X_train.shape, y_train.shape, X_test.shape, y_test.shape)\n",
    "\n",
    "# clf.fit(X_train, y_train)\n",
    "# y_pred = clf.predict(X_test)\n",
    "# print('Validation f1 - ',f1_score(y_test, y_pred, average='weighted'))\n",
    "\n",
    "# clf.fit(train_data,y)\n",
    "# y_pred = clf.predict(train_data)\n",
    "# print('train f1 - ',f1_score(y, y_pred, average='weighted'))\n",
    "\n",
    "# cv = cross_validate(clf,train_data, y, scoring=\"f1_weighted\",cv=5)\n",
    "# print('Cross val f1 - ',max(cv['test_score']))\n",
    "\n",
    "# y_pred = clf.predict(test_data)\n",
    "# # print('Cross val f1 - ', max(cross_val_score(clf,train,y,scoring=('f1_weighted'),cv=5)))\n",
    "# output = pd.DataFrame({'id':range(len(y_pred)),'Made_Purchase':y_pred})\n",
    "# output.to_csv('submission.csv',index=False)"
   ]
  },
  {
   "cell_type": "markdown",
   "id": "251d3d59",
   "metadata": {
    "papermill": {
     "duration": 0.059188,
     "end_time": "2023-04-03T23:54:21.258730",
     "exception": false,
     "start_time": "2023-04-03T23:54:21.199542",
     "status": "completed"
    },
    "tags": []
   },
   "source": [
    "Validation f1 -  0.6122958822338578\n",
    "train f1 -  0.6357532050852699\n",
    "Cross val f1 -  0.5589978465277134\n",
    "test - 0.64267"
   ]
  },
  {
   "cell_type": "code",
   "execution_count": 129,
   "id": "060f4b79",
   "metadata": {
    "execution": {
     "iopub.execute_input": "2023-04-03T23:54:21.375521Z",
     "iopub.status.busy": "2023-04-03T23:54:21.374627Z",
     "iopub.status.idle": "2023-04-03T23:54:21.383926Z",
     "shell.execute_reply": "2023-04-03T23:54:21.382767Z"
    },
    "papermill": {
     "duration": 0.074589,
     "end_time": "2023-04-03T23:54:21.386543",
     "exception": false,
     "start_time": "2023-04-03T23:54:21.311954",
     "status": "completed"
    },
    "tags": []
   },
   "outputs": [],
   "source": [
    "# #Versoin 27\n",
    "# from sklearn.experimental import enable_iterative_imputer\n",
    "# from sklearn.impute import SimpleImputer, KNNImputer, IterativeImputer\n",
    "# from sklearn.preprocessing import OneHotEncoder, StandardScaler, FunctionTransformer, MinMaxScaler\n",
    "# from sklearn.linear_model import LogisticRegression, SGDClassifier\n",
    "# from sklearn.svm import SVC\n",
    "# from sklearn.model_selection import GridSearchCV, train_test_split, cross_validate\n",
    "# from sklearn.pipeline import Pipeline\n",
    "# from sklearn.compose import ColumnTransformer\n",
    "# from sklearn.metrics import classification_report, f1_score\n",
    "# from xgboost import XGBClassifier\n",
    "# from sklearn.tree import DecisionTreeClassifier\n",
    "# from sklearn.ensemble import AdaBoostClassifier, GradientBoostingClassifier, HistGradientBoostingClassifier\n",
    "# from sklearn.feature_selection import RFECV\n",
    "\n",
    "\n",
    "\n",
    "# num_cols = [\"HomePage\", \"HomePage_Duration\", \"LandingPage\", \"LandingPage_Duration\", \n",
    "#             \"ProductDescriptionPage\", \"ProductDescriptionPage_Duration\", \"GoogleMetric_Bounce_Rates\", \n",
    "#             \"GoogleMetric_Exit_Rates\", \"GoogleMetric_Page_Values\",\"SeasonalPurchase\"]\n",
    "# cat_cols = [\"OS\", \"SearchEngine\", \"Zone\", \"Type_of_Traffic\", \"CustomerType\", \"Gender\", \"Cookies_Setting\", \n",
    "#             \"Education\", \"Marital_Status\", \"Month_SeasonalPurchase\", \"WeekendPurchase\"]\n",
    "\n",
    "# train1 = train.copy()\n",
    "# test1 = test.copy()\n",
    "# #Imputer\n",
    "# ii = IterativeImputer(initial_strategy='median', max_iter=100)\n",
    "# simf = SimpleImputer(strategy='most_frequent')\n",
    "# simd = SimpleImputer(strategy='median')\n",
    "# mms = MinMaxScaler()\n",
    "# train1[num_cols] = simd.fit_transform(train[num_cols])\n",
    "# train1[cat_cols] = simf.fit_transform(train[cat_cols])\n",
    "\n",
    "# test1[num_cols] = simd.transform(test[num_cols])\n",
    "# test1[cat_cols] = simf.transform(test[cat_cols])\n",
    "\n",
    "# #Scaling\n",
    "# train1[num_cols] = np.log(train1[num_cols]+1)\n",
    "# # train1[num_cols] = simd.fit_transform(train1[num_cols])\n",
    "\n",
    "# test1[num_cols] = np.log(test1[num_cols]+1)\n",
    "# test1[num_cols] = simd.fit_transform(test1[num_cols])\n",
    "\n",
    "# # #Applying scaling transformation\n",
    "# scaler = StandardScaler()\n",
    "# train1[num_cols] = scaler.fit_transform(train1[num_cols])\n",
    "# test1[num_cols] = scaler.fit_transform(test1[num_cols])\n",
    "# # print(f'After scaling, shape of the train and test {train1.shape}')\n",
    "\n",
    "# # Encode categorical variables using one-hot encoding\n",
    "# data = pd.concat((train1,test1),axis=0)\n",
    "# data_ohe = pd.get_dummies(data,columns=cat_cols)\n",
    "# train_data = data_ohe.iloc[:-6599,:]\n",
    "# test_data = data_ohe.iloc[-6599:,:]\n",
    "\n",
    "# #Applying model\n",
    "# clf = SVC(random_state=0, kernel='poly')\n",
    "# # clf = RFECV(clf1,cv=5, scoring=\"f1_weighted\")\n",
    "\n",
    "# X_train, X_test, y_train, y_test = train_test_split(train_data,y,test_size=0.15,stratify=y)\n",
    "# print(X_train.shape, y_train.shape, X_test.shape, y_test.shape)\n",
    "\n",
    "# clf.fit(X_train, y_train)\n",
    "# y_pred = clf.predict(X_test)\n",
    "# print('Validation f1 - ',f1_score(y_test, y_pred, average='weighted'))\n",
    "\n",
    "# clf.fit(train_data,y)\n",
    "# y_pred = clf.predict(train_data)\n",
    "# print('train f1 - ',f1_score(y, y_pred, average='weighted'))\n",
    "\n",
    "# cv = cross_validate(clf,train_data, y, scoring=\"f1_weighted\",cv=5)\n",
    "# print('Cross val f1 - ',max(cv['test_score']))\n",
    "\n",
    "# y_pred = clf.predict(test_data)\n",
    "# # print('Cross val f1 - ', max(cross_val_score(clf,train,y,scoring=('f1_weighted'),cv=5)))\n",
    "# output = pd.DataFrame({'id':range(len(y_pred)),'Made_Purchase':y_pred})\n",
    "# output.to_csv('submission.csv',index=False)"
   ]
  },
  {
   "cell_type": "markdown",
   "id": "9264f9d5",
   "metadata": {
    "papermill": {
     "duration": 0.050645,
     "end_time": "2023-04-03T23:54:21.488767",
     "exception": false,
     "start_time": "2023-04-03T23:54:21.438122",
     "status": "completed"
    },
    "tags": []
   },
   "source": [
    "Validation f1 -  0.6003592792066459\n",
    "train f1 -  0.6439486661515397\n",
    "Cross val f1 -  0.5531500442891335\n",
    "test - 0.6307"
   ]
  },
  {
   "cell_type": "code",
   "execution_count": 130,
   "id": "37e81e60",
   "metadata": {
    "execution": {
     "iopub.execute_input": "2023-04-03T23:54:21.606270Z",
     "iopub.status.busy": "2023-04-03T23:54:21.605407Z",
     "iopub.status.idle": "2023-04-03T23:54:21.610767Z",
     "shell.execute_reply": "2023-04-03T23:54:21.609688Z"
    },
    "papermill": {
     "duration": 0.066451,
     "end_time": "2023-04-03T23:54:21.613210",
     "exception": false,
     "start_time": "2023-04-03T23:54:21.546759",
     "status": "completed"
    },
    "tags": []
   },
   "outputs": [],
   "source": [
    "# # Version 48\n",
    "\n",
    "# # print(apply({'svc':svc},train_out,target_out))\n",
    "\n",
    "# #Fitting to model with train data\n",
    "# svc.fit(train_out, target_out)\n",
    "\n",
    "# #Predicting on test data\n",
    "# y_pred = svc.predict(test_pp)\n",
    "# output = pd.DataFrame({'id':range(len(y_pred)),'Made_Purchase':y_pred})\n",
    "# output.to_csv('submission.csv',index=False)\n",
    "\n",
    "# # train f1 -  0.631981\n",
    "# # val f1 - 0.620467\n",
    "# # Cross val f1 - 0.671724\n",
    "# # test f1 - 0.64237"
   ]
  },
  {
   "cell_type": "markdown",
   "id": "633171e7",
   "metadata": {
    "papermill": {
     "duration": 0.050816,
     "end_time": "2023-04-03T23:54:21.715196",
     "exception": false,
     "start_time": "2023-04-03T23:54:21.664380",
     "status": "completed"
    },
    "tags": []
   },
   "source": [
    "# MLPClassifier"
   ]
  },
  {
   "cell_type": "code",
   "execution_count": 131,
   "id": "1bb2a46b",
   "metadata": {
    "execution": {
     "iopub.execute_input": "2023-04-03T23:54:21.820305Z",
     "iopub.status.busy": "2023-04-03T23:54:21.819377Z",
     "iopub.status.idle": "2023-04-03T23:54:21.827034Z",
     "shell.execute_reply": "2023-04-03T23:54:21.825869Z"
    },
    "papermill": {
     "duration": 0.063462,
     "end_time": "2023-04-03T23:54:21.829769",
     "exception": false,
     "start_time": "2023-04-03T23:54:21.766307",
     "status": "completed"
    },
    "tags": []
   },
   "outputs": [],
   "source": [
    "# #Versoin 29\n",
    "\n",
    "\n",
    "# num_cols = [\"HomePage\", \"HomePage_Duration\", \"LandingPage\", \"LandingPage_Duration\", \n",
    "#             \"ProductDescriptionPage\", \"ProductDescriptionPage_Duration\", \"GoogleMetric_Bounce_Rates\", \n",
    "#             \"GoogleMetric_Exit_Rates\", \"GoogleMetric_Page_Values\",\"SeasonalPurchase\"]\n",
    "# cat_cols = [\"OS\", \"SearchEngine\", \"Zone\", \"Type_of_Traffic\", \"CustomerType\", \"Gender\", \"Cookies_Setting\", \n",
    "#             \"Education\", \"Marital_Status\", \"Month_SeasonalPurchase\", \"WeekendPurchase\"]\n",
    "\n",
    "# train1 = train.copy()\n",
    "# test1 = test.copy()\n",
    "\n",
    "# #Imputer\n",
    "# ii = IterativeImputer(initial_strategy='median', max_iter=100)\n",
    "# simf = SimpleImputer(strategy='most_frequent')\n",
    "# simd = SimpleImputer(strategy='median')\n",
    "\n",
    "# train1[num_cols] = simd.fit_transform(train[num_cols])\n",
    "# test1[num_cols] = simd.transform(test[num_cols])\n",
    "\n",
    "# train1[cat_cols] = simf.fit_transform(train[cat_cols])\n",
    "# test1[cat_cols] = simf.transform(test[cat_cols])\n",
    "\n",
    "# #log Scaling\n",
    "# train1[num_cols] = np.log(train1[num_cols]+1)\n",
    "# train1[num_cols] = simd.fit_transform(train1[num_cols])\n",
    "\n",
    "# test1[num_cols] = np.log(test1[num_cols]+1)\n",
    "# test1[num_cols] = simd.fit_transform(test1[num_cols])\n",
    "\n",
    "# # #Applying scaling transformation\n",
    "# scaler = StandardScaler()\n",
    "# train1[num_cols] = scaler.fit_transform(train1[num_cols])\n",
    "# test1[num_cols] = scaler.transform(test1[num_cols])\n",
    "# print(f'After scaling, shape of the train and test {train1.shape}, {test1.shape}')\n",
    "\n",
    "# # Encode categorical variables using one-hot encoding\n",
    "# data = pd.concat((train1,test1),axis=0)\n",
    "# data_ohe = pd.get_dummies(data,columns=cat_cols)\n",
    "# train_data = data_ohe.iloc[:-6599,:]\n",
    "# test_data = data_ohe.iloc[-6599:,:]\n",
    "# print(f'After encoding, shape of the train and test {train_data.shape}, {test_data.shape}')\n",
    "\n",
    "# #Applying model\n",
    "# clf = MLPClassifier(random_state=0)\n",
    "# # clf = RFECV(clf1,cv=5, scoring=\"f1_weighted\")\n",
    "\n",
    "# X_train, X_test, y_train, y_test = train_test_split(train_data,y,test_size=0.15,stratify=y)\n",
    "# print(X_train.shape, y_train.shape, X_test.shape, y_test.shape)\n",
    "\n",
    "# clf.fit(X_train, y_train)\n",
    "# y_pred = clf.predict(X_test)\n",
    "# print('Validation f1 - ',f1_score(y_test, y_pred, average='weighted'))\n",
    "\n",
    "# clf.fit(train_data,y)\n",
    "# y_pred = clf.predict(train_data)\n",
    "# print('train f1 - ',f1_score(y, y_pred, average='weighted'))\n",
    "\n",
    "# cv = cross_validate(clf,train_data, y, scoring=\"f1_weighted\",cv=5)\n",
    "# print('Cross val f1 - ',max(cv['test_score']))\n",
    " \n",
    "# y_pred = clf.predict(test_data)\n",
    "# # print('Cross val f1 - ', max(cross_val_score(clf,train,y,scoring=('f1_weighted'),cv=5)))\n",
    "# output = pd.DataFrame({'id':range(len(y_pred)),'Made_Purchase':y_pred})\n",
    "# output.to_csv('submission.csv',index=False)"
   ]
  },
  {
   "cell_type": "markdown",
   "id": "387d93c4",
   "metadata": {
    "papermill": {
     "duration": 0.052081,
     "end_time": "2023-04-03T23:54:21.933527",
     "exception": false,
     "start_time": "2023-04-03T23:54:21.881446",
     "status": "completed"
    },
    "tags": []
   },
   "source": [
    "Validation f1 -  0.5252807611815672\n",
    "\n",
    "train f1 -  0.7202067359118478\n",
    "\n",
    "Cross val f1 -  0.4683578988526504\n",
    "\n",
    "test - 0.52932"
   ]
  },
  {
   "cell_type": "code",
   "execution_count": 132,
   "id": "9eae644a",
   "metadata": {
    "execution": {
     "iopub.execute_input": "2023-04-03T23:54:22.040048Z",
     "iopub.status.busy": "2023-04-03T23:54:22.039178Z",
     "iopub.status.idle": "2023-04-03T23:54:22.046248Z",
     "shell.execute_reply": "2023-04-03T23:54:22.045438Z"
    },
    "papermill": {
     "duration": 0.063461,
     "end_time": "2023-04-03T23:54:22.048627",
     "exception": false,
     "start_time": "2023-04-03T23:54:21.985166",
     "status": "completed"
    },
    "tags": []
   },
   "outputs": [],
   "source": [
    "# #Versoin 30\n",
    "\n",
    "\n",
    "# num_cols = [\"HomePage\", \"HomePage_Duration\", \"LandingPage\", \"LandingPage_Duration\", \n",
    "#             \"ProductDescriptionPage\", \"ProductDescriptionPage_Duration\", \"GoogleMetric_Bounce_Rates\", \n",
    "#             \"GoogleMetric_Exit_Rates\", \"GoogleMetric_Page_Values\",\"SeasonalPurchase\"]\n",
    "# cat_cols = [\"OS\", \"SearchEngine\", \"Zone\", \"Type_of_Traffic\", \"CustomerType\", \"Gender\", \"Cookies_Setting\", \n",
    "#             \"Education\", \"Marital_Status\", \"Month_SeasonalPurchase\", \"WeekendPurchase\"]\n",
    "\n",
    "# train1 = train.copy()\n",
    "# test1 = test.copy()\n",
    "\n",
    "# #Imputer\n",
    "# ii = IterativeImputer(initial_strategy='median', max_iter=100)\n",
    "# simf = SimpleImputer(strategy='most_frequent')\n",
    "# simd = SimpleImputer(strategy='median')\n",
    "\n",
    "# # train1[num_cols] = simd.fit_transform(train[num_cols])\n",
    "# # test1[num_cols] = simd.transform(test[num_cols])\n",
    "\n",
    "# # train1[cat_cols] = simf.fit_transform(train[cat_cols])\n",
    "# # test1[cat_cols] = simf.transform(test[cat_cols])\n",
    "\n",
    "# train1 = train.fillna(train.mode().iloc[0])\n",
    "# test1 = test.fillna(test.mode().iloc[0])\n",
    "\n",
    "# #log Scaling\n",
    "# train1[num_cols] = np.log(train1[num_cols]+1)\n",
    "# train1[num_cols] = simd.fit_transform(train1[num_cols])\n",
    "\n",
    "# test1[num_cols] = np.log(test1[num_cols]+1)\n",
    "# test1[num_cols] = simd.fit_transform(test1[num_cols])\n",
    "\n",
    "# # #Applying scaling transformation\n",
    "# # scaler = StandardScaler()\n",
    "# # train1[num_cols] = scaler.fit_transform(train1[num_cols])\n",
    "# # test1[num_cols] = scaler.transform(test1[num_cols])\n",
    "# # print(f'After scaling, shape of the train and test {train1.shape}, {test1.shape}')\n",
    "\n",
    "# # Encode categorical variables using one-hot encoding\n",
    "# data = pd.concat((train1,test1),axis=0)\n",
    "# data_ohe = pd.get_dummies(data)\n",
    "# train_data = data_ohe.iloc[:-6599,:]\n",
    "# test_data = data_ohe.iloc[-6599:,:]\n",
    "# print(f'After encoding, shape of the train and test {train_data.shape}, {test_data.shape}')\n",
    "\n",
    "# #Applying model\n",
    "# clf = MLPClassifier(random_state=0)\n",
    "# # clf = RFECV(clf1,cv=5, scoring=\"f1_weighted\")\n",
    "\n",
    "# X_train, X_test, y_train, y_test = train_test_split(train_data,y,test_size=0.15,stratify=y)\n",
    "# print(X_train.shape, y_train.shape, X_test.shape, y_test.shape)\n",
    "\n",
    "# clf.fit(X_train, y_train)\n",
    "# y_pred = clf.predict(X_test)\n",
    "# print('Validation f1 - ',f1_score(y_test, y_pred, average='weighted'))\n",
    "\n",
    "# clf.fit(train_data,y)\n",
    "# y_pred = clf.predict(train_data)\n",
    "# print('train f1 - ',f1_score(y, y_pred, average='weighted'))\n",
    "\n",
    "# cv = cross_validate(clf,train_data, y, scoring=\"f1_weighted\",cv=5)\n",
    "# print('Cross val f1 - ',max(cv['test_score']))\n",
    " \n",
    "# y_pred = clf.predict(test_data)\n",
    "# # print('Cross val f1 - ', max(cross_val_score(clf,train,y,scoring=('f1_weighted'),cv=5)))\n",
    "# output = pd.DataFrame({'id':range(len(y_pred)),'Made_Purchase':y_pred})\n",
    "# output.to_csv('submission.csv',index=False)"
   ]
  },
  {
   "cell_type": "markdown",
   "id": "be749562",
   "metadata": {
    "papermill": {
     "duration": 0.050619,
     "end_time": "2023-04-03T23:54:22.152844",
     "exception": false,
     "start_time": "2023-04-03T23:54:22.102225",
     "status": "completed"
    },
    "tags": []
   },
   "source": [
    "Validation f1 -  0.5705862764686295\n",
    "\n",
    "train f1 -  0.6821102255593041\n",
    "\n",
    "test - 0.57826"
   ]
  },
  {
   "cell_type": "code",
   "execution_count": 133,
   "id": "b3c318ed",
   "metadata": {
    "execution": {
     "iopub.execute_input": "2023-04-03T23:54:22.256683Z",
     "iopub.status.busy": "2023-04-03T23:54:22.255828Z",
     "iopub.status.idle": "2023-04-03T23:54:22.262967Z",
     "shell.execute_reply": "2023-04-03T23:54:22.262139Z"
    },
    "papermill": {
     "duration": 0.062233,
     "end_time": "2023-04-03T23:54:22.265468",
     "exception": false,
     "start_time": "2023-04-03T23:54:22.203235",
     "status": "completed"
    },
    "tags": []
   },
   "outputs": [],
   "source": [
    "# #Versoin 31\n",
    "\n",
    "\n",
    "# num_cols = [\"HomePage\", \"HomePage_Duration\", \"LandingPage\", \"LandingPage_Duration\", \n",
    "#             \"ProductDescriptionPage\", \"ProductDescriptionPage_Duration\", \"GoogleMetric_Bounce_Rates\", \n",
    "#             \"GoogleMetric_Exit_Rates\", \"GoogleMetric_Page_Values\",\"SeasonalPurchase\"]\n",
    "# cat_cols = [\"OS\", \"SearchEngine\", \"Zone\", \"Type_of_Traffic\", \"CustomerType\", \"Gender\", \"Cookies_Setting\", \n",
    "#             \"Education\", \"Marital_Status\", \"Month_SeasonalPurchase\", \"WeekendPurchase\"]\n",
    "\n",
    "# train1 = train.copy()\n",
    "# test1 = test.copy()\n",
    "\n",
    "# #Imputer\n",
    "# ii = IterativeImputer(initial_strategy='median', max_iter=100)\n",
    "# simf = SimpleImputer(strategy='most_frequent')\n",
    "# simd = SimpleImputer(strategy='median')\n",
    "\n",
    "# # train1[num_cols] = simd.fit_transform(train[num_cols])\n",
    "# # test1[num_cols] = simd.transform(test[num_cols])\n",
    "\n",
    "# # train1[cat_cols] = simf.fit_transform(train[cat_cols])\n",
    "# # test1[cat_cols] = simf.transform(test[cat_cols])\n",
    "\n",
    "# train1 = train.fillna(train.mode().iloc[0])\n",
    "# test1 = test.fillna(test.mode().iloc[0])\n",
    "\n",
    "# #log Scaling\n",
    "# train1[num_cols] = np.log(train1[num_cols]+1)\n",
    "# train1[num_cols] = simd.fit_transform(train1[num_cols])\n",
    "\n",
    "# test1[num_cols] = np.log(test1[num_cols]+1)\n",
    "# test1[num_cols] = simd.fit_transform(test1[num_cols])\n",
    "\n",
    "# # #Applying scaling transformation\n",
    "# scaler = StandardScaler()\n",
    "# train1[num_cols] = scaler.fit_transform(train1[num_cols])\n",
    "# test1[num_cols] = scaler.transform(test1[num_cols])\n",
    "# print(f'After scaling, shape of the train and test {train1.shape}, {test1.shape}')\n",
    "\n",
    "# # Encode categorical variables using one-hot encoding\n",
    "# data = pd.concat((train1,test1),axis=0)\n",
    "# data_ohe = pd.get_dummies(data)\n",
    "# train_data = data_ohe.iloc[:-6599,:]\n",
    "# test_data = data_ohe.iloc[-6599:,:]\n",
    "# print(f'After encoding, shape of the train and test {train_data.shape}, {test_data.shape}')\n",
    "\n",
    "# #Applying model\n",
    "# clf = MLPClassifier(random_state=0, max_iter=1000, activation='logistic', solver='sgd')\n",
    "# # clf = RFECV(clf1,cv=5, scoring=\"f1_weighted\")\n",
    "\n",
    "# X_train, X_test, y_train, y_test = train_test_split(train_data,y,test_size=0.15,stratify=y)\n",
    "# print(X_train.shape, y_train.shape, X_test.shape, y_test.shape)\n",
    "\n",
    "# clf.fit(X_train, y_train)\n",
    "# y_pred = clf.predict(X_test)\n",
    "# print('Validation f1 - ',f1_score(y_test, y_pred, average='weighted'))\n",
    "\n",
    "# clf.fit(train_data,y)\n",
    "# y_pred = clf.predict(train_data)\n",
    "# print('train f1 - ',f1_score(y, y_pred, average='weighted'))\n",
    "\n",
    "# cv = cross_validate(clf,train_data, y, scoring=\"f1_weighted\",cv=5)\n",
    "# print('Cross val f1 - ',max(cv['test_score']))\n",
    " \n",
    "# y_pred = clf.predict(test_data)\n",
    "# # print('Cross val f1 - ', max(cross_val_score(clf,train,y,scoring=('f1_weighted'),cv=5)))\n",
    "# output = pd.DataFrame({'id':range(len(y_pred)),'Made_Purchase':y_pred})\n",
    "# output.to_csv('submission.csv',index=False)"
   ]
  },
  {
   "cell_type": "markdown",
   "id": "611e39cd",
   "metadata": {
    "papermill": {
     "duration": 0.052786,
     "end_time": "2023-04-03T23:54:22.369403",
     "exception": false,
     "start_time": "2023-04-03T23:54:22.316617",
     "status": "completed"
    },
    "tags": []
   },
   "source": [
    "Validation f1 -  0.6166792534253965\n",
    "train f1 -  0.6219973485353057\n",
    "Cross val f1 -  0.5784852656720628\n",
    "test - 0.64388"
   ]
  },
  {
   "cell_type": "code",
   "execution_count": 134,
   "id": "8257135e",
   "metadata": {
    "execution": {
     "iopub.execute_input": "2023-04-03T23:54:22.475829Z",
     "iopub.status.busy": "2023-04-03T23:54:22.474956Z",
     "iopub.status.idle": "2023-04-03T23:54:22.482404Z",
     "shell.execute_reply": "2023-04-03T23:54:22.481488Z"
    },
    "papermill": {
     "duration": 0.063946,
     "end_time": "2023-04-03T23:54:22.484856",
     "exception": false,
     "start_time": "2023-04-03T23:54:22.420910",
     "status": "completed"
    },
    "tags": []
   },
   "outputs": [],
   "source": [
    "# #Versoin 32\n",
    "\n",
    "\n",
    "# num_cols = [\"HomePage\", \"HomePage_Duration\", \"LandingPage\", \"LandingPage_Duration\", \n",
    "#             \"ProductDescriptionPage\", \"ProductDescriptionPage_Duration\", \"GoogleMetric_Bounce_Rates\", \n",
    "#             \"GoogleMetric_Exit_Rates\", \"GoogleMetric_Page_Values\",\"SeasonalPurchase\"]\n",
    "# cat_cols = [\"OS\", \"SearchEngine\", \"Zone\", \"Type_of_Traffic\", \"CustomerType\", \"Gender\", \"Cookies_Setting\", \n",
    "#             \"Education\", \"Marital_Status\", \"Month_SeasonalPurchase\", \"WeekendPurchase\"]\n",
    "\n",
    "# train1 = train.copy()\n",
    "# test1 = test.copy()\n",
    "\n",
    "# #Imputer\n",
    "# ii = IterativeImputer(initial_strategy='median', max_iter=100)\n",
    "# simf = SimpleImputer(strategy='most_frequent')\n",
    "# simd = SimpleImputer(strategy='median')\n",
    "\n",
    "# # train1[num_cols] = simd.fit_transform(train[num_cols])\n",
    "# # test1[num_cols] = simd.transform(test[num_cols])\n",
    "\n",
    "# # train1[cat_cols] = simf.fit_transform(train[cat_cols])\n",
    "# # test1[cat_cols] = simf.transform(test[cat_cols])\n",
    "\n",
    "# train1 = train.fillna(train.mode().iloc[0])\n",
    "# test1 = test.fillna(test.mode().iloc[0])\n",
    "\n",
    "# #log Scaling\n",
    "# train1[num_cols] = np.log(train1[num_cols]+1)\n",
    "# train1[num_cols] = simd.fit_transform(train1[num_cols])\n",
    "\n",
    "# test1[num_cols] = np.log(test1[num_cols]+1)\n",
    "# test1[num_cols] = simd.fit_transform(test1[num_cols])\n",
    "\n",
    "# # #Applying scaling transformation\n",
    "# scaler = StandardScaler()\n",
    "# train1[num_cols] = scaler.fit_transform(train1[num_cols])\n",
    "# test1[num_cols] = scaler.transform(test1[num_cols])\n",
    "# print(f'After scaling, shape of the train and test {train1.shape}, {test1.shape}')\n",
    "\n",
    "# # Encode categorical variables using one-hot encoding\n",
    "# data = pd.concat((train1,test1),axis=0)\n",
    "# data_ohe = pd.get_dummies(data)\n",
    "# train_data = data_ohe.iloc[:-6599,:]\n",
    "# test_data = data_ohe.iloc[-6599:,:]\n",
    "# print(f'After encoding, shape of the train and test {train_data.shape}, {test_data.shape}')\n",
    "\n",
    "# #Applying model\n",
    "# clf = MLPClassifier(random_state=0, max_iter=1000, activation='logistic', solver='sgd')\n",
    "# # clf = RFECV(clf1,cv=5, scoring=\"f1_weighted\")\n",
    "\n",
    "# X_train, X_test, y_train, y_test = train_test_split(train_data,y,test_size=0.15,stratify=y)\n",
    "# print(X_train.shape, y_train.shape, X_test.shape, y_test.shape)\n",
    "\n",
    "# clf.fit(X_train, y_train)\n",
    "# y_pred = clf.predict(X_test)\n",
    "# print('Validation f1 - ',f1_score(y_test, y_pred, average='weighted'))\n",
    "\n",
    "# clf.fit(train_data,y)\n",
    "# y_pred = clf.predict(train_data)\n",
    "# print('train f1 - ',f1_score(y, y_pred, average='weighted'))\n",
    "\n",
    "# cv = cross_validate(clf,train_data, y, scoring=\"f1_weighted\",cv=5)\n",
    "# print('Cross val f1 - ',max(cv['test_score']))\n",
    " \n",
    "# y_pred = clf.predict(test_data)\n",
    "# # print('Cross val f1 - ', max(cross_val_score(clf,train,y,scoring=('f1_weighted'),cv=5)))\n",
    "# output = pd.DataFrame({'id':range(len(y_pred)),'Made_Purchase':y_pred})\n",
    "# output.to_csv('submission.csv',index=False)"
   ]
  },
  {
   "cell_type": "code",
   "execution_count": 135,
   "id": "652131ea",
   "metadata": {
    "execution": {
     "iopub.execute_input": "2023-04-03T23:54:22.588331Z",
     "iopub.status.busy": "2023-04-03T23:54:22.587625Z",
     "iopub.status.idle": "2023-04-03T23:54:22.592559Z",
     "shell.execute_reply": "2023-04-03T23:54:22.591777Z"
    },
    "papermill": {
     "duration": 0.059201,
     "end_time": "2023-04-03T23:54:22.594863",
     "exception": false,
     "start_time": "2023-04-03T23:54:22.535662",
     "status": "completed"
    },
    "tags": []
   },
   "outputs": [],
   "source": [
    "# # Version 42\n",
    "\n",
    "# #Fitting to model with train data\n",
    "# mlpc.fit(train_out, target_out)\n",
    "\n",
    "# #Predicting on test data\n",
    "# y_pred = mlpc.predict(test_pp)\n",
    "# output = pd.DataFrame({'id':range(len(y_pred)),'Made_Purchase':y_pred})\n",
    "# output.to_csv('submission.csv',index=False)\n",
    "\n",
    "# # train f1 -  0.615642\n",
    "# # val f1 - 0.620789\n",
    "# # Cross val f1 - 0.590821\n",
    "# # test f1 - 0.64464"
   ]
  },
  {
   "cell_type": "code",
   "execution_count": 136,
   "id": "d36493f0",
   "metadata": {
    "execution": {
     "iopub.execute_input": "2023-04-03T23:54:22.698604Z",
     "iopub.status.busy": "2023-04-03T23:54:22.697924Z",
     "iopub.status.idle": "2023-04-03T23:54:22.703070Z",
     "shell.execute_reply": "2023-04-03T23:54:22.702203Z"
    },
    "papermill": {
     "duration": 0.059576,
     "end_time": "2023-04-03T23:54:22.705347",
     "exception": false,
     "start_time": "2023-04-03T23:54:22.645771",
     "status": "completed"
    },
    "tags": []
   },
   "outputs": [],
   "source": [
    "# # HyperParameter Tuning\n",
    "\n",
    "# param_grid = {'hidden_layer_sizes':[50,100,150,200], 'activation':['identity','logistic','tanh','relu'], \n",
    "#               'solver':['lbfgs','sgd','adam'],'learning_rate':['constant','invscaling','adaptive']}\n",
    "# gscv = GridSearchCV(mlpc, param_grid=param_grid,cv=7, scoring='f1_weighted')\n",
    "\n",
    "# # print(apply({'gscv':gscv},train_out,target_out))\n",
    "\n",
    "# #Fitting to model with train data\n",
    "# gscv.fit(train_out, target_out)\n",
    "# print(gscv.best_params_)\n",
    "# # Best params - {'hidden_layer_sizes':200,'activation':'logistic','solver':'sgd','learning_rate':'adaptive'}\n",
    "# print(gscv.best_score_)\n",
    "# #Best score 0.58"
   ]
  },
  {
   "cell_type": "code",
   "execution_count": 137,
   "id": "54ce031b",
   "metadata": {
    "execution": {
     "iopub.execute_input": "2023-04-03T23:54:22.809428Z",
     "iopub.status.busy": "2023-04-03T23:54:22.808738Z",
     "iopub.status.idle": "2023-04-03T23:54:22.814060Z",
     "shell.execute_reply": "2023-04-03T23:54:22.813092Z"
    },
    "papermill": {
     "duration": 0.059791,
     "end_time": "2023-04-03T23:54:22.816389",
     "exception": false,
     "start_time": "2023-04-03T23:54:22.756598",
     "status": "completed"
    },
    "tags": []
   },
   "outputs": [],
   "source": [
    "# # Version 44\n",
    "\n",
    "# mlpc = MLPClassifier(activation='logistic',solver='sgd',learning_rate='adaptive',random_state=42)\n",
    "\n",
    "# # print(apply({'mlpc':mlpc},train_pp,target_out))\n",
    "# #Fitting to model with train data\n",
    "# mlpc.fit(train_out, target_out)\n",
    "\n",
    "# #Predicting on test data\n",
    "# y_pred = mlpc.predict(test_pp)\n",
    "# output = pd.DataFrame({'id':range(len(y_pred)),'Made_Purchase':y_pred})\n",
    "# output.to_csv('submission.csv',index=False)\n",
    "\n",
    "# # train f1 -  0.616515\n",
    "# # val f1 - 0.62622\n",
    "# # Cross val f1 - 0.591165\n",
    "# # test f1 - 0.64403"
   ]
  },
  {
   "cell_type": "code",
   "execution_count": 138,
   "id": "5c027b07",
   "metadata": {
    "execution": {
     "iopub.execute_input": "2023-04-03T23:54:22.920458Z",
     "iopub.status.busy": "2023-04-03T23:54:22.919779Z",
     "iopub.status.idle": "2023-04-03T23:54:22.925117Z",
     "shell.execute_reply": "2023-04-03T23:54:22.923976Z"
    },
    "papermill": {
     "duration": 0.059748,
     "end_time": "2023-04-03T23:54:22.927552",
     "exception": false,
     "start_time": "2023-04-03T23:54:22.867804",
     "status": "completed"
    },
    "tags": []
   },
   "outputs": [],
   "source": [
    "# # Version 45\n",
    "\n",
    "# mlpc = MLPClassifier(activation='logistic',solver='sgd',hidden_layer_sizes=200,learning_rate='adaptive',random_state=42)\n",
    "\n",
    "# # print(apply({'mlpc':mlpc},train_pp,target_out))\n",
    "# #Fitting to model with train data\n",
    "# mlpc.fit(train_out, target_out)\n",
    "\n",
    "# #Predicting on test data\n",
    "# y_pred = mlpc.predict(test_pp)\n",
    "# output = pd.DataFrame({'id':range(len(y_pred)),'Made_Purchase':y_pred})\n",
    "# output.to_csv('submission.csv',index=False)\n",
    "\n",
    "# # train f1 -  0.618184\n",
    "# # val f1 - 0.611715\n",
    "# # Cross val f1 - 0.595017\n",
    "# # test f1 - 0.64494"
   ]
  },
  {
   "cell_type": "code",
   "execution_count": 139,
   "id": "b384b57a",
   "metadata": {
    "execution": {
     "iopub.execute_input": "2023-04-03T23:54:23.031291Z",
     "iopub.status.busy": "2023-04-03T23:54:23.030587Z",
     "iopub.status.idle": "2023-04-03T23:54:23.035999Z",
     "shell.execute_reply": "2023-04-03T23:54:23.034972Z"
    },
    "papermill": {
     "duration": 0.06008,
     "end_time": "2023-04-03T23:54:23.038415",
     "exception": false,
     "start_time": "2023-04-03T23:54:22.978335",
     "status": "completed"
    },
    "tags": []
   },
   "outputs": [],
   "source": [
    "# mlpc = MLPClassifier(activation='logistic', alpha=0.05, batch_size='auto', beta_1=0.9,\n",
    "#               beta_2=0.999, early_stopping=False, epsilon=1e-08,\n",
    "#               hidden_layer_sizes=[100, 100, 50], learning_rate='constant',\n",
    "#               learning_rate_init=0.001, max_fun=15000, max_iter=500,\n",
    "#               momentum=0.9, n_iter_no_change=10, nesterovs_momentum=True,\n",
    "#               power_t=0.5, random_state=123, shuffle=True, solver='adam',\n",
    "#               tol=0.0001, validation_fraction=0.1, verbose=False,\n",
    "#               warm_start=False)\n",
    "\n",
    "\n",
    "# print(apply({'mlpc':mlpc},train_pca,target))\n",
    "\n",
    "# # train f1 - 0.623306\n",
    "# # val f1 - 0.61319\n",
    "# # cross val f1 - 0.674731\n",
    "# # test f1 - "
   ]
  }
 ],
 "metadata": {
  "kernelspec": {
   "display_name": "Python 3",
   "language": "python",
   "name": "python3"
  },
  "language_info": {
   "codemirror_mode": {
    "name": "ipython",
    "version": 3
   },
   "file_extension": ".py",
   "mimetype": "text/x-python",
   "name": "python",
   "nbconvert_exporter": "python",
   "pygments_lexer": "ipython3",
   "version": "3.7.12"
  },
  "papermill": {
   "default_parameters": {},
   "duration": 101.945669,
   "end_time": "2023-04-03T23:54:24.114825",
   "environment_variables": {},
   "exception": null,
   "input_path": "__notebook__.ipynb",
   "output_path": "__notebook__.ipynb",
   "parameters": {},
   "start_time": "2023-04-03T23:52:42.169156",
   "version": "2.4.0"
  }
 },
 "nbformat": 4,
 "nbformat_minor": 5
}
